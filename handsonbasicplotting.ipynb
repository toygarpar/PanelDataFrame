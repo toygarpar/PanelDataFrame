{
 "cells": [
  {
   "cell_type": "markdown",
   "id": "888944ef",
   "metadata": {},
   "source": [
    "Basic Plotting"
   ]
  },
  {
   "cell_type": "code",
   "execution_count": 2,
   "id": "1bfc939f",
   "metadata": {},
   "outputs": [],
   "source": [
    "import numpy as np\n",
    "import pandas as pd\n",
    "import matplotlib.pyplot as plt\n",
    "\n",
    "%matplotlib inline"
   ]
  },
  {
   "cell_type": "code",
   "execution_count": 3,
   "id": "b2515230",
   "metadata": {},
   "outputs": [
    {
     "data": {
      "application/vnd.microsoft.datawrangler.viewer.v0+json": {
       "columns": [
        {
         "name": "index",
         "rawType": "int64",
         "type": "integer"
        },
        {
         "name": "Timestamp",
         "rawType": "object",
         "type": "string"
        },
        {
         "name": "Price",
         "rawType": "float64",
         "type": "float"
        }
       ],
       "conversionMethod": "pd.DataFrame",
       "ref": "cc90a89a-ed3e-44da-a64e-9b06be259219",
       "rows": [
        [
         "0",
         "2017-04-02 00:00:00",
         "1099.169125"
        ],
        [
         "1",
         "2017-04-03 00:00:00",
         "1141.813"
        ],
        [
         "2",
         "2017-04-04 00:00:00",
         "1141.6003625"
        ],
        [
         "3",
         "2017-04-05 00:00:00",
         "1133.0793142857142"
        ],
        [
         "4",
         "2017-04-06 00:00:00",
         "1196.3079375"
        ]
       ],
       "shape": {
        "columns": 2,
        "rows": 5
       }
      },
      "text/html": [
       "<div>\n",
       "<style scoped>\n",
       "    .dataframe tbody tr th:only-of-type {\n",
       "        vertical-align: middle;\n",
       "    }\n",
       "\n",
       "    .dataframe tbody tr th {\n",
       "        vertical-align: top;\n",
       "    }\n",
       "\n",
       "    .dataframe thead th {\n",
       "        text-align: right;\n",
       "    }\n",
       "</style>\n",
       "<table border=\"1\" class=\"dataframe\">\n",
       "  <thead>\n",
       "    <tr style=\"text-align: right;\">\n",
       "      <th></th>\n",
       "      <th>Timestamp</th>\n",
       "      <th>Price</th>\n",
       "    </tr>\n",
       "  </thead>\n",
       "  <tbody>\n",
       "    <tr>\n",
       "      <th>0</th>\n",
       "      <td>2017-04-02 00:00:00</td>\n",
       "      <td>1099.169125</td>\n",
       "    </tr>\n",
       "    <tr>\n",
       "      <th>1</th>\n",
       "      <td>2017-04-03 00:00:00</td>\n",
       "      <td>1141.813000</td>\n",
       "    </tr>\n",
       "    <tr>\n",
       "      <th>2</th>\n",
       "      <td>2017-04-04 00:00:00</td>\n",
       "      <td>1141.600363</td>\n",
       "    </tr>\n",
       "    <tr>\n",
       "      <th>3</th>\n",
       "      <td>2017-04-05 00:00:00</td>\n",
       "      <td>1133.079314</td>\n",
       "    </tr>\n",
       "    <tr>\n",
       "      <th>4</th>\n",
       "      <td>2017-04-06 00:00:00</td>\n",
       "      <td>1196.307937</td>\n",
       "    </tr>\n",
       "  </tbody>\n",
       "</table>\n",
       "</div>"
      ],
      "text/plain": [
       "             Timestamp        Price\n",
       "0  2017-04-02 00:00:00  1099.169125\n",
       "1  2017-04-03 00:00:00  1141.813000\n",
       "2  2017-04-04 00:00:00  1141.600363\n",
       "3  2017-04-05 00:00:00  1133.079314\n",
       "4  2017-04-06 00:00:00  1196.307937"
      ]
     },
     "execution_count": 3,
     "metadata": {},
     "output_type": "execute_result"
    }
   ],
   "source": [
    "df = pd.read_csv(\"btc-market-price.csv\", header=None) # read in the data, do not infer headers\n",
    "df.columns = [\"Timestamp\", \"Price\"] # add headers\n",
    "df.head() # preview the data"
   ]
  },
  {
   "cell_type": "code",
   "execution_count": 4,
   "id": "3eee8979",
   "metadata": {},
   "outputs": [
    {
     "data": {
      "application/vnd.microsoft.datawrangler.viewer.v0+json": {
       "columns": [
        {
         "name": "index",
         "rawType": "int64",
         "type": "integer"
        },
        {
         "name": "Timestamp",
         "rawType": "object",
         "type": "string"
        },
        {
         "name": "Price",
         "rawType": "float64",
         "type": "float"
        }
       ],
       "conversionMethod": "pd.DataFrame",
       "ref": "8c267a81-82b4-4fb4-8be1-d981c8216ea3",
       "rows": [
        [
         "0",
         "2017-04-02 00:00:00",
         "1099.169125"
        ],
        [
         "1",
         "2017-04-03 00:00:00",
         "1141.813"
        ],
        [
         "2",
         "2017-04-04 00:00:00",
         "1141.6003625"
        ],
        [
         "3",
         "2017-04-05 00:00:00",
         "1133.0793142857142"
        ],
        [
         "4",
         "2017-04-06 00:00:00",
         "1196.3079375"
        ],
        [
         "5",
         "2017-04-07 00:00:00",
         "1190.45425"
        ],
        [
         "6",
         "2017-04-08 00:00:00",
         "1181.1498375"
        ],
        [
         "7",
         "2017-04-09 00:00:00",
         "1208.8005"
        ],
        [
         "8",
         "2017-04-10 00:00:00",
         "1207.744875"
        ],
        [
         "9",
         "2017-04-11 00:00:00",
         "1226.6170375"
        ],
        [
         "10",
         "2017-04-12 00:00:00",
         "1218.92205"
        ],
        [
         "11",
         "2017-04-13 00:00:00",
         "1180.0237125"
        ],
        [
         "12",
         "2017-04-14 00:00:00",
         "1185.2600571428572"
        ],
        [
         "13",
         "2017-04-15 00:00:00",
         "1184.8806714285713"
        ],
        [
         "14",
         "2017-04-16 00:00:00",
         "1186.9274125"
        ],
        [
         "15",
         "2017-04-17 00:00:00",
         "1205.634875"
        ],
        [
         "16",
         "2017-04-18 00:00:00",
         "1216.1867428571427"
        ],
        [
         "17",
         "2017-04-19 00:00:00",
         "1217.9300875"
        ],
        [
         "18",
         "2017-04-20 00:00:00",
         "1241.686325"
        ],
        [
         "19",
         "2017-04-21 00:00:00",
         "1258.3614125"
        ],
        [
         "20",
         "2017-04-22 00:00:00",
         "1261.311225"
        ],
        [
         "21",
         "2017-04-23 00:00:00",
         "1257.9881125"
        ],
        [
         "22",
         "2017-04-24 00:00:00",
         "1262.902775"
        ],
        [
         "23",
         "2017-04-25 00:00:00",
         "1279.4146875"
        ],
        [
         "24",
         "2017-04-26 00:00:00",
         "1309.109875"
        ],
        [
         "25",
         "2017-04-27 00:00:00",
         "1345.3539125"
        ],
        [
         "26",
         "2017-04-28 00:00:00",
         "1331.2944285714286"
        ],
        [
         "27",
         "2017-04-29 00:00:00",
         "1334.9790375"
        ],
        [
         "28",
         "2017-04-30 00:00:00",
         "1353.0045"
        ],
        [
         "29",
         "2017-05-01 00:00:00",
         "1417.1728125"
        ],
        [
         "30",
         "2017-05-02 00:00:00",
         "1452.0762875"
        ],
        [
         "31",
         "2017-05-03 00:00:00",
         "1507.5768571428573"
        ],
        [
         "32",
         "2017-05-04 00:00:00",
         "1508.292125"
        ],
        [
         "33",
         "2017-05-05 00:00:00",
         "1533.3350714285714"
        ],
        [
         "34",
         "2017-05-06 00:00:00",
         "1560.4102"
        ],
        [
         "35",
         "2017-05-07 00:00:00",
         "1535.8684285714285"
        ],
        [
         "36",
         "2017-05-08 00:00:00",
         "1640.619225"
        ],
        [
         "37",
         "2017-05-09 00:00:00",
         "1721.2849714285717"
        ],
        [
         "38",
         "2017-05-10 00:00:00",
         "1762.88625"
        ],
        [
         "39",
         "2017-05-11 00:00:00",
         "1820.9905625"
        ],
        [
         "40",
         "2017-05-12 00:00:00",
         "1720.4785"
        ],
        [
         "41",
         "2017-05-13 00:00:00",
         "1771.9200125"
        ],
        [
         "42",
         "2017-05-14 00:00:00",
         "1776.3165"
        ],
        [
         "43",
         "2017-05-15 00:00:00",
         "1723.1269375"
        ],
        [
         "44",
         "2017-05-16 00:00:00",
         "1739.031975"
        ],
        [
         "45",
         "2017-05-17 00:00:00",
         "1807.4850625"
        ],
        [
         "46",
         "2017-05-18 00:00:00",
         "1899.0828875"
        ],
        [
         "47",
         "2017-05-19 00:00:00",
         "1961.5204875"
        ],
        [
         "48",
         "2017-05-20 00:00:00",
         "2052.9097875"
        ],
        [
         "49",
         "2017-05-21 00:00:00",
         "2046.5344625"
        ]
       ],
       "shape": {
        "columns": 2,
        "rows": 365
       }
      },
      "text/html": [
       "<div>\n",
       "<style scoped>\n",
       "    .dataframe tbody tr th:only-of-type {\n",
       "        vertical-align: middle;\n",
       "    }\n",
       "\n",
       "    .dataframe tbody tr th {\n",
       "        vertical-align: top;\n",
       "    }\n",
       "\n",
       "    .dataframe thead th {\n",
       "        text-align: right;\n",
       "    }\n",
       "</style>\n",
       "<table border=\"1\" class=\"dataframe\">\n",
       "  <thead>\n",
       "    <tr style=\"text-align: right;\">\n",
       "      <th></th>\n",
       "      <th>Timestamp</th>\n",
       "      <th>Price</th>\n",
       "    </tr>\n",
       "  </thead>\n",
       "  <tbody>\n",
       "    <tr>\n",
       "      <th>0</th>\n",
       "      <td>2017-04-02 00:00:00</td>\n",
       "      <td>1099.169125</td>\n",
       "    </tr>\n",
       "    <tr>\n",
       "      <th>1</th>\n",
       "      <td>2017-04-03 00:00:00</td>\n",
       "      <td>1141.813000</td>\n",
       "    </tr>\n",
       "    <tr>\n",
       "      <th>2</th>\n",
       "      <td>2017-04-04 00:00:00</td>\n",
       "      <td>1141.600363</td>\n",
       "    </tr>\n",
       "    <tr>\n",
       "      <th>3</th>\n",
       "      <td>2017-04-05 00:00:00</td>\n",
       "      <td>1133.079314</td>\n",
       "    </tr>\n",
       "    <tr>\n",
       "      <th>4</th>\n",
       "      <td>2017-04-06 00:00:00</td>\n",
       "      <td>1196.307937</td>\n",
       "    </tr>\n",
       "    <tr>\n",
       "      <th>...</th>\n",
       "      <td>...</td>\n",
       "      <td>...</td>\n",
       "    </tr>\n",
       "    <tr>\n",
       "      <th>360</th>\n",
       "      <td>2018-03-28 00:00:00</td>\n",
       "      <td>7960.380000</td>\n",
       "    </tr>\n",
       "    <tr>\n",
       "      <th>361</th>\n",
       "      <td>2018-03-29 00:00:00</td>\n",
       "      <td>7172.280000</td>\n",
       "    </tr>\n",
       "    <tr>\n",
       "      <th>362</th>\n",
       "      <td>2018-03-30 00:00:00</td>\n",
       "      <td>6882.531667</td>\n",
       "    </tr>\n",
       "    <tr>\n",
       "      <th>363</th>\n",
       "      <td>2018-03-31 00:00:00</td>\n",
       "      <td>6935.480000</td>\n",
       "    </tr>\n",
       "    <tr>\n",
       "      <th>364</th>\n",
       "      <td>2018-04-01 00:00:00</td>\n",
       "      <td>6794.105000</td>\n",
       "    </tr>\n",
       "  </tbody>\n",
       "</table>\n",
       "<p>365 rows × 2 columns</p>\n",
       "</div>"
      ],
      "text/plain": [
       "               Timestamp        Price\n",
       "0    2017-04-02 00:00:00  1099.169125\n",
       "1    2017-04-03 00:00:00  1141.813000\n",
       "2    2017-04-04 00:00:00  1141.600363\n",
       "3    2017-04-05 00:00:00  1133.079314\n",
       "4    2017-04-06 00:00:00  1196.307937\n",
       "..                   ...          ...\n",
       "360  2018-03-28 00:00:00  7960.380000\n",
       "361  2018-03-29 00:00:00  7172.280000\n",
       "362  2018-03-30 00:00:00  6882.531667\n",
       "363  2018-03-31 00:00:00  6935.480000\n",
       "364  2018-04-01 00:00:00  6794.105000\n",
       "\n",
       "[365 rows x 2 columns]"
      ]
     },
     "execution_count": 4,
     "metadata": {},
     "output_type": "execute_result"
    }
   ],
   "source": [
    "df # preview the data"
   ]
  },
  {
   "cell_type": "code",
   "execution_count": 5,
   "id": "c420163b",
   "metadata": {},
   "outputs": [
    {
     "data": {
      "text/plain": [
       "(365, 2)"
      ]
     },
     "execution_count": 5,
     "metadata": {},
     "output_type": "execute_result"
    }
   ],
   "source": [
    "df.shape # check the shape of the DataFrame"
   ]
  },
  {
   "cell_type": "code",
   "execution_count": 6,
   "id": "d1f66d7c",
   "metadata": {},
   "outputs": [
    {
     "name": "stdout",
     "output_type": "stream",
     "text": [
      "<class 'pandas.core.frame.DataFrame'>\n",
      "RangeIndex: 365 entries, 0 to 364\n",
      "Data columns (total 2 columns):\n",
      " #   Column     Non-Null Count  Dtype  \n",
      "---  ------     --------------  -----  \n",
      " 0   Timestamp  365 non-null    object \n",
      " 1   Price      365 non-null    float64\n",
      "dtypes: float64(1), object(1)\n",
      "memory usage: 5.8+ KB\n"
     ]
    }
   ],
   "source": [
    "df.info() # check the info of the DataFrame"
   ]
  },
  {
   "cell_type": "code",
   "execution_count": 7,
   "id": "f45c8dd4",
   "metadata": {},
   "outputs": [
    {
     "data": {
      "application/vnd.microsoft.datawrangler.viewer.v0+json": {
       "columns": [
        {
         "name": "index",
         "rawType": "object",
         "type": "string"
        },
        {
         "name": "count",
         "rawType": "float64",
         "type": "float"
        },
        {
         "name": "mean",
         "rawType": "float64",
         "type": "float"
        },
        {
         "name": "std",
         "rawType": "float64",
         "type": "float"
        },
        {
         "name": "min",
         "rawType": "float64",
         "type": "float"
        },
        {
         "name": "25%",
         "rawType": "float64",
         "type": "float"
        },
        {
         "name": "50%",
         "rawType": "float64",
         "type": "float"
        },
        {
         "name": "75%",
         "rawType": "float64",
         "type": "float"
        },
        {
         "name": "max",
         "rawType": "float64",
         "type": "float"
        }
       ],
       "conversionMethod": "pd.DataFrame",
       "ref": "42ef7ac4-54e1-4c23-b4fb-f94e0757868e",
       "rows": [
        [
         "Price",
         "365.0",
         "6359.574241000822",
         "4528.878870266768",
         "1099.169125",
         "2585.349185714286",
         "4594.98785",
         "9182.843333333332",
         "19498.68333333333"
        ]
       ],
       "shape": {
        "columns": 8,
        "rows": 1
       }
      },
      "text/html": [
       "<div>\n",
       "<style scoped>\n",
       "    .dataframe tbody tr th:only-of-type {\n",
       "        vertical-align: middle;\n",
       "    }\n",
       "\n",
       "    .dataframe tbody tr th {\n",
       "        vertical-align: top;\n",
       "    }\n",
       "\n",
       "    .dataframe thead th {\n",
       "        text-align: right;\n",
       "    }\n",
       "</style>\n",
       "<table border=\"1\" class=\"dataframe\">\n",
       "  <thead>\n",
       "    <tr style=\"text-align: right;\">\n",
       "      <th></th>\n",
       "      <th>count</th>\n",
       "      <th>mean</th>\n",
       "      <th>std</th>\n",
       "      <th>min</th>\n",
       "      <th>25%</th>\n",
       "      <th>50%</th>\n",
       "      <th>75%</th>\n",
       "      <th>max</th>\n",
       "    </tr>\n",
       "  </thead>\n",
       "  <tbody>\n",
       "    <tr>\n",
       "      <th>Price</th>\n",
       "      <td>365.0</td>\n",
       "      <td>6359.574241</td>\n",
       "      <td>4528.87887</td>\n",
       "      <td>1099.169125</td>\n",
       "      <td>2585.349186</td>\n",
       "      <td>4594.98785</td>\n",
       "      <td>9182.843333</td>\n",
       "      <td>19498.683333</td>\n",
       "    </tr>\n",
       "  </tbody>\n",
       "</table>\n",
       "</div>"
      ],
      "text/plain": [
       "       count         mean         std          min          25%         50%  \\\n",
       "Price  365.0  6359.574241  4528.87887  1099.169125  2585.349186  4594.98785   \n",
       "\n",
       "               75%           max  \n",
       "Price  9182.843333  19498.683333  "
      ]
     },
     "execution_count": 7,
     "metadata": {},
     "output_type": "execute_result"
    }
   ],
   "source": [
    "df.describe().T # get a statistical summary"
   ]
  },
  {
   "cell_type": "code",
   "execution_count": 8,
   "id": "bbf1c3c0",
   "metadata": {},
   "outputs": [
    {
     "data": {
      "text/plain": [
       "Timestamp     object\n",
       "Price        float64\n",
       "dtype: object"
      ]
     },
     "execution_count": 8,
     "metadata": {},
     "output_type": "execute_result"
    }
   ],
   "source": [
    "df.dtypes # check the data types"
   ]
  },
  {
   "cell_type": "code",
   "execution_count": 9,
   "id": "53e7bb74",
   "metadata": {},
   "outputs": [
    {
     "data": {
      "application/vnd.microsoft.datawrangler.viewer.v0+json": {
       "columns": [
        {
         "name": "index",
         "rawType": "int64",
         "type": "integer"
        },
        {
         "name": "Timestamp",
         "rawType": "object",
         "type": "string"
        },
        {
         "name": "Price",
         "rawType": "float64",
         "type": "float"
        }
       ],
       "conversionMethod": "pd.DataFrame",
       "ref": "35dde4f8-5651-4ab7-b294-c658413d17d6",
       "rows": [
        [
         "0",
         "2017-04-02",
         "1099.169125"
        ],
        [
         "1",
         "2017-04-03",
         "1141.813"
        ],
        [
         "2",
         "2017-04-04",
         "1141.6003625"
        ],
        [
         "3",
         "2017-04-05",
         "1133.0793142857142"
        ],
        [
         "4",
         "2017-04-06",
         "1196.3079375"
        ]
       ],
       "shape": {
        "columns": 2,
        "rows": 5
       }
      },
      "text/html": [
       "<div>\n",
       "<style scoped>\n",
       "    .dataframe tbody tr th:only-of-type {\n",
       "        vertical-align: middle;\n",
       "    }\n",
       "\n",
       "    .dataframe tbody tr th {\n",
       "        vertical-align: top;\n",
       "    }\n",
       "\n",
       "    .dataframe thead th {\n",
       "        text-align: right;\n",
       "    }\n",
       "</style>\n",
       "<table border=\"1\" class=\"dataframe\">\n",
       "  <thead>\n",
       "    <tr style=\"text-align: right;\">\n",
       "      <th></th>\n",
       "      <th>Timestamp</th>\n",
       "      <th>Price</th>\n",
       "    </tr>\n",
       "  </thead>\n",
       "  <tbody>\n",
       "    <tr>\n",
       "      <th>0</th>\n",
       "      <td>2017-04-02</td>\n",
       "      <td>1099.169125</td>\n",
       "    </tr>\n",
       "    <tr>\n",
       "      <th>1</th>\n",
       "      <td>2017-04-03</td>\n",
       "      <td>1141.813000</td>\n",
       "    </tr>\n",
       "    <tr>\n",
       "      <th>2</th>\n",
       "      <td>2017-04-04</td>\n",
       "      <td>1141.600363</td>\n",
       "    </tr>\n",
       "    <tr>\n",
       "      <th>3</th>\n",
       "      <td>2017-04-05</td>\n",
       "      <td>1133.079314</td>\n",
       "    </tr>\n",
       "    <tr>\n",
       "      <th>4</th>\n",
       "      <td>2017-04-06</td>\n",
       "      <td>1196.307937</td>\n",
       "    </tr>\n",
       "  </tbody>\n",
       "</table>\n",
       "</div>"
      ],
      "text/plain": [
       "    Timestamp        Price\n",
       "0  2017-04-02  1099.169125\n",
       "1  2017-04-03  1141.813000\n",
       "2  2017-04-04  1141.600363\n",
       "3  2017-04-05  1133.079314\n",
       "4  2017-04-06  1196.307937"
      ]
     },
     "execution_count": 9,
     "metadata": {},
     "output_type": "execute_result"
    }
   ],
   "source": [
    "df[\"Timestamp\"] = pd.to_datetime(df[\"Timestamp\"]).dt.strftime(\"%Y-%m-%d\") # convert the Timestamp column to datetime nad then  format it as a string in YYYY-MM-DD format using strftime()\n",
    "df.head() # preview the data"
   ]
  },
  {
   "cell_type": "code",
   "execution_count": 10,
   "id": "3b272685",
   "metadata": {},
   "outputs": [
    {
     "name": "stdout",
     "output_type": "stream",
     "text": [
      "<class 'pandas.core.frame.DataFrame'>\n",
      "RangeIndex: 365 entries, 0 to 364\n",
      "Data columns (total 2 columns):\n",
      " #   Column     Non-Null Count  Dtype  \n",
      "---  ------     --------------  -----  \n",
      " 0   Timestamp  365 non-null    object \n",
      " 1   Price      365 non-null    float64\n",
      "dtypes: float64(1), object(1)\n",
      "memory usage: 5.8+ KB\n"
     ]
    }
   ],
   "source": [
    "df.info()"
   ]
  },
  {
   "cell_type": "code",
   "execution_count": 11,
   "id": "006ebbe5",
   "metadata": {},
   "outputs": [
    {
     "name": "stdout",
     "output_type": "stream",
     "text": [
      "<class 'pandas.core.frame.DataFrame'>\n",
      "RangeIndex: 365 entries, 0 to 364\n",
      "Data columns (total 2 columns):\n",
      " #   Column     Non-Null Count  Dtype         \n",
      "---  ------     --------------  -----         \n",
      " 0   Timestamp  365 non-null    datetime64[ns]\n",
      " 1   Price      365 non-null    float64       \n",
      "dtypes: datetime64[ns](1), float64(1)\n",
      "memory usage: 5.8 KB\n"
     ]
    }
   ],
   "source": [
    "df[\"Timestamp\"] = pd.to_datetime(df[\"Timestamp\"]) # convert the Timestamp column to datetime\n",
    "df.info() # check the info of the DataFrame"
   ]
  },
  {
   "cell_type": "code",
   "execution_count": 12,
   "id": "910a6bfb",
   "metadata": {},
   "outputs": [
    {
     "data": {
      "application/vnd.microsoft.datawrangler.viewer.v0+json": {
       "columns": [
        {
         "name": "Timestamp",
         "rawType": "datetime64[ns]",
         "type": "datetime"
        },
        {
         "name": "Price",
         "rawType": "float64",
         "type": "float"
        }
       ],
       "conversionMethod": "pd.DataFrame",
       "ref": "5f3b8712-5ffa-476a-8bd0-293347c40b7d",
       "rows": [
        [
         "2017-04-02 00:00:00",
         "1099.169125"
        ],
        [
         "2017-04-03 00:00:00",
         "1141.813"
        ],
        [
         "2017-04-04 00:00:00",
         "1141.6003625"
        ],
        [
         "2017-04-05 00:00:00",
         "1133.0793142857142"
        ],
        [
         "2017-04-06 00:00:00",
         "1196.3079375"
        ]
       ],
       "shape": {
        "columns": 1,
        "rows": 5
       }
      },
      "text/html": [
       "<div>\n",
       "<style scoped>\n",
       "    .dataframe tbody tr th:only-of-type {\n",
       "        vertical-align: middle;\n",
       "    }\n",
       "\n",
       "    .dataframe tbody tr th {\n",
       "        vertical-align: top;\n",
       "    }\n",
       "\n",
       "    .dataframe thead th {\n",
       "        text-align: right;\n",
       "    }\n",
       "</style>\n",
       "<table border=\"1\" class=\"dataframe\">\n",
       "  <thead>\n",
       "    <tr style=\"text-align: right;\">\n",
       "      <th></th>\n",
       "      <th>Price</th>\n",
       "    </tr>\n",
       "    <tr>\n",
       "      <th>Timestamp</th>\n",
       "      <th></th>\n",
       "    </tr>\n",
       "  </thead>\n",
       "  <tbody>\n",
       "    <tr>\n",
       "      <th>2017-04-02</th>\n",
       "      <td>1099.169125</td>\n",
       "    </tr>\n",
       "    <tr>\n",
       "      <th>2017-04-03</th>\n",
       "      <td>1141.813000</td>\n",
       "    </tr>\n",
       "    <tr>\n",
       "      <th>2017-04-04</th>\n",
       "      <td>1141.600363</td>\n",
       "    </tr>\n",
       "    <tr>\n",
       "      <th>2017-04-05</th>\n",
       "      <td>1133.079314</td>\n",
       "    </tr>\n",
       "    <tr>\n",
       "      <th>2017-04-06</th>\n",
       "      <td>1196.307937</td>\n",
       "    </tr>\n",
       "  </tbody>\n",
       "</table>\n",
       "</div>"
      ],
      "text/plain": [
       "                  Price\n",
       "Timestamp              \n",
       "2017-04-02  1099.169125\n",
       "2017-04-03  1141.813000\n",
       "2017-04-04  1141.600363\n",
       "2017-04-05  1133.079314\n",
       "2017-04-06  1196.307937"
      ]
     },
     "execution_count": 12,
     "metadata": {},
     "output_type": "execute_result"
    }
   ],
   "source": [
    "df.set_index(\"Timestamp\", inplace=True) # set the Timestamp column as the index\n",
    "df.head() # preview the data"
   ]
  },
  {
   "cell_type": "code",
   "execution_count": 13,
   "id": "df391992",
   "metadata": {},
   "outputs": [
    {
     "data": {
      "text/plain": [
       "Price    4193.574667\n",
       "Name: 2017-09-29 00:00:00, dtype: float64"
      ]
     },
     "execution_count": 13,
     "metadata": {},
     "output_type": "execute_result"
    }
   ],
   "source": [
    "df.loc[\"2017-09-29\"]"
   ]
  },
  {
   "cell_type": "code",
   "execution_count": 14,
   "id": "05488f02",
   "metadata": {},
   "outputs": [
    {
     "data": {
      "application/vnd.microsoft.datawrangler.viewer.v0+json": {
       "columns": [
        {
         "name": "Timestamp",
         "rawType": "datetime64[ns]",
         "type": "datetime"
        },
        {
         "name": "Price",
         "rawType": "float64",
         "type": "float"
        }
       ],
       "conversionMethod": "pd.DataFrame",
       "ref": "41bce5f8-648e-41f0-a752-8f4656771620",
       "rows": [
        [
         "2017-04-02 00:00:00",
         "1099.169125"
        ],
        [
         "2017-04-03 00:00:00",
         "1141.813"
        ],
        [
         "2017-04-04 00:00:00",
         "1141.6003625"
        ],
        [
         "2017-04-05 00:00:00",
         "1133.0793142857142"
        ],
        [
         "2017-04-06 00:00:00",
         "1196.3079375"
        ],
        [
         "2017-04-07 00:00:00",
         "1190.45425"
        ],
        [
         "2017-04-08 00:00:00",
         "1181.1498375"
        ],
        [
         "2017-04-09 00:00:00",
         "1208.8005"
        ],
        [
         "2017-04-10 00:00:00",
         "1207.744875"
        ],
        [
         "2017-04-11 00:00:00",
         "1226.6170375"
        ],
        [
         "2017-04-12 00:00:00",
         "1218.92205"
        ],
        [
         "2017-04-13 00:00:00",
         "1180.0237125"
        ],
        [
         "2017-04-14 00:00:00",
         "1185.2600571428572"
        ],
        [
         "2017-04-15 00:00:00",
         "1184.8806714285713"
        ],
        [
         "2017-04-16 00:00:00",
         "1186.9274125"
        ],
        [
         "2017-04-17 00:00:00",
         "1205.634875"
        ],
        [
         "2017-04-18 00:00:00",
         "1216.1867428571427"
        ],
        [
         "2017-04-19 00:00:00",
         "1217.9300875"
        ],
        [
         "2017-04-20 00:00:00",
         "1241.686325"
        ],
        [
         "2017-04-21 00:00:00",
         "1258.3614125"
        ],
        [
         "2017-04-22 00:00:00",
         "1261.311225"
        ],
        [
         "2017-04-23 00:00:00",
         "1257.9881125"
        ],
        [
         "2017-04-24 00:00:00",
         "1262.902775"
        ],
        [
         "2017-04-25 00:00:00",
         "1279.4146875"
        ],
        [
         "2017-04-26 00:00:00",
         "1309.109875"
        ],
        [
         "2017-04-27 00:00:00",
         "1345.3539125"
        ],
        [
         "2017-04-28 00:00:00",
         "1331.2944285714286"
        ],
        [
         "2017-04-29 00:00:00",
         "1334.9790375"
        ],
        [
         "2017-04-30 00:00:00",
         "1353.0045"
        ],
        [
         "2017-05-01 00:00:00",
         "1417.1728125"
        ],
        [
         "2017-05-02 00:00:00",
         "1452.0762875"
        ],
        [
         "2017-05-03 00:00:00",
         "1507.5768571428573"
        ],
        [
         "2017-05-04 00:00:00",
         "1508.292125"
        ],
        [
         "2017-05-05 00:00:00",
         "1533.3350714285714"
        ],
        [
         "2017-05-06 00:00:00",
         "1560.4102"
        ],
        [
         "2017-05-07 00:00:00",
         "1535.8684285714285"
        ],
        [
         "2017-05-08 00:00:00",
         "1640.619225"
        ],
        [
         "2017-05-09 00:00:00",
         "1721.2849714285717"
        ],
        [
         "2017-05-10 00:00:00",
         "1762.88625"
        ],
        [
         "2017-05-11 00:00:00",
         "1820.9905625"
        ],
        [
         "2017-05-12 00:00:00",
         "1720.4785"
        ],
        [
         "2017-05-13 00:00:00",
         "1771.9200125"
        ],
        [
         "2017-05-14 00:00:00",
         "1776.3165"
        ],
        [
         "2017-05-15 00:00:00",
         "1723.1269375"
        ],
        [
         "2017-05-16 00:00:00",
         "1739.031975"
        ],
        [
         "2017-05-17 00:00:00",
         "1807.4850625"
        ],
        [
         "2017-05-18 00:00:00",
         "1899.0828875"
        ],
        [
         "2017-05-19 00:00:00",
         "1961.5204875"
        ],
        [
         "2017-05-20 00:00:00",
         "2052.9097875"
        ],
        [
         "2017-05-21 00:00:00",
         "2046.5344625"
        ]
       ],
       "shape": {
        "columns": 1,
        "rows": 365
       }
      },
      "text/html": [
       "<div>\n",
       "<style scoped>\n",
       "    .dataframe tbody tr th:only-of-type {\n",
       "        vertical-align: middle;\n",
       "    }\n",
       "\n",
       "    .dataframe tbody tr th {\n",
       "        vertical-align: top;\n",
       "    }\n",
       "\n",
       "    .dataframe thead th {\n",
       "        text-align: right;\n",
       "    }\n",
       "</style>\n",
       "<table border=\"1\" class=\"dataframe\">\n",
       "  <thead>\n",
       "    <tr style=\"text-align: right;\">\n",
       "      <th></th>\n",
       "      <th>Price</th>\n",
       "    </tr>\n",
       "    <tr>\n",
       "      <th>Timestamp</th>\n",
       "      <th></th>\n",
       "    </tr>\n",
       "  </thead>\n",
       "  <tbody>\n",
       "    <tr>\n",
       "      <th>2017-04-02</th>\n",
       "      <td>1099.169125</td>\n",
       "    </tr>\n",
       "    <tr>\n",
       "      <th>2017-04-03</th>\n",
       "      <td>1141.813000</td>\n",
       "    </tr>\n",
       "    <tr>\n",
       "      <th>2017-04-04</th>\n",
       "      <td>1141.600363</td>\n",
       "    </tr>\n",
       "    <tr>\n",
       "      <th>2017-04-05</th>\n",
       "      <td>1133.079314</td>\n",
       "    </tr>\n",
       "    <tr>\n",
       "      <th>2017-04-06</th>\n",
       "      <td>1196.307937</td>\n",
       "    </tr>\n",
       "    <tr>\n",
       "      <th>...</th>\n",
       "      <td>...</td>\n",
       "    </tr>\n",
       "    <tr>\n",
       "      <th>2018-03-28</th>\n",
       "      <td>7960.380000</td>\n",
       "    </tr>\n",
       "    <tr>\n",
       "      <th>2018-03-29</th>\n",
       "      <td>7172.280000</td>\n",
       "    </tr>\n",
       "    <tr>\n",
       "      <th>2018-03-30</th>\n",
       "      <td>6882.531667</td>\n",
       "    </tr>\n",
       "    <tr>\n",
       "      <th>2018-03-31</th>\n",
       "      <td>6935.480000</td>\n",
       "    </tr>\n",
       "    <tr>\n",
       "      <th>2018-04-01</th>\n",
       "      <td>6794.105000</td>\n",
       "    </tr>\n",
       "  </tbody>\n",
       "</table>\n",
       "<p>365 rows × 1 columns</p>\n",
       "</div>"
      ],
      "text/plain": [
       "                  Price\n",
       "Timestamp              \n",
       "2017-04-02  1099.169125\n",
       "2017-04-03  1141.813000\n",
       "2017-04-04  1141.600363\n",
       "2017-04-05  1133.079314\n",
       "2017-04-06  1196.307937\n",
       "...                 ...\n",
       "2018-03-28  7960.380000\n",
       "2018-03-29  7172.280000\n",
       "2018-03-30  6882.531667\n",
       "2018-03-31  6935.480000\n",
       "2018-04-01  6794.105000\n",
       "\n",
       "[365 rows x 1 columns]"
      ]
     },
     "execution_count": 14,
     "metadata": {},
     "output_type": "execute_result"
    }
   ],
   "source": [
    "#all steps in one cell\n",
    "\n",
    "df = pd.read_csv('btc-market-price.csv', header=None) # read in the data, do not infer headers\n",
    "df.columns = ['Timestamp', 'Price'] # add headers\n",
    "df['Timestamp'] = pd.to_datetime(df['Timestamp']) # convert the Timestamp column to datetime\n",
    "df.set_index('Timestamp', inplace=True) # set the Timestamp column as the index\n",
    "df"
   ]
  },
  {
   "cell_type": "code",
   "execution_count": 15,
   "id": "122e2bea",
   "metadata": {},
   "outputs": [
    {
     "data": {
      "application/vnd.microsoft.datawrangler.viewer.v0+json": {
       "columns": [
        {
         "name": "Timestamp",
         "rawType": "object",
         "type": "string"
        },
        {
         "name": "Price",
         "rawType": "float64",
         "type": "float"
        }
       ],
       "conversionMethod": "pd.DataFrame",
       "ref": "13679d4c-ada3-48b6-ad33-9dd93626f79d",
       "rows": [
        [
         "2017-04-02 00:00:00",
         "1099.169125"
        ],
        [
         "2017-04-03 00:00:00",
         "1141.813"
        ],
        [
         "2017-04-04 00:00:00",
         "1141.6003625"
        ],
        [
         "2017-04-05 00:00:00",
         "1133.0793142857142"
        ],
        [
         "2017-04-06 00:00:00",
         "1196.3079375"
        ],
        [
         "2017-04-07 00:00:00",
         "1190.45425"
        ],
        [
         "2017-04-08 00:00:00",
         "1181.1498375"
        ],
        [
         "2017-04-09 00:00:00",
         "1208.8005"
        ],
        [
         "2017-04-10 00:00:00",
         "1207.744875"
        ],
        [
         "2017-04-11 00:00:00",
         "1226.6170375"
        ],
        [
         "2017-04-12 00:00:00",
         "1218.92205"
        ],
        [
         "2017-04-13 00:00:00",
         "1180.0237125"
        ],
        [
         "2017-04-14 00:00:00",
         "1185.2600571428572"
        ],
        [
         "2017-04-15 00:00:00",
         "1184.8806714285713"
        ],
        [
         "2017-04-16 00:00:00",
         "1186.9274125"
        ],
        [
         "2017-04-17 00:00:00",
         "1205.634875"
        ],
        [
         "2017-04-18 00:00:00",
         "1216.1867428571427"
        ],
        [
         "2017-04-19 00:00:00",
         "1217.9300875"
        ],
        [
         "2017-04-20 00:00:00",
         "1241.686325"
        ],
        [
         "2017-04-21 00:00:00",
         "1258.3614125"
        ],
        [
         "2017-04-22 00:00:00",
         "1261.311225"
        ],
        [
         "2017-04-23 00:00:00",
         "1257.9881125"
        ],
        [
         "2017-04-24 00:00:00",
         "1262.902775"
        ],
        [
         "2017-04-25 00:00:00",
         "1279.4146875"
        ],
        [
         "2017-04-26 00:00:00",
         "1309.109875"
        ],
        [
         "2017-04-27 00:00:00",
         "1345.3539125"
        ],
        [
         "2017-04-28 00:00:00",
         "1331.2944285714286"
        ],
        [
         "2017-04-29 00:00:00",
         "1334.9790375"
        ],
        [
         "2017-04-30 00:00:00",
         "1353.0045"
        ],
        [
         "2017-05-01 00:00:00",
         "1417.1728125"
        ],
        [
         "2017-05-02 00:00:00",
         "1452.0762875"
        ],
        [
         "2017-05-03 00:00:00",
         "1507.5768571428573"
        ],
        [
         "2017-05-04 00:00:00",
         "1508.292125"
        ],
        [
         "2017-05-05 00:00:00",
         "1533.3350714285714"
        ],
        [
         "2017-05-06 00:00:00",
         "1560.4102"
        ],
        [
         "2017-05-07 00:00:00",
         "1535.8684285714285"
        ],
        [
         "2017-05-08 00:00:00",
         "1640.619225"
        ],
        [
         "2017-05-09 00:00:00",
         "1721.2849714285717"
        ],
        [
         "2017-05-10 00:00:00",
         "1762.88625"
        ],
        [
         "2017-05-11 00:00:00",
         "1820.9905625"
        ],
        [
         "2017-05-12 00:00:00",
         "1720.4785"
        ],
        [
         "2017-05-13 00:00:00",
         "1771.9200125"
        ],
        [
         "2017-05-14 00:00:00",
         "1776.3165"
        ],
        [
         "2017-05-15 00:00:00",
         "1723.1269375"
        ],
        [
         "2017-05-16 00:00:00",
         "1739.031975"
        ],
        [
         "2017-05-17 00:00:00",
         "1807.4850625"
        ],
        [
         "2017-05-18 00:00:00",
         "1899.0828875"
        ],
        [
         "2017-05-19 00:00:00",
         "1961.5204875"
        ],
        [
         "2017-05-20 00:00:00",
         "2052.9097875"
        ],
        [
         "2017-05-21 00:00:00",
         "2046.5344625"
        ]
       ],
       "shape": {
        "columns": 1,
        "rows": 365
       }
      },
      "text/html": [
       "<div>\n",
       "<style scoped>\n",
       "    .dataframe tbody tr th:only-of-type {\n",
       "        vertical-align: middle;\n",
       "    }\n",
       "\n",
       "    .dataframe tbody tr th {\n",
       "        vertical-align: top;\n",
       "    }\n",
       "\n",
       "    .dataframe thead th {\n",
       "        text-align: right;\n",
       "    }\n",
       "</style>\n",
       "<table border=\"1\" class=\"dataframe\">\n",
       "  <thead>\n",
       "    <tr style=\"text-align: right;\">\n",
       "      <th></th>\n",
       "      <th>Price</th>\n",
       "    </tr>\n",
       "    <tr>\n",
       "      <th>Timestamp</th>\n",
       "      <th></th>\n",
       "    </tr>\n",
       "  </thead>\n",
       "  <tbody>\n",
       "    <tr>\n",
       "      <th>2017-04-02 00:00:00</th>\n",
       "      <td>1099.169125</td>\n",
       "    </tr>\n",
       "    <tr>\n",
       "      <th>2017-04-03 00:00:00</th>\n",
       "      <td>1141.813000</td>\n",
       "    </tr>\n",
       "    <tr>\n",
       "      <th>2017-04-04 00:00:00</th>\n",
       "      <td>1141.600363</td>\n",
       "    </tr>\n",
       "    <tr>\n",
       "      <th>2017-04-05 00:00:00</th>\n",
       "      <td>1133.079314</td>\n",
       "    </tr>\n",
       "    <tr>\n",
       "      <th>2017-04-06 00:00:00</th>\n",
       "      <td>1196.307937</td>\n",
       "    </tr>\n",
       "    <tr>\n",
       "      <th>...</th>\n",
       "      <td>...</td>\n",
       "    </tr>\n",
       "    <tr>\n",
       "      <th>2018-03-28 00:00:00</th>\n",
       "      <td>7960.380000</td>\n",
       "    </tr>\n",
       "    <tr>\n",
       "      <th>2018-03-29 00:00:00</th>\n",
       "      <td>7172.280000</td>\n",
       "    </tr>\n",
       "    <tr>\n",
       "      <th>2018-03-30 00:00:00</th>\n",
       "      <td>6882.531667</td>\n",
       "    </tr>\n",
       "    <tr>\n",
       "      <th>2018-03-31 00:00:00</th>\n",
       "      <td>6935.480000</td>\n",
       "    </tr>\n",
       "    <tr>\n",
       "      <th>2018-04-01 00:00:00</th>\n",
       "      <td>6794.105000</td>\n",
       "    </tr>\n",
       "  </tbody>\n",
       "</table>\n",
       "<p>365 rows × 1 columns</p>\n",
       "</div>"
      ],
      "text/plain": [
       "                           Price\n",
       "Timestamp                       \n",
       "2017-04-02 00:00:00  1099.169125\n",
       "2017-04-03 00:00:00  1141.813000\n",
       "2017-04-04 00:00:00  1141.600363\n",
       "2017-04-05 00:00:00  1133.079314\n",
       "2017-04-06 00:00:00  1196.307937\n",
       "...                          ...\n",
       "2018-03-28 00:00:00  7960.380000\n",
       "2018-03-29 00:00:00  7172.280000\n",
       "2018-03-30 00:00:00  6882.531667\n",
       "2018-03-31 00:00:00  6935.480000\n",
       "2018-04-01 00:00:00  6794.105000\n",
       "\n",
       "[365 rows x 1 columns]"
      ]
     },
     "execution_count": 15,
     "metadata": {},
     "output_type": "execute_result"
    }
   ],
   "source": [
    "# better way by specifying more parameters to achieve the same results\n",
    "\n",
    "df = pd.read_csv('btc-market-price.csv', header=None, names=['Timestamp', 'Price'], index_col=0, parse_dates=True, date_format=\"%Y-%m-%d\") # read in the data, specify headers, set the index, and parse dates, index_col=0 means the first column is the index, parse_dates=True means parse the index (timestamp column) as dates\n",
    "\n",
    "\n",
    "df"
   ]
  },
  {
   "cell_type": "code",
   "execution_count": 16,
   "id": "816d2ca9",
   "metadata": {},
   "outputs": [
    {
     "name": "stdout",
     "output_type": "stream",
     "text": [
      "<class 'pandas.core.frame.DataFrame'>\n",
      "Index: 365 entries, 2017-04-02 00:00:00 to 2018-04-01 00:00:00\n",
      "Data columns (total 1 columns):\n",
      " #   Column  Non-Null Count  Dtype  \n",
      "---  ------  --------------  -----  \n",
      " 0   Price   365 non-null    float64\n",
      "dtypes: float64(1)\n",
      "memory usage: 5.7+ KB\n"
     ]
    }
   ],
   "source": [
    "df.info()"
   ]
  },
  {
   "cell_type": "code",
   "execution_count": 17,
   "id": "926a581c",
   "metadata": {},
   "outputs": [
    {
     "data": {
      "image/png": "[encoded data removed]",
      "text/plain": [
       "<Figure size 640x480 with 1 Axes>"
      ]
     },
     "metadata": {},
     "output_type": "display_data"
    }
   ],
   "source": [
    "df.plot() # plot the data\n",
    "plt.xlabel('Date') # add an x-label to the plot\n",
    "plt.ylabel('Price') # add a y-label to the plot\n",
    "plt.show() # show the plot"
   ]
  },
  {
   "cell_type": "code",
   "execution_count": 18,
   "id": "c5f36b27",
   "metadata": {},
   "outputs": [
    {
     "data": {
      "image/png": "[encoded data removed]",
      "text/plain": [
       "<Figure size 640x480 with 1 Axes>"
      ]
     },
     "metadata": {},
     "output_type": "display_data"
    }
   ],
   "source": [
    "plt.plot(df.index, df['Price']) # plot the data\n",
    "plt.xlabel('Date') # add an x-label to the plot\n",
    "plt.ylabel('Price') # add a y-label to the plot\n",
    "plt.show() # show the plot"
   ]
  },
  {
   "cell_type": "code",
   "execution_count": 19,
   "id": "c4bf57e5",
   "metadata": {},
   "outputs": [],
   "source": [
    "x = np.arange(-15,10) # create an array of values from -15 to 10"
   ]
  },
  {
   "cell_type": "code",
   "execution_count": 20,
   "id": "1e0058b7",
   "metadata": {},
   "outputs": [
    {
     "data": {
      "image/png": "[encoded data removed]",
      "text/plain": [
       "<Figure size 640x480 with 1 Axes>"
      ]
     },
     "metadata": {},
     "output_type": "display_data"
    }
   ],
   "source": [
    "plt.plot(x, x**2) # plot x squared\n",
    "plt.plot(x, x**3) # plot x cubed\n",
    "plt.plot(x, x**4) # plot x to the power of 4\n",
    "\n",
    "plt.show() # show the plot\n"
   ]
  },
  {
   "cell_type": "code",
   "execution_count": 21,
   "id": "16cc403e",
   "metadata": {},
   "outputs": [
    {
     "data": {
      "image/png": "[encoded data removed]",
      "text/plain": [
       "<Figure size 1000x500 with 1 Axes>"
      ]
     },
     "metadata": {},
     "output_type": "display_data"
    }
   ],
   "source": [
    "plt.figure(figsize=(10,5))\n",
    "plt.plot(x, x**2)\n",
    "plt.plot(x, -1 * (x**2))\n",
    "plt.title(\"Two lines on one graph\")\n",
    "plt.show()"
   ]
  },
  {
   "cell_type": "code",
   "execution_count": 22,
   "id": "c400b7cc",
   "metadata": {},
   "outputs": [
    {
     "data": {
      "application/vnd.microsoft.datawrangler.viewer.v0+json": {
       "columns": [
        {
         "name": "Date(UTC)",
         "rawType": "datetime64[ns]",
         "type": "datetime"
        },
        {
         "name": "UnixTimeStamp",
         "rawType": "int64",
         "type": "integer"
        },
        {
         "name": "Value",
         "rawType": "float64",
         "type": "float"
        }
       ],
       "conversionMethod": "pd.DataFrame",
       "ref": "3a25eb59-238e-4241-bdc6-e103e24eabf9",
       "rows": [
        [
         "2017-04-02 00:00:00",
         "1491091200",
         "48.55"
        ],
        [
         "2017-04-03 00:00:00",
         "1491177600",
         "44.13"
        ],
        [
         "2017-04-04 00:00:00",
         "1491264000",
         "44.43"
        ],
        [
         "2017-04-05 00:00:00",
         "1491350400",
         "44.9"
        ],
        [
         "2017-04-06 00:00:00",
         "1491436800",
         "43.23"
        ],
        [
         "2017-04-07 00:00:00",
         "1491523200",
         "42.31"
        ],
        [
         "2017-04-08 00:00:00",
         "1491609600",
         "44.37"
        ],
        [
         "2017-04-09 00:00:00",
         "1491696000",
         "43.72"
        ],
        [
         "2017-04-10 00:00:00",
         "1491782400",
         "43.74"
        ],
        [
         "2017-04-11 00:00:00",
         "1491868800",
         "43.74"
        ],
        [
         "2017-04-12 00:00:00",
         "1491955200",
         "46.38"
        ],
        [
         "2017-04-13 00:00:00",
         "1492041600",
         "49.97"
        ],
        [
         "2017-04-14 00:00:00",
         "1492128000",
         "47.32"
        ],
        [
         "2017-04-15 00:00:00",
         "1492214400",
         "48.89"
        ],
        [
         "2017-04-16 00:00:00",
         "1492300800",
         "48.22"
        ],
        [
         "2017-04-17 00:00:00",
         "1492387200",
         "47.94"
        ],
        [
         "2017-04-18 00:00:00",
         "1492473600",
         "49.88"
        ],
        [
         "2017-04-19 00:00:00",
         "1492560000",
         "47.88"
        ],
        [
         "2017-04-20 00:00:00",
         "1492646400",
         "49.36"
        ],
        [
         "2017-04-21 00:00:00",
         "1492732800",
         "48.27"
        ],
        [
         "2017-04-22 00:00:00",
         "1492819200",
         "48.41"
        ],
        [
         "2017-04-23 00:00:00",
         "1492905600",
         "48.75"
        ],
        [
         "2017-04-24 00:00:00",
         "1492992000",
         "49.94"
        ],
        [
         "2017-04-25 00:00:00",
         "1493078400",
         "50.09"
        ],
        [
         "2017-04-26 00:00:00",
         "1493164800",
         "53.28"
        ],
        [
         "2017-04-27 00:00:00",
         "1493251200",
         "63.14"
        ],
        [
         "2017-04-28 00:00:00",
         "1493337600",
         "72.42"
        ],
        [
         "2017-04-29 00:00:00",
         "1493424000",
         "69.83"
        ],
        [
         "2017-04-30 00:00:00",
         "1493510400",
         "79.83"
        ],
        [
         "2017-05-01 00:00:00",
         "1493596800",
         "77.53"
        ],
        [
         "2017-05-02 00:00:00",
         "1493683200",
         "77.25"
        ],
        [
         "2017-05-03 00:00:00",
         "1493769600",
         "80.37"
        ],
        [
         "2017-05-04 00:00:00",
         "1493856000",
         "94.55"
        ],
        [
         "2017-05-05 00:00:00",
         "1493942400",
         "90.79"
        ],
        [
         "2017-05-06 00:00:00",
         "1494028800",
         "94.82"
        ],
        [
         "2017-05-07 00:00:00",
         "1494115200",
         "90.46"
        ],
        [
         "2017-05-08 00:00:00",
         "1494201600",
         "88.39"
        ],
        [
         "2017-05-09 00:00:00",
         "1494288000",
         "86.27"
        ],
        [
         "2017-05-10 00:00:00",
         "1494374400",
         "87.83"
        ],
        [
         "2017-05-11 00:00:00",
         "1494460800",
         "88.2"
        ],
        [
         "2017-05-12 00:00:00",
         "1494547200",
         "85.15"
        ],
        [
         "2017-05-13 00:00:00",
         "1494633600",
         "87.96"
        ],
        [
         "2017-05-14 00:00:00",
         "1494720000",
         "88.72"
        ],
        [
         "2017-05-15 00:00:00",
         "1494806400",
         "90.32"
        ],
        [
         "2017-05-16 00:00:00",
         "1494892800",
         "87.8"
        ],
        [
         "2017-05-17 00:00:00",
         "1494979200",
         "86.98"
        ],
        [
         "2017-05-18 00:00:00",
         "1495065600",
         "95.88"
        ],
        [
         "2017-05-19 00:00:00",
         "1495152000",
         "124.38"
        ],
        [
         "2017-05-20 00:00:00",
         "1495238400",
         "123.06"
        ],
        [
         "2017-05-21 00:00:00",
         "1495324800",
         "148.0"
        ]
       ],
       "shape": {
        "columns": 2,
        "rows": 362
       }
      },
      "text/html": [
       "<div>\n",
       "<style scoped>\n",
       "    .dataframe tbody tr th:only-of-type {\n",
       "        vertical-align: middle;\n",
       "    }\n",
       "\n",
       "    .dataframe tbody tr th {\n",
       "        vertical-align: top;\n",
       "    }\n",
       "\n",
       "    .dataframe thead th {\n",
       "        text-align: right;\n",
       "    }\n",
       "</style>\n",
       "<table border=\"1\" class=\"dataframe\">\n",
       "  <thead>\n",
       "    <tr style=\"text-align: right;\">\n",
       "      <th></th>\n",
       "      <th>UnixTimeStamp</th>\n",
       "      <th>Value</th>\n",
       "    </tr>\n",
       "    <tr>\n",
       "      <th>Date(UTC)</th>\n",
       "      <th></th>\n",
       "      <th></th>\n",
       "    </tr>\n",
       "  </thead>\n",
       "  <tbody>\n",
       "    <tr>\n",
       "      <th>2017-04-02</th>\n",
       "      <td>1491091200</td>\n",
       "      <td>48.55</td>\n",
       "    </tr>\n",
       "    <tr>\n",
       "      <th>2017-04-03</th>\n",
       "      <td>1491177600</td>\n",
       "      <td>44.13</td>\n",
       "    </tr>\n",
       "    <tr>\n",
       "      <th>2017-04-04</th>\n",
       "      <td>1491264000</td>\n",
       "      <td>44.43</td>\n",
       "    </tr>\n",
       "    <tr>\n",
       "      <th>2017-04-05</th>\n",
       "      <td>1491350400</td>\n",
       "      <td>44.90</td>\n",
       "    </tr>\n",
       "    <tr>\n",
       "      <th>2017-04-06</th>\n",
       "      <td>1491436800</td>\n",
       "      <td>43.23</td>\n",
       "    </tr>\n",
       "    <tr>\n",
       "      <th>...</th>\n",
       "      <td>...</td>\n",
       "      <td>...</td>\n",
       "    </tr>\n",
       "    <tr>\n",
       "      <th>2018-03-28</th>\n",
       "      <td>1522195200</td>\n",
       "      <td>445.93</td>\n",
       "    </tr>\n",
       "    <tr>\n",
       "      <th>2018-03-29</th>\n",
       "      <td>1522281600</td>\n",
       "      <td>383.90</td>\n",
       "    </tr>\n",
       "    <tr>\n",
       "      <th>2018-03-30</th>\n",
       "      <td>1522368000</td>\n",
       "      <td>393.82</td>\n",
       "    </tr>\n",
       "    <tr>\n",
       "      <th>2018-03-31</th>\n",
       "      <td>1522454400</td>\n",
       "      <td>394.07</td>\n",
       "    </tr>\n",
       "    <tr>\n",
       "      <th>2018-04-01</th>\n",
       "      <td>1522540800</td>\n",
       "      <td>378.85</td>\n",
       "    </tr>\n",
       "  </tbody>\n",
       "</table>\n",
       "<p>362 rows × 2 columns</p>\n",
       "</div>"
      ],
      "text/plain": [
       "            UnixTimeStamp   Value\n",
       "Date(UTC)                        \n",
       "2017-04-02     1491091200   48.55\n",
       "2017-04-03     1491177600   44.13\n",
       "2017-04-04     1491264000   44.43\n",
       "2017-04-05     1491350400   44.90\n",
       "2017-04-06     1491436800   43.23\n",
       "...                   ...     ...\n",
       "2018-03-28     1522195200  445.93\n",
       "2018-03-29     1522281600  383.90\n",
       "2018-03-30     1522368000  393.82\n",
       "2018-03-31     1522454400  394.07\n",
       "2018-04-01     1522540800  378.85\n",
       "\n",
       "[362 rows x 2 columns]"
      ]
     },
     "execution_count": 22,
     "metadata": {},
     "output_type": "execute_result"
    }
   ],
   "source": [
    "# CREATE AN EMPTY DATAFRAME AND ADD BITCOIN AND ETHEREUM PRICES TO IT AND THEN PLOT IT\n",
    "\n",
    "# add ethernet to the plot\n",
    "eth = pd.read_csv(\"eth-price.csv\", parse_dates=['Date(UTC)'], index_col='Date(UTC)')\n",
    "eth"
   ]
  },
  {
   "cell_type": "code",
   "execution_count": 23,
   "id": "baedfad6",
   "metadata": {},
   "outputs": [
    {
     "name": "stdout",
     "output_type": "stream",
     "text": [
      "<class 'pandas.core.frame.DataFrame'>\n",
      "DatetimeIndex: 362 entries, 2017-04-02 to 2018-04-01\n",
      "Data columns (total 2 columns):\n",
      " #   Column         Non-Null Count  Dtype  \n",
      "---  ------         --------------  -----  \n",
      " 0   UnixTimeStamp  362 non-null    int64  \n",
      " 1   Value          362 non-null    float64\n",
      "dtypes: float64(1), int64(1)\n",
      "memory usage: 8.5 KB\n"
     ]
    }
   ],
   "source": [
    "eth.info()"
   ]
  },
  {
   "cell_type": "code",
   "execution_count": 24,
   "id": "7e6b089b",
   "metadata": {},
   "outputs": [
    {
     "data": {
      "application/vnd.microsoft.datawrangler.viewer.v0+json": {
       "columns": [
        {
         "name": "Timestamp",
         "rawType": "object",
         "type": "string"
        }
       ],
       "conversionMethod": "pd.DataFrame",
       "ref": "6d20155a-33a7-4e25-985b-335f03ed88f7",
       "rows": [
        [
         "2017-04-02 00:00:00"
        ],
        [
         "2017-04-03 00:00:00"
        ],
        [
         "2017-04-04 00:00:00"
        ],
        [
         "2017-04-05 00:00:00"
        ],
        [
         "2017-04-06 00:00:00"
        ],
        [
         "2017-04-07 00:00:00"
        ],
        [
         "2017-04-08 00:00:00"
        ],
        [
         "2017-04-09 00:00:00"
        ],
        [
         "2017-04-10 00:00:00"
        ],
        [
         "2017-04-11 00:00:00"
        ],
        [
         "2017-04-12 00:00:00"
        ],
        [
         "2017-04-13 00:00:00"
        ],
        [
         "2017-04-14 00:00:00"
        ],
        [
         "2017-04-15 00:00:00"
        ],
        [
         "2017-04-16 00:00:00"
        ],
        [
         "2017-04-17 00:00:00"
        ],
        [
         "2017-04-18 00:00:00"
        ],
        [
         "2017-04-19 00:00:00"
        ],
        [
         "2017-04-20 00:00:00"
        ],
        [
         "2017-04-21 00:00:00"
        ],
        [
         "2017-04-22 00:00:00"
        ],
        [
         "2017-04-23 00:00:00"
        ],
        [
         "2017-04-24 00:00:00"
        ],
        [
         "2017-04-25 00:00:00"
        ],
        [
         "2017-04-26 00:00:00"
        ],
        [
         "2017-04-27 00:00:00"
        ],
        [
         "2017-04-28 00:00:00"
        ],
        [
         "2017-04-29 00:00:00"
        ],
        [
         "2017-04-30 00:00:00"
        ],
        [
         "2017-05-01 00:00:00"
        ],
        [
         "2017-05-02 00:00:00"
        ],
        [
         "2017-05-03 00:00:00"
        ],
        [
         "2017-05-04 00:00:00"
        ],
        [
         "2017-05-05 00:00:00"
        ],
        [
         "2017-05-06 00:00:00"
        ],
        [
         "2017-05-07 00:00:00"
        ],
        [
         "2017-05-08 00:00:00"
        ],
        [
         "2017-05-09 00:00:00"
        ],
        [
         "2017-05-10 00:00:00"
        ],
        [
         "2017-05-11 00:00:00"
        ],
        [
         "2017-05-12 00:00:00"
        ],
        [
         "2017-05-13 00:00:00"
        ],
        [
         "2017-05-14 00:00:00"
        ],
        [
         "2017-05-15 00:00:00"
        ],
        [
         "2017-05-16 00:00:00"
        ],
        [
         "2017-05-17 00:00:00"
        ],
        [
         "2017-05-18 00:00:00"
        ],
        [
         "2017-05-19 00:00:00"
        ],
        [
         "2017-05-20 00:00:00"
        ],
        [
         "2017-05-21 00:00:00"
        ]
       ],
       "shape": {
        "columns": 0,
        "rows": 365
       }
      },
      "text/html": [
       "<div>\n",
       "<style scoped>\n",
       "    .dataframe tbody tr th:only-of-type {\n",
       "        vertical-align: middle;\n",
       "    }\n",
       "\n",
       "    .dataframe tbody tr th {\n",
       "        vertical-align: top;\n",
       "    }\n",
       "\n",
       "    .dataframe thead th {\n",
       "        text-align: right;\n",
       "    }\n",
       "</style>\n",
       "<table border=\"1\" class=\"dataframe\">\n",
       "  <thead>\n",
       "    <tr style=\"text-align: right;\">\n",
       "      <th></th>\n",
       "    </tr>\n",
       "    <tr>\n",
       "      <th>Timestamp</th>\n",
       "    </tr>\n",
       "  </thead>\n",
       "  <tbody>\n",
       "    <tr>\n",
       "      <th>2017-04-02 00:00:00</th>\n",
       "    </tr>\n",
       "    <tr>\n",
       "      <th>2017-04-03 00:00:00</th>\n",
       "    </tr>\n",
       "    <tr>\n",
       "      <th>2017-04-04 00:00:00</th>\n",
       "    </tr>\n",
       "    <tr>\n",
       "      <th>2017-04-05 00:00:00</th>\n",
       "    </tr>\n",
       "    <tr>\n",
       "      <th>2017-04-06 00:00:00</th>\n",
       "    </tr>\n",
       "    <tr>\n",
       "      <th>...</th>\n",
       "    </tr>\n",
       "    <tr>\n",
       "      <th>2018-03-28 00:00:00</th>\n",
       "    </tr>\n",
       "    <tr>\n",
       "      <th>2018-03-29 00:00:00</th>\n",
       "    </tr>\n",
       "    <tr>\n",
       "      <th>2018-03-30 00:00:00</th>\n",
       "    </tr>\n",
       "    <tr>\n",
       "      <th>2018-03-31 00:00:00</th>\n",
       "    </tr>\n",
       "    <tr>\n",
       "      <th>2018-04-01 00:00:00</th>\n",
       "    </tr>\n",
       "  </tbody>\n",
       "</table>\n",
       "<p>365 rows × 0 columns</p>\n",
       "</div>"
      ],
      "text/plain": [
       "Empty DataFrame\n",
       "Columns: []\n",
       "Index: [2017-04-02 00:00:00, 2017-04-03 00:00:00, 2017-04-04 00:00:00, 2017-04-05 00:00:00, 2017-04-06 00:00:00, 2017-04-07 00:00:00, 2017-04-08 00:00:00, 2017-04-09 00:00:00, 2017-04-10 00:00:00, 2017-04-11 00:00:00, 2017-04-12 00:00:00, 2017-04-13 00:00:00, 2017-04-14 00:00:00, 2017-04-15 00:00:00, 2017-04-16 00:00:00, 2017-04-17 00:00:00, 2017-04-18 00:00:00, 2017-04-19 00:00:00, 2017-04-20 00:00:00, 2017-04-21 00:00:00, 2017-04-22 00:00:00, 2017-04-23 00:00:00, 2017-04-24 00:00:00, 2017-04-25 00:00:00, 2017-04-26 00:00:00, 2017-04-27 00:00:00, 2017-04-28 00:00:00, 2017-04-29 00:00:00, 2017-04-30 00:00:00, 2017-05-01 00:00:00, 2017-05-02 00:00:00, 2017-05-03 00:00:00, 2017-05-04 00:00:00, 2017-05-05 00:00:00, 2017-05-06 00:00:00, 2017-05-07 00:00:00, 2017-05-08 00:00:00, 2017-05-09 00:00:00, 2017-05-10 00:00:00, 2017-05-11 00:00:00, 2017-05-12 00:00:00, 2017-05-13 00:00:00, 2017-05-14 00:00:00, 2017-05-15 00:00:00, 2017-05-16 00:00:00, 2017-05-17 00:00:00, 2017-05-18 00:00:00, 2017-05-19 00:00:00, 2017-05-20 00:00:00, 2017-05-21 00:00:00, 2017-05-22 00:00:00, 2017-05-23 00:00:00, 2017-05-24 00:00:00, 2017-05-25 00:00:00, 2017-05-26 00:00:00, 2017-05-27 00:00:00, 2017-05-28 00:00:00, 2017-05-29 00:00:00, 2017-05-30 00:00:00, 2017-05-31 00:00:00, 2017-06-01 00:00:00, 2017-06-02 00:00:00, 2017-06-03 00:00:00, 2017-06-04 00:00:00, 2017-06-05 00:00:00, 2017-06-06 00:00:00, 2017-06-07 00:00:00, 2017-06-08 00:00:00, 2017-06-09 00:00:00, 2017-06-10 00:00:00, 2017-06-11 00:00:00, 2017-06-12 00:00:00, 2017-06-13 00:00:00, 2017-06-14 00:00:00, 2017-06-15 00:00:00, 2017-06-16 00:00:00, 2017-06-17 00:00:00, 2017-06-18 00:00:00, 2017-06-19 00:00:00, 2017-06-20 00:00:00, 2017-06-21 00:00:00, 2017-06-22 00:00:00, 2017-06-23 00:00:00, 2017-06-24 00:00:00, 2017-06-25 00:00:00, 2017-06-26 00:00:00, 2017-06-27 00:00:00, 2017-06-28 00:00:00, 2017-06-29 00:00:00, 2017-06-30 00:00:00, 2017-07-01 00:00:00, 2017-07-02 00:00:00, 2017-07-03 00:00:00, 2017-07-04 00:00:00, 2017-07-05 00:00:00, 2017-07-06 00:00:00, 2017-07-07 00:00:00, 2017-07-08 00:00:00, 2017-07-09 00:00:00, 2017-07-10 00:00:00, ...]\n",
       "\n",
       "[365 rows x 0 columns]"
      ]
     },
     "execution_count": 24,
     "metadata": {},
     "output_type": "execute_result"
    }
   ],
   "source": [
    "# create an empty dataframe\n",
    "prices_df = pd.DataFrame(index=df.index) # create an empty dataframe with the same index as df\n",
    "prices_df"
   ]
  },
  {
   "cell_type": "code",
   "execution_count": 25,
   "id": "bf382077",
   "metadata": {},
   "outputs": [
    {
     "data": {
      "application/vnd.microsoft.datawrangler.viewer.v0+json": {
       "columns": [
        {
         "name": "Timestamp",
         "rawType": "object",
         "type": "string"
        },
        {
         "name": "Bitcoin",
         "rawType": "float64",
         "type": "float"
        },
        {
         "name": "Ethereum",
         "rawType": "float64",
         "type": "float"
        }
       ],
       "conversionMethod": "pd.DataFrame",
       "ref": "a2475140-bb45-4cba-b55b-b66ee7590b3f",
       "rows": [
        [
         "2017-04-02 00:00:00",
         "1099.169125",
         "48.55"
        ],
        [
         "2017-04-03 00:00:00",
         "1141.813",
         "44.13"
        ],
        [
         "2017-04-04 00:00:00",
         "1141.6003625",
         "44.43"
        ],
        [
         "2017-04-05 00:00:00",
         "1133.0793142857142",
         "44.9"
        ],
        [
         "2017-04-06 00:00:00",
         "1196.3079375",
         "43.23"
        ],
        [
         "2017-04-07 00:00:00",
         "1190.45425",
         "42.31"
        ],
        [
         "2017-04-08 00:00:00",
         "1181.1498375",
         "44.37"
        ],
        [
         "2017-04-09 00:00:00",
         "1208.8005",
         "43.72"
        ],
        [
         "2017-04-10 00:00:00",
         "1207.744875",
         "43.74"
        ],
        [
         "2017-04-11 00:00:00",
         "1226.6170375",
         "43.74"
        ],
        [
         "2017-04-12 00:00:00",
         "1218.92205",
         "46.38"
        ],
        [
         "2017-04-13 00:00:00",
         "1180.0237125",
         "49.97"
        ],
        [
         "2017-04-14 00:00:00",
         "1185.2600571428572",
         "47.32"
        ],
        [
         "2017-04-15 00:00:00",
         "1184.8806714285713",
         "48.89"
        ],
        [
         "2017-04-16 00:00:00",
         "1186.9274125",
         "48.22"
        ],
        [
         "2017-04-17 00:00:00",
         "1205.634875",
         "47.94"
        ],
        [
         "2017-04-18 00:00:00",
         "1216.1867428571427",
         "49.88"
        ],
        [
         "2017-04-19 00:00:00",
         "1217.9300875",
         "47.88"
        ],
        [
         "2017-04-20 00:00:00",
         "1241.686325",
         "49.36"
        ],
        [
         "2017-04-21 00:00:00",
         "1258.3614125",
         "48.27"
        ],
        [
         "2017-04-22 00:00:00",
         "1261.311225",
         "48.41"
        ],
        [
         "2017-04-23 00:00:00",
         "1257.9881125",
         "48.75"
        ],
        [
         "2017-04-24 00:00:00",
         "1262.902775",
         "49.94"
        ],
        [
         "2017-04-25 00:00:00",
         "1279.4146875",
         "50.09"
        ],
        [
         "2017-04-26 00:00:00",
         "1309.109875",
         "53.28"
        ],
        [
         "2017-04-27 00:00:00",
         "1345.3539125",
         "63.14"
        ],
        [
         "2017-04-28 00:00:00",
         "1331.2944285714286",
         "72.42"
        ],
        [
         "2017-04-29 00:00:00",
         "1334.9790375",
         "69.83"
        ],
        [
         "2017-04-30 00:00:00",
         "1353.0045",
         "79.83"
        ],
        [
         "2017-05-01 00:00:00",
         "1417.1728125",
         "77.53"
        ],
        [
         "2017-05-02 00:00:00",
         "1452.0762875",
         "77.25"
        ],
        [
         "2017-05-03 00:00:00",
         "1507.5768571428573",
         "80.37"
        ],
        [
         "2017-05-04 00:00:00",
         "1508.292125",
         "94.55"
        ],
        [
         "2017-05-05 00:00:00",
         "1533.3350714285714",
         "90.79"
        ],
        [
         "2017-05-06 00:00:00",
         "1560.4102",
         "94.82"
        ],
        [
         "2017-05-07 00:00:00",
         "1535.8684285714285",
         "90.46"
        ],
        [
         "2017-05-08 00:00:00",
         "1640.619225",
         "88.39"
        ],
        [
         "2017-05-09 00:00:00",
         "1721.2849714285717",
         "86.27"
        ],
        [
         "2017-05-10 00:00:00",
         "1762.88625",
         "87.83"
        ],
        [
         "2017-05-11 00:00:00",
         "1820.9905625",
         "88.2"
        ],
        [
         "2017-05-12 00:00:00",
         "1720.4785",
         "85.15"
        ],
        [
         "2017-05-13 00:00:00",
         "1771.9200125",
         "87.96"
        ],
        [
         "2017-05-14 00:00:00",
         "1776.3165",
         "88.72"
        ],
        [
         "2017-05-15 00:00:00",
         "1723.1269375",
         "90.32"
        ],
        [
         "2017-05-16 00:00:00",
         "1739.031975",
         "87.8"
        ],
        [
         "2017-05-17 00:00:00",
         "1807.4850625",
         "86.98"
        ],
        [
         "2017-05-18 00:00:00",
         "1899.0828875",
         "95.88"
        ],
        [
         "2017-05-19 00:00:00",
         "1961.5204875",
         "124.38"
        ],
        [
         "2017-05-20 00:00:00",
         "2052.9097875",
         "123.06"
        ],
        [
         "2017-05-21 00:00:00",
         "2046.5344625",
         "148.0"
        ]
       ],
       "shape": {
        "columns": 2,
        "rows": 365
       }
      },
      "text/html": [
       "<div>\n",
       "<style scoped>\n",
       "    .dataframe tbody tr th:only-of-type {\n",
       "        vertical-align: middle;\n",
       "    }\n",
       "\n",
       "    .dataframe tbody tr th {\n",
       "        vertical-align: top;\n",
       "    }\n",
       "\n",
       "    .dataframe thead th {\n",
       "        text-align: right;\n",
       "    }\n",
       "</style>\n",
       "<table border=\"1\" class=\"dataframe\">\n",
       "  <thead>\n",
       "    <tr style=\"text-align: right;\">\n",
       "      <th></th>\n",
       "      <th>Bitcoin</th>\n",
       "      <th>Ethereum</th>\n",
       "    </tr>\n",
       "    <tr>\n",
       "      <th>Timestamp</th>\n",
       "      <th></th>\n",
       "      <th></th>\n",
       "    </tr>\n",
       "  </thead>\n",
       "  <tbody>\n",
       "    <tr>\n",
       "      <th>2017-04-02 00:00:00</th>\n",
       "      <td>1099.169125</td>\n",
       "      <td>48.55</td>\n",
       "    </tr>\n",
       "    <tr>\n",
       "      <th>2017-04-03 00:00:00</th>\n",
       "      <td>1141.813000</td>\n",
       "      <td>44.13</td>\n",
       "    </tr>\n",
       "    <tr>\n",
       "      <th>2017-04-04 00:00:00</th>\n",
       "      <td>1141.600363</td>\n",
       "      <td>44.43</td>\n",
       "    </tr>\n",
       "    <tr>\n",
       "      <th>2017-04-05 00:00:00</th>\n",
       "      <td>1133.079314</td>\n",
       "      <td>44.90</td>\n",
       "    </tr>\n",
       "    <tr>\n",
       "      <th>2017-04-06 00:00:00</th>\n",
       "      <td>1196.307937</td>\n",
       "      <td>43.23</td>\n",
       "    </tr>\n",
       "    <tr>\n",
       "      <th>...</th>\n",
       "      <td>...</td>\n",
       "      <td>...</td>\n",
       "    </tr>\n",
       "    <tr>\n",
       "      <th>2018-03-28 00:00:00</th>\n",
       "      <td>7960.380000</td>\n",
       "      <td>445.93</td>\n",
       "    </tr>\n",
       "    <tr>\n",
       "      <th>2018-03-29 00:00:00</th>\n",
       "      <td>7172.280000</td>\n",
       "      <td>383.90</td>\n",
       "    </tr>\n",
       "    <tr>\n",
       "      <th>2018-03-30 00:00:00</th>\n",
       "      <td>6882.531667</td>\n",
       "      <td>393.82</td>\n",
       "    </tr>\n",
       "    <tr>\n",
       "      <th>2018-03-31 00:00:00</th>\n",
       "      <td>6935.480000</td>\n",
       "      <td>394.07</td>\n",
       "    </tr>\n",
       "    <tr>\n",
       "      <th>2018-04-01 00:00:00</th>\n",
       "      <td>6794.105000</td>\n",
       "      <td>378.85</td>\n",
       "    </tr>\n",
       "  </tbody>\n",
       "</table>\n",
       "<p>365 rows × 2 columns</p>\n",
       "</div>"
      ],
      "text/plain": [
       "                         Bitcoin  Ethereum\n",
       "Timestamp                                 \n",
       "2017-04-02 00:00:00  1099.169125     48.55\n",
       "2017-04-03 00:00:00  1141.813000     44.13\n",
       "2017-04-04 00:00:00  1141.600363     44.43\n",
       "2017-04-05 00:00:00  1133.079314     44.90\n",
       "2017-04-06 00:00:00  1196.307937     43.23\n",
       "...                          ...       ...\n",
       "2018-03-28 00:00:00  7960.380000    445.93\n",
       "2018-03-29 00:00:00  7172.280000    383.90\n",
       "2018-03-30 00:00:00  6882.531667    393.82\n",
       "2018-03-31 00:00:00  6935.480000    394.07\n",
       "2018-04-01 00:00:00  6794.105000    378.85\n",
       "\n",
       "[365 rows x 2 columns]"
      ]
     },
     "execution_count": 25,
     "metadata": {},
     "output_type": "execute_result"
    }
   ],
   "source": [
    "prices_df[\"Bitcoin\"] = df[\"Price\"] # add the bitcoin prices to the prices_df dataframe\n",
    "prices_df[\"Ethereum\"] = eth[\"Value\"] # add the ethereum prices to the prices_df dataframe\n",
    "prices_df"
   ]
  },
  {
   "cell_type": "code",
   "execution_count": 26,
   "id": "89b734da",
   "metadata": {},
   "outputs": [
    {
     "data": {
      "image/png": "[encoded data removed]",
      "text/plain": [
       "<Figure size 1000x500 with 1 Axes>"
      ]
     },
     "metadata": {},
     "output_type": "display_data"
    }
   ],
   "source": [
    "prices_df.plot(figsize=(10,5)) # plot the prices_df dataframe\n",
    "plt.show() # show the plot"
   ]
  },
  {
   "cell_type": "code",
   "execution_count": null,
   "id": "40efb6a6",
   "metadata": {},
   "outputs": [],
   "source": []
  }
 ],
 "metadata": {
  "kernelspec": {
   "display_name": "base",
   "language": "python",
   "name": "python3"
  },
  "language_info": {
   "codemirror_mode": {
    "name": "ipython",
    "version": 3
   },
   "file_extension": ".py",
   "mimetype": "text/x-python",
   "name": "python",
   "nbconvert_exporter": "python",
   "pygments_lexer": "ipython3",
   "version": "3.12.9"
  }
 },
 "nbformat": 4,
 "nbformat_minor": 5
}
