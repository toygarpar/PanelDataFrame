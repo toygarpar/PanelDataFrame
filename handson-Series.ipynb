{
 "cells": [
  {
   "cell_type": "markdown",
   "id": "39288a11",
   "metadata": {},
   "source": [
    "PANDAS"
   ]
  },
  {
   "cell_type": "code",
   "execution_count": 4,
   "id": "65468105",
   "metadata": {},
   "outputs": [],
   "source": [
    "import pandas as pd\n",
    "import numpy as np  "
   ]
  },
  {
   "cell_type": "code",
   "execution_count": 5,
   "id": "73c5cbd5",
   "metadata": {},
   "outputs": [
    {
     "name": "stdout",
     "output_type": "stream",
     "text": [
      "2.2.2\n"
     ]
    }
   ],
   "source": [
    "print(pd.__version__)"
   ]
  },
  {
   "cell_type": "markdown",
   "id": "4c447b18",
   "metadata": {},
   "source": [
    "PANDAS SERIES"
   ]
  },
  {
   "cell_type": "code",
   "execution_count": 6,
   "id": "f31671dd",
   "metadata": {},
   "outputs": [
    {
     "data": {
      "text/plain": [
       "Series([], dtype: object)"
      ]
     },
     "execution_count": 6,
     "metadata": {},
     "output_type": "execute_result"
    }
   ],
   "source": [
    "#create an empty pandas series\n",
    "pd.Series()"
   ]
  },
  {
   "cell_type": "code",
   "execution_count": 9,
   "id": "51ae472f",
   "metadata": {},
   "outputs": [
    {
     "data": {
      "text/plain": [
       "0    1\n",
       "1    2\n",
       "2    3\n",
       "3    4\n",
       "4    5\n",
       "dtype: int64"
      ]
     },
     "execution_count": 9,
     "metadata": {},
     "output_type": "execute_result"
    }
   ],
   "source": [
    "#create a pandas series from a list\n",
    "pd.Series([1, 2, 3, 4, 5])\n"
   ]
  },
  {
   "cell_type": "code",
   "execution_count": 8,
   "id": "d1b30e81",
   "metadata": {},
   "outputs": [
    {
     "data": {
      "text/plain": [
       "0    1\n",
       "1    2\n",
       "2    3\n",
       "3    4\n",
       "4    5\n",
       "dtype: int64"
      ]
     },
     "execution_count": 8,
     "metadata": {},
     "output_type": "execute_result"
    }
   ],
   "source": [
    "#create a pandas series from a numpy array\n",
    "pd.Series(np.array([1, 2, 3, 4, 5]))"
   ]
  },
  {
   "cell_type": "code",
   "execution_count": 10,
   "id": "84922225",
   "metadata": {},
   "outputs": [
    {
     "data": {
      "text/plain": [
       "0    1\n",
       "1    2\n",
       "2    3\n",
       "3    4\n",
       "4    5\n",
       "dtype: int64"
      ]
     },
     "execution_count": 10,
     "metadata": {},
     "output_type": "execute_result"
    }
   ],
   "source": [
    "x = [1, 2, 3, 4, 5]\n",
    "y = pd.Series(x)\n",
    "y\n"
   ]
  },
  {
   "cell_type": "code",
   "execution_count": 13,
   "id": "5d2a7115",
   "metadata": {},
   "outputs": [
    {
     "data": {
      "text/plain": [
       "array([1, 2, 3, 4, 5])"
      ]
     },
     "execution_count": 13,
     "metadata": {},
     "output_type": "execute_result"
    }
   ],
   "source": [
    "# show values of the Series\n",
    "y.values"
   ]
  },
  {
   "cell_type": "code",
   "execution_count": 12,
   "id": "5fbfffd6",
   "metadata": {},
   "outputs": [
    {
     "data": {
      "text/plain": [
       "0    1\n",
       "1    2\n",
       "2    3\n",
       "3    4\n",
       "4    5\n",
       "Name: Numbers, dtype: int64"
      ]
     },
     "execution_count": 12,
     "metadata": {},
     "output_type": "execute_result"
    }
   ],
   "source": [
    "# name the Series\n",
    "y.name = \"Numbers\"\n",
    "y"
   ]
  },
  {
   "cell_type": "code",
   "execution_count": 11,
   "id": "5c4cf5a6",
   "metadata": {},
   "outputs": [
    {
     "data": {
      "text/plain": [
       "a    1\n",
       "b    2\n",
       "c    3\n",
       "d    4\n",
       "e    5\n",
       "dtype: int64"
      ]
     },
     "execution_count": 11,
     "metadata": {},
     "output_type": "execute_result"
    }
   ],
   "source": [
    "#create a pandas series from a dictionary\n",
    "pd.Series({\"a\": 1, \"b\": 2, \"c\": 3, \"d\": 4, \"e\": 5})"
   ]
  },
  {
   "cell_type": "code",
   "execution_count": 15,
   "id": "989690e3",
   "metadata": {},
   "outputs": [
    {
     "data": {
      "text/plain": [
       "a    1\n",
       "b    2\n",
       "c    3\n",
       "d    4\n",
       "e    5\n",
       "dtype: int64"
      ]
     },
     "execution_count": 15,
     "metadata": {},
     "output_type": "execute_result"
    }
   ],
   "source": [
    "# series indexation - assign index to the Series\n",
    "z = pd.Series([1, 2, 3, 4, 5])\n",
    "index_names=[\"a\", \"b\", \"c\", \"d\", \"e\"]\n",
    "z.index =index_names\n",
    "z"
   ]
  },
  {
   "cell_type": "code",
   "execution_count": 18,
   "id": "4ab6f20a",
   "metadata": {},
   "outputs": [
    {
     "data": {
      "text/plain": [
       "1"
      ]
     },
     "execution_count": 18,
     "metadata": {},
     "output_type": "execute_result"
    }
   ],
   "source": [
    "# show the first element of the Series\n",
    "z[\"a\"]"
   ]
  },
  {
   "cell_type": "code",
   "execution_count": 20,
   "id": "4998c8d4",
   "metadata": {},
   "outputs": [
    {
     "data": {
      "text/plain": [
       "5"
      ]
     },
     "execution_count": 20,
     "metadata": {},
     "output_type": "execute_result"
    }
   ],
   "source": [
    "z[\"e\"] # show the last element of the Series"
   ]
  },
  {
   "cell_type": "code",
   "execution_count": 21,
   "id": "29303731",
   "metadata": {},
   "outputs": [
    {
     "data": {
      "text/plain": [
       "b    2\n",
       "c    3\n",
       "d    4\n",
       "dtype: int64"
      ]
     },
     "execution_count": 21,
     "metadata": {},
     "output_type": "execute_result"
    }
   ],
   "source": [
    "z[1:-1] # show the second to the fourth element of the Series]"
   ]
  },
  {
   "cell_type": "code",
   "execution_count": 22,
   "id": "c5cccadc",
   "metadata": {},
   "outputs": [
    {
     "data": {
      "text/plain": [
       "e    5\n",
       "d    4\n",
       "c    3\n",
       "b    2\n",
       "a    1\n",
       "dtype: int64"
      ]
     },
     "execution_count": 22,
     "metadata": {},
     "output_type": "execute_result"
    }
   ],
   "source": [
    "z[::-1] # show the Series in reverse order"
   ]
  },
  {
   "cell_type": "code",
   "execution_count": 23,
   "id": "051faf4f",
   "metadata": {},
   "outputs": [
    {
     "data": {
      "text/plain": [
       "a    1\n",
       "c    3\n",
       "e    5\n",
       "dtype: int64"
      ]
     },
     "execution_count": 23,
     "metadata": {},
     "output_type": "execute_result"
    }
   ],
   "source": [
    "\n",
    "z[[\"a\", \"c\", \"e\"]] # show the first, third and fifth element of the Series"
   ]
  },
  {
   "cell_type": "code",
   "execution_count": 24,
   "id": "fea655a8",
   "metadata": {},
   "outputs": [
    {
     "data": {
      "text/plain": [
       "a    1.0\n",
       "b    2.0\n",
       "c    3.0\n",
       "d    4.0\n",
       "e    5.0\n",
       "dtype: float64"
      ]
     },
     "execution_count": 24,
     "metadata": {},
     "output_type": "execute_result"
    }
   ],
   "source": [
    "pd.Series(z, dtype=\"float\") # change the data type of the Series"
   ]
  },
  {
   "cell_type": "code",
   "execution_count": 25,
   "id": "dbf16e98",
   "metadata": {},
   "outputs": [
    {
     "data": {
      "text/plain": [
       "e    5\n",
       "d    4\n",
       "c    3\n",
       "b    2\n",
       "a    1\n",
       "dtype: int64"
      ]
     },
     "execution_count": 25,
     "metadata": {},
     "output_type": "execute_result"
    }
   ],
   "source": [
    "#sort_values() method\n",
    "z.sort_values(ascending=False) # sort the Series in descending order"
   ]
  },
  {
   "cell_type": "code",
   "execution_count": 27,
   "id": "743e1224",
   "metadata": {},
   "outputs": [
    {
     "data": {
      "text/plain": [
       "a     1\n",
       "b     2\n",
       "c     3\n",
       "d    10\n",
       "e     5\n",
       "dtype: int64"
      ]
     },
     "execution_count": 27,
     "metadata": {},
     "output_type": "execute_result"
    }
   ],
   "source": [
    "z.iloc[3] = 10 # change the value of the fourth element of the Series\n",
    "z"
   ]
  },
  {
   "cell_type": "code",
   "execution_count": 28,
   "id": "0f9c656c",
   "metadata": {},
   "outputs": [
    {
     "data": {
      "text/plain": [
       "a    1\n",
       "b    2\n",
       "c    3\n",
       "d    4\n",
       "e    5\n",
       "dtype: int64"
      ]
     },
     "execution_count": 28,
     "metadata": {},
     "output_type": "execute_result"
    }
   ],
   "source": [
    "z.iloc[3] = 4 # change the value of the fourth element of the Series back to 4\n",
    "z"
   ]
  },
  {
   "cell_type": "code",
   "execution_count": 29,
   "id": "384f917b",
   "metadata": {},
   "outputs": [
    {
     "data": {
      "text/plain": [
       "a     6\n",
       "b     7\n",
       "c     8\n",
       "d     9\n",
       "e    10\n",
       "dtype: int64"
      ]
     },
     "execution_count": 29,
     "metadata": {},
     "output_type": "execute_result"
    }
   ],
   "source": [
    "z + 5"
   ]
  },
  {
   "cell_type": "code",
   "execution_count": 2,
   "id": "1b4ce5bd",
   "metadata": {},
   "outputs": [
    {
     "data": {
      "text/plain": [
       "0     35.467\n",
       "1     63.951\n",
       "2     80.940\n",
       "3     60.665\n",
       "4    127.061\n",
       "5     64.511\n",
       "6    318.523\n",
       "dtype: float64"
      ]
     },
     "execution_count": 2,
     "metadata": {},
     "output_type": "execute_result"
    }
   ],
   "source": [
    "# g7 population in millions\n",
    "g7_pop = pd.Series([35.467, 63.951, 80.940, 60.665, 127.061, 64.511, 318.523]) # pd.Series() is a function that creates a Series object, here we create a Series object called g7_pop from a list of numbers\n",
    "g7_pop"
   ]
  },
  {
   "cell_type": "code",
   "execution_count": 3,
   "id": "c7db71b4",
   "metadata": {},
   "outputs": [
    {
     "data": {
      "text/plain": [
       "0     35.467\n",
       "1     63.951\n",
       "2     80.940\n",
       "3     60.665\n",
       "4    127.061\n",
       "5     64.511\n",
       "6    318.523\n",
       "Name: G7 population in millions, dtype: float64"
      ]
     },
     "execution_count": 3,
     "metadata": {},
     "output_type": "execute_result"
    }
   ],
   "source": [
    "g7_pop.name = \"G7 population in millions\" # we can give a name to the Series object\n",
    "g7_pop"
   ]
  },
  {
   "cell_type": "code",
   "execution_count": 4,
   "id": "725744b7",
   "metadata": {},
   "outputs": [
    {
     "data": {
      "text/plain": [
       "dtype('float64')"
      ]
     },
     "execution_count": 4,
     "metadata": {},
     "output_type": "execute_result"
    }
   ],
   "source": [
    "g7_pop.dtype # we can check the data type of the Series object"
   ]
  },
  {
   "cell_type": "code",
   "execution_count": 5,
   "id": "e26ac10a",
   "metadata": {},
   "outputs": [
    {
     "data": {
      "text/plain": [
       "array([ 35.467,  63.951,  80.94 ,  60.665, 127.061,  64.511, 318.523])"
      ]
     },
     "execution_count": 5,
     "metadata": {},
     "output_type": "execute_result"
    }
   ],
   "source": [
    "g7_pop.values # we can check the values of the Series object"
   ]
  },
  {
   "cell_type": "code",
   "execution_count": 6,
   "id": "3340e3e3",
   "metadata": {},
   "outputs": [
    {
     "data": {
      "text/plain": [
       "RangeIndex(start=0, stop=7, step=1)"
      ]
     },
     "execution_count": 6,
     "metadata": {},
     "output_type": "execute_result"
    }
   ],
   "source": [
    "g7_pop.index # we can check the index of the Series object"
   ]
  },
  {
   "cell_type": "code",
   "execution_count": 7,
   "id": "244f40c1",
   "metadata": {},
   "outputs": [
    {
     "data": {
      "text/plain": [
       "Canada             35.467\n",
       "France             63.951\n",
       "Germany            80.940\n",
       "Italy              60.665\n",
       "Japan             127.061\n",
       "United Kingdom     64.511\n",
       "United States     318.523\n",
       "Name: G7 population in millions, dtype: float64"
      ]
     },
     "execution_count": 7,
     "metadata": {},
     "output_type": "execute_result"
    }
   ],
   "source": [
    "g7_pop.index = [\"Canada\", \"France\", \"Germany\", \"Italy\", \"Japan\", \"United Kingdom\", \"United States\"] # we can change the index of the Series object\n",
    "g7_pop"
   ]
  },
  {
   "cell_type": "code",
   "execution_count": 8,
   "id": "8cc2b77e",
   "metadata": {},
   "outputs": [
    {
     "data": {
      "text/plain": [
       "[86, 37, 20, 10, 7, 6, 0.7]"
      ]
     },
     "execution_count": 8,
     "metadata": {},
     "output_type": "execute_result"
    }
   ],
   "source": [
    "# Turkic Countries, Population , Nominal GDP, GDP per Capita\n",
    "\n",
    "tr_pop_list = [86, 37, 20, 10, 7, 6, 0.7] # here we just create a list of numbers instead of a Series object\n",
    "tr_pop_list"
   ]
  },
  {
   "cell_type": "code",
   "execution_count": 9,
   "id": "de0c44d0",
   "metadata": {},
   "outputs": [
    {
     "data": {
      "text/plain": [
       "0    86.0\n",
       "1    37.0\n",
       "2    20.0\n",
       "3    10.0\n",
       "4     7.0\n",
       "5     6.0\n",
       "6     0.7\n",
       "dtype: float64"
      ]
     },
     "execution_count": 9,
     "metadata": {},
     "output_type": "execute_result"
    }
   ],
   "source": [
    "\n",
    "turkic_pop = pd.Series([86, 37, 20, 10, 7, 6, 0.7]) # here we create a Series object called turkic_pop from a list of numbers\n",
    "turkic_pop"
   ]
  },
  {
   "cell_type": "code",
   "execution_count": 10,
   "id": "9820301b",
   "metadata": {},
   "outputs": [
    {
     "data": {
      "text/plain": [
       "0    86.0\n",
       "1    37.0\n",
       "2    20.0\n",
       "3    10.0\n",
       "4     7.0\n",
       "5     6.0\n",
       "6     0.7\n",
       "Name: Turkic Countries Population in millions, dtype: float64"
      ]
     },
     "execution_count": 10,
     "metadata": {},
     "output_type": "execute_result"
    }
   ],
   "source": [
    "turkic_pop.name = \"Turkic Countries Population in millions\" # we can give a name to the Series object\n",
    "turkic_pop"
   ]
  },
  {
   "cell_type": "code",
   "execution_count": 11,
   "id": "092abb00",
   "metadata": {},
   "outputs": [],
   "source": [
    "tr_dict = pd.Series({\n",
    "    \"Türkiye\" : 86,\n",
    "    \"Uzbekistan\" : 37,\n",
    "    \"Kazakhstan\" : 20,\n",
    "    \"Azerbaijan\" : 10,\n",
    "    \"Kyrgyzstan\" : 7,\n",
    "    \"Turkmenistan\" : 6,\n",
    "    \"Turkish Republic of Northern Cyprus\" : 0.7 \n",
    "}, name=\"Turkic Countries Population in millions\") # we can create a Series object from a dictionary\n"
   ]
  },
  {
   "cell_type": "code",
   "execution_count": 12,
   "id": "be8ae67d",
   "metadata": {},
   "outputs": [
    {
     "data": {
      "text/plain": [
       "Türkiye                                86.0\n",
       "Uzbekistan                             37.0\n",
       "Kazakhstan                             20.0\n",
       "Azerbaijan                             10.0\n",
       "Kyrgyzstan                              7.0\n",
       "Turkmenistan                            6.0\n",
       "Turkish Republic of Northern Cyprus     0.7\n",
       "Name: Turkic Countries Population in millions, dtype: float64"
      ]
     },
     "execution_count": 12,
     "metadata": {},
     "output_type": "execute_result"
    }
   ],
   "source": [
    "tr_7 = pd.Series([86, 37, 20, 10, 7, 6, 0.7], index=[\"Türkiye\",\"Uzbekistan\", \"Kazakhstan\", \"Azerbaijan\", \"Kyrgyzstan\", \"Turkmenistan\",  \"Turkish Republic of Northern Cyprus\"], name=\"Turkic Countries Population in millions\") # we can create a Series object from a list and an index and   a name\n",
    "\n",
    "tr_7"
   ]
  },
  {
   "cell_type": "code",
   "execution_count": 13,
   "id": "51fa4096",
   "metadata": {},
   "outputs": [
    {
     "data": {
      "text/plain": [
       "0    86.0\n",
       "1    37.0\n",
       "2    20.0\n",
       "3    10.0\n",
       "4     7.0\n",
       "5     6.0\n",
       "6     0.7\n",
       "Name: Turkic Countries Population in millions, dtype: float64"
      ]
     },
     "execution_count": 13,
     "metadata": {},
     "output_type": "execute_result"
    }
   ],
   "source": [
    "tr = pd.Series(turkic_pop) # we can create a Series object from another Series object\n",
    "tr"
   ]
  },
  {
   "cell_type": "code",
   "execution_count": 14,
   "id": "21c92796",
   "metadata": {},
   "outputs": [],
   "source": [
    "tr_pop = pd.Series(tr_pop_list, index=[\"Türkiye\",\"Uzbekistan\", \"Kazakhstan\", \"Azerbaijan\", \"Kyrgyzstan\", \"Turkmenistan\",  \"Turkish Republic of Northern Cyprus\"], name=\"Turkic Countries Population in millions\") # we can create a Series object from a list object using the variable and an index and a name"
   ]
  },
  {
   "cell_type": "code",
   "execution_count": 15,
   "id": "07b38301",
   "metadata": {},
   "outputs": [
    {
     "data": {
      "text/plain": [
       "Türkiye                                86.0\n",
       "Uzbekistan                             37.0\n",
       "Kazakhstan                             20.0\n",
       "Azerbaijan                             10.0\n",
       "Kyrgyzstan                              7.0\n",
       "Turkmenistan                            6.0\n",
       "Turkish Republic of Northern Cyprus     0.7\n",
       "Name: Turkic Countries Population in millions, dtype: float64"
      ]
     },
     "execution_count": 15,
     "metadata": {},
     "output_type": "execute_result"
    }
   ],
   "source": [
    "tr = pd.Series(tr_pop_list) # we can create a Series object from a list object using the variable\n",
    "tr.index = [\"Türkiye\",\"Uzbekistan\", \"Kazakhstan\", \"Azerbaijan\", \"Kyrgyzstan\", \"Turkmenistan\",  \"Turkish Republic of Northern Cyprus\"] # we can set the index of a Series object\n",
    "tr.name = \"Turkic Countries Population in millions\" # we can set the name of a Series object\n",
    "tr"
   ]
  },
  {
   "cell_type": "code",
   "execution_count": 16,
   "id": "1251c006",
   "metadata": {},
   "outputs": [],
   "source": [
    "close_allies = pd.Series(tr_dict, index=[\"Türkiye\",\"Azerbaijan\", \"Turkish Republic of Northern Cyprus\"]) # we can create a new Series object from a dictionary object using the variable and an index"
   ]
  },
  {
   "cell_type": "code",
   "execution_count": 17,
   "id": "6cde066c",
   "metadata": {},
   "outputs": [
    {
     "data": {
      "text/plain": [
       "Türkiye                                86.0\n",
       "Azerbaijan                             10.0\n",
       "Turkish Republic of Northern Cyprus     0.7\n",
       "Name: Turkic Countries Population in millions, dtype: float64"
      ]
     },
     "execution_count": 17,
     "metadata": {},
     "output_type": "execute_result"
    }
   ],
   "source": [
    "close_allies"
   ]
  },
  {
   "cell_type": "code",
   "execution_count": 18,
   "id": "f0c1d65a",
   "metadata": {},
   "outputs": [
    {
     "data": {
      "text/plain": [
       "Türkiye                                86.0\n",
       "Azerbaijan                             10.0\n",
       "Turkish Republic of Northern Cyprus     0.7\n",
       "Name: Turkic Countries Population in millions, dtype: float64"
      ]
     },
     "execution_count": 18,
     "metadata": {},
     "output_type": "execute_result"
    }
   ],
   "source": [
    "close2 = pd.Series(tr_7, index=[\"Türkiye\",\"Azerbaijan\", \"Turkish Republic of Northern Cyprus\"])\n",
    "close2"
   ]
  },
  {
   "cell_type": "code",
   "execution_count": 19,
   "id": "0e1fa8c7",
   "metadata": {},
   "outputs": [
    {
     "data": {
      "text/plain": [
       "86.0"
      ]
     },
     "execution_count": 19,
     "metadata": {},
     "output_type": "execute_result"
    }
   ],
   "source": [
    "#indexing - use the index of the element to select a value\n",
    "\n",
    "tr_pop[\"Türkiye\"]"
   ]
  },
  {
   "cell_type": "code",
   "execution_count": 20,
   "id": "ade2f68b",
   "metadata": {},
   "outputs": [
    {
     "data": {
      "text/plain": [
       "10.0"
      ]
     },
     "execution_count": 20,
     "metadata": {},
     "output_type": "execute_result"
    }
   ],
   "source": [
    "tr_pop[\"Azerbaijan\"]"
   ]
  },
  {
   "cell_type": "code",
   "execution_count": 21,
   "id": "3387f1b6",
   "metadata": {},
   "outputs": [
    {
     "data": {
      "text/plain": [
       "Türkiye       86.0\n",
       "Azerbaijan    10.0\n",
       "Name: Turkic Countries Population in millions, dtype: float64"
      ]
     },
     "execution_count": 21,
     "metadata": {},
     "output_type": "execute_result"
    }
   ],
   "source": [
    "tr_pop[[\"Türkiye\",\"Azerbaijan\"]] #selecting multiple values"
   ]
  },
  {
   "cell_type": "code",
   "execution_count": 22,
   "id": "adc00747",
   "metadata": {},
   "outputs": [
    {
     "data": {
      "text/plain": [
       "86.0"
      ]
     },
     "execution_count": 22,
     "metadata": {},
     "output_type": "execute_result"
    }
   ],
   "source": [
    "#numeric positions - iloc attribute, by selecting sequential position\n",
    "\n",
    "tr_pop.iloc[0] # selecting the first value"
   ]
  },
  {
   "cell_type": "code",
   "execution_count": 23,
   "id": "9ff99214",
   "metadata": {},
   "outputs": [
    {
     "data": {
      "text/plain": [
       "0.7"
      ]
     },
     "execution_count": 23,
     "metadata": {},
     "output_type": "execute_result"
    }
   ],
   "source": [
    "tr_pop.iloc[-1] # selecting the last value"
   ]
  },
  {
   "cell_type": "code",
   "execution_count": 24,
   "id": "3d67a85d",
   "metadata": {},
   "outputs": [
    {
     "data": {
      "text/plain": [
       "Türkiye       86.0\n",
       "Uzbekistan    37.0\n",
       "Kazakhstan    20.0\n",
       "Name: Turkic Countries Population in millions, dtype: float64"
      ]
     },
     "execution_count": 24,
     "metadata": {},
     "output_type": "execute_result"
    }
   ],
   "source": [
    "tr_pop.iloc[[0,1,2]] # selecting multiple values, the result is a Series object"
   ]
  },
  {
   "cell_type": "code",
   "execution_count": 25,
   "id": "a504dd86",
   "metadata": {},
   "outputs": [
    {
     "data": {
      "text/plain": [
       "Türkiye       86.0\n",
       "Uzbekistan    37.0\n",
       "Kazakhstan    20.0\n",
       "Azerbaijan    10.0\n",
       "Name: Turkic Countries Population in millions, dtype: float64"
      ]
     },
     "execution_count": 25,
     "metadata": {},
     "output_type": "execute_result"
    }
   ],
   "source": [
    "tr_pop[\"Türkiye\":\"Azerbaijan\"] # selecting a range of values, the result is a Series object, upper limit is inclusive"
   ]
  },
  {
   "cell_type": "code",
   "execution_count": 26,
   "id": "d1d34a6e",
   "metadata": {},
   "outputs": [],
   "source": [
    "# BOOLEAN ARRAYS "
   ]
  },
  {
   "cell_type": "code",
   "execution_count": 27,
   "id": "80f25fec",
   "metadata": {},
   "outputs": [
    {
     "data": {
      "text/plain": [
       "Türkiye                                86.0\n",
       "Uzbekistan                             37.0\n",
       "Kazakhstan                             20.0\n",
       "Azerbaijan                             10.0\n",
       "Kyrgyzstan                              7.0\n",
       "Turkmenistan                            6.0\n",
       "Turkish Republic of Northern Cyprus     0.7\n",
       "Name: Turkic Countries Population in millions, dtype: float64"
      ]
     },
     "execution_count": 27,
     "metadata": {},
     "output_type": "execute_result"
    }
   ],
   "source": [
    "#Koşullu Seçimler - Conditional Selection - use a boolean array to select values\n",
    "\n",
    "tr_pop\n"
   ]
  },
  {
   "cell_type": "code",
   "execution_count": 28,
   "id": "9d47cd92",
   "metadata": {},
   "outputs": [
    {
     "data": {
      "text/plain": [
       "Türkiye                                 True\n",
       "Uzbekistan                              True\n",
       "Kazakhstan                              True\n",
       "Azerbaijan                             False\n",
       "Kyrgyzstan                             False\n",
       "Turkmenistan                           False\n",
       "Turkish Republic of Northern Cyprus    False\n",
       "Name: Turkic Countries Population in millions, dtype: bool"
      ]
     },
     "execution_count": 28,
     "metadata": {},
     "output_type": "execute_result"
    }
   ],
   "source": [
    "tr_pop > 10 # creating a boolean array and finding the values that are greater than 10"
   ]
  },
  {
   "cell_type": "code",
   "execution_count": 29,
   "id": "b29aa316",
   "metadata": {},
   "outputs": [
    {
     "data": {
      "text/plain": [
       "Türkiye       86.0\n",
       "Uzbekistan    37.0\n",
       "Kazakhstan    20.0\n",
       "Name: Turkic Countries Population in millions, dtype: float64"
      ]
     },
     "execution_count": 29,
     "metadata": {},
     "output_type": "execute_result"
    }
   ],
   "source": [
    "tr_pop[tr_pop > 10] # selecting values greater than 10"
   ]
  },
  {
   "cell_type": "code",
   "execution_count": 30,
   "id": "0921c296",
   "metadata": {},
   "outputs": [
    {
     "data": {
      "text/plain": [
       "23.814285714285713"
      ]
     },
     "execution_count": 30,
     "metadata": {},
     "output_type": "execute_result"
    }
   ],
   "source": [
    "tr_pop.mean() # calculating the mean of the values"
   ]
  },
  {
   "cell_type": "code",
   "execution_count": 31,
   "id": "b28b4da1",
   "metadata": {},
   "outputs": [
    {
     "data": {
      "text/plain": [
       "Türkiye       86.0\n",
       "Uzbekistan    37.0\n",
       "Name: Turkic Countries Population in millions, dtype: float64"
      ]
     },
     "execution_count": 31,
     "metadata": {},
     "output_type": "execute_result"
    }
   ],
   "source": [
    "tr_pop[tr_pop > tr_pop.mean()] # selecting values greater than the mean"
   ]
  },
  {
   "cell_type": "code",
   "execution_count": 32,
   "id": "688e9495",
   "metadata": {},
   "outputs": [
    {
     "data": {
      "text/plain": [
       "Index(['Türkiye', 'Uzbekistan'], dtype='object')"
      ]
     },
     "execution_count": 32,
     "metadata": {},
     "output_type": "execute_result"
    }
   ],
   "source": [
    "tr_pop[tr_pop > tr_pop.mean()].index # selecting the index of the values greater than the mean"
   ]
  },
  {
   "cell_type": "code",
   "execution_count": 33,
   "id": "06ea5d5e",
   "metadata": {},
   "outputs": [
    {
     "data": {
      "text/plain": [
       "29.946197787110837"
      ]
     },
     "execution_count": 33,
     "metadata": {},
     "output_type": "execute_result"
    }
   ],
   "source": [
    "tr_pop.std()"
   ]
  },
  {
   "cell_type": "code",
   "execution_count": 34,
   "id": "e8d16a0c",
   "metadata": {},
   "outputs": [
    {
     "data": {
      "text/plain": [
       "Türkiye       86.0\n",
       "Uzbekistan    37.0\n",
       "Name: Turkic Countries Population in millions, dtype: float64"
      ]
     },
     "execution_count": 34,
     "metadata": {},
     "output_type": "execute_result"
    }
   ],
   "source": [
    "# ~ not , | or , & and, | or\n",
    "tr_pop[(tr_pop > tr_pop.mean()) & (tr_pop > tr_pop.std())] # selecting values greater than the mean and also greater than the standard deviation"
   ]
  },
  {
   "cell_type": "markdown",
   "id": "52683a72",
   "metadata": {},
   "source": [
    "Operations and Methods"
   ]
  },
  {
   "cell_type": "code",
   "execution_count": 35,
   "id": "2df66f21",
   "metadata": {},
   "outputs": [
    {
     "data": {
      "text/plain": [
       "Türkiye                                86.0\n",
       "Uzbekistan                             37.0\n",
       "Kazakhstan                             20.0\n",
       "Azerbaijan                             10.0\n",
       "Kyrgyzstan                              7.0\n",
       "Turkmenistan                            6.0\n",
       "Turkish Republic of Northern Cyprus     0.7\n",
       "Name: Turkic Countries Population in millions, dtype: float64"
      ]
     },
     "execution_count": 35,
     "metadata": {},
     "output_type": "execute_result"
    }
   ],
   "source": [
    "tr_pop"
   ]
  },
  {
   "cell_type": "code",
   "execution_count": 36,
   "id": "ee1e4930",
   "metadata": {},
   "outputs": [
    {
     "data": {
      "text/plain": [
       "Türkiye                                86000000.0\n",
       "Uzbekistan                             37000000.0\n",
       "Kazakhstan                             20000000.0\n",
       "Azerbaijan                             10000000.0\n",
       "Kyrgyzstan                              7000000.0\n",
       "Turkmenistan                            6000000.0\n",
       "Turkish Republic of Northern Cyprus      700000.0\n",
       "Name: Turkic Countries Population in millions, dtype: float64"
      ]
     },
     "execution_count": 36,
     "metadata": {},
     "output_type": "execute_result"
    }
   ],
   "source": [
    "tr_pop *1000000 # multiplying the values by 1000000"
   ]
  },
  {
   "cell_type": "code",
   "execution_count": 37,
   "id": "cd80d891",
   "metadata": {},
   "outputs": [
    {
     "data": {
      "text/plain": [
       "23.814285714285713"
      ]
     },
     "execution_count": 37,
     "metadata": {},
     "output_type": "execute_result"
    }
   ],
   "source": [
    "tr_pop.mean()"
   ]
  },
  {
   "cell_type": "code",
   "execution_count": 38,
   "id": "14d07271",
   "metadata": {},
   "outputs": [
    {
     "data": {
      "text/plain": [
       "Türkiye                                4.454347\n",
       "Uzbekistan                             3.610918\n",
       "Kazakhstan                             2.995732\n",
       "Azerbaijan                             2.302585\n",
       "Kyrgyzstan                             1.945910\n",
       "Turkmenistan                           1.791759\n",
       "Turkish Republic of Northern Cyprus   -0.356675\n",
       "Name: Turkic Countries Population in millions, dtype: float64"
      ]
     },
     "execution_count": 38,
     "metadata": {},
     "output_type": "execute_result"
    }
   ],
   "source": [
    "np.log(tr_pop) # calculating the natural logarithm of the values"
   ]
  },
  {
   "cell_type": "code",
   "execution_count": 39,
   "id": "33d38240",
   "metadata": {},
   "outputs": [
    {
     "data": {
      "text/plain": [
       "38.25"
      ]
     },
     "execution_count": 39,
     "metadata": {},
     "output_type": "execute_result"
    }
   ],
   "source": [
    "tr_pop[\"Türkiye\":\"Azerbaijan\"].mean() # calculating the mean of the values in the range of \"Türkiye\" to \"Azerbaijan\""
   ]
  },
  {
   "cell_type": "code",
   "execution_count": 40,
   "id": "362389f7",
   "metadata": {},
   "outputs": [
    {
     "data": {
      "text/plain": [
       "Türkiye                                86.0\n",
       "Uzbekistan                             37.0\n",
       "Kyrgyzstan                              7.0\n",
       "Turkmenistan                            6.0\n",
       "Turkish Republic of Northern Cyprus     0.7\n",
       "Name: Turkic Countries Population in millions, dtype: float64"
      ]
     },
     "execution_count": 40,
     "metadata": {},
     "output_type": "execute_result"
    }
   ],
   "source": [
    "# boolean arrays\n",
    "tr_pop[ (tr_pop > 30) | (tr_pop < 10)]"
   ]
  },
  {
   "cell_type": "code",
   "execution_count": 41,
   "id": "e5ed5eb3",
   "metadata": {},
   "outputs": [
    {
     "data": {
      "text/plain": [
       "Uzbekistan    37.0\n",
       "Kazakhstan    20.0\n",
       "Name: Turkic Countries Population in millions, dtype: float64"
      ]
     },
     "execution_count": 41,
     "metadata": {},
     "output_type": "execute_result"
    }
   ],
   "source": [
    "tr_pop[(tr_pop < 80) & (tr_pop > 10)] # selecting values between 10 and 80"
   ]
  },
  {
   "cell_type": "code",
   "execution_count": 42,
   "id": "ddce166b",
   "metadata": {},
   "outputs": [
    {
     "data": {
      "text/plain": [
       "Germany     80.940\n",
       "Japan      127.061\n",
       "Name: G7 population in millions, dtype: float64"
      ]
     },
     "execution_count": 42,
     "metadata": {},
     "output_type": "execute_result"
    }
   ],
   "source": [
    "g7_pop[(g7_pop > 80) & (g7_pop < 200)] # selecting values between 80 and 200"
   ]
  },
  {
   "cell_type": "code",
   "execution_count": 36,
   "id": "0db0f72a",
   "metadata": {},
   "outputs": [
    {
     "data": {
      "text/plain": [
       "0     True\n",
       "1    False\n",
       "2     True\n",
       "3    False\n",
       "4     True\n",
       "5     True\n",
       "6    False\n",
       "7     True\n",
       "8    False\n",
       "9     True\n",
       "dtype: bool"
      ]
     },
     "execution_count": 36,
     "metadata": {},
     "output_type": "execute_result"
    }
   ],
   "source": [
    "neg = pd.Series([-1, 2, -3, 4, -5, -6, 7, -8, 9, -10])\n",
    "\n",
    "mask  = neg < 0 # selecting values that are less than 0 and returning a boolean array\n",
    "mask"
   ]
  },
  {
   "cell_type": "code",
   "execution_count": 31,
   "id": "1d035bf2",
   "metadata": {},
   "outputs": [
    {
     "data": {
      "text/plain": [
       "0    -1\n",
       "2    -3\n",
       "4    -5\n",
       "5    -6\n",
       "7    -8\n",
       "9   -10\n",
       "dtype: int64"
      ]
     },
     "execution_count": 31,
     "metadata": {},
     "output_type": "execute_result"
    }
   ],
   "source": [
    "neg[mask]"
   ]
  },
  {
   "cell_type": "code",
   "execution_count": 35,
   "id": "fc204a65",
   "metadata": {},
   "outputs": [
    {
     "data": {
      "text/plain": [
       "0    False\n",
       "1    False\n",
       "2    False\n",
       "3    False\n",
       "4    False\n",
       "5    False\n",
       "6     True\n",
       "7    False\n",
       "8     True\n",
       "9    False\n",
       "dtype: bool"
      ]
     },
     "execution_count": 35,
     "metadata": {},
     "output_type": "execute_result"
    }
   ],
   "source": [
    "mask2 = neg > 5\n",
    "mask2 # selecting values that are greater than 5 and returning a boolean array\n"
   ]
  },
  {
   "cell_type": "code",
   "execution_count": null,
   "id": "8c763fab",
   "metadata": {},
   "outputs": [
    {
     "data": {
      "text/plain": [
       "6    7\n",
       "8    9\n",
       "dtype: int64"
      ]
     },
     "execution_count": 34,
     "metadata": {},
     "output_type": "execute_result"
    }
   ],
   "source": [
    "neg[mask2] # selecting values that are greater than 5\n"
   ]
  },
  {
   "cell_type": "code",
   "execution_count": null,
   "id": "8c371316",
   "metadata": {},
   "outputs": [],
   "source": [
    "neg[mask & mask2] # selecting values that are less than 0 and greater than 5"
   ]
  },
  {
   "cell_type": "code",
   "execution_count": 37,
   "id": "e78fa5ac",
   "metadata": {},
   "outputs": [
    {
     "data": {
      "text/plain": [
       "True"
      ]
     },
     "execution_count": 37,
     "metadata": {},
     "output_type": "execute_result"
    }
   ],
   "source": [
    "# all() and any() methods\n",
    "neg.all() # checking if all values are less than 0"
   ]
  },
  {
   "cell_type": "code",
   "execution_count": 48,
   "id": "39266bfa",
   "metadata": {},
   "outputs": [
    {
     "data": {
      "text/plain": [
       "True"
      ]
     },
     "execution_count": 48,
     "metadata": {},
     "output_type": "execute_result"
    }
   ],
   "source": [
    "neg.any() # checking if any value is less than 0\n",
    "\n",
    "\n",
    "\n"
   ]
  },
  {
   "cell_type": "code",
   "execution_count": 51,
   "id": "45242790",
   "metadata": {},
   "outputs": [
    {
     "name": "stdout",
     "output_type": "stream",
     "text": [
      "1   -2\n",
      "3   -4\n",
      "dtype: int64\n"
     ]
    }
   ],
   "source": [
    "\n",
    "# Example Series\n",
    "neg = pd.Series([1, -2, 3, -4, 5])\n",
    "\n",
    "# Create a boolean mask\n",
    "mask3 = neg < 0\n",
    "\n",
    "# Filter the Series using the mask\n",
    "negative_values = neg[mask3]\n",
    "\n",
    "print(negative_values)"
   ]
  },
  {
   "cell_type": "markdown",
   "id": "f8d94900",
   "metadata": {},
   "source": [
    "\n",
    "modifying series"
   ]
  },
  {
   "cell_type": "code",
   "execution_count": 43,
   "id": "8fe42ea0",
   "metadata": {},
   "outputs": [
    {
     "data": {
      "text/plain": [
       "Türkiye                                86.0\n",
       "Uzbekistan                             37.0\n",
       "Kazakhstan                             20.0\n",
       "Azerbaijan                             10.0\n",
       "Kyrgyzstan                              7.0\n",
       "Turkmenistan                            6.0\n",
       "Turkish Republic of Northern Cyprus     0.7\n",
       "Name: Turkic Countries Population in millions, dtype: float64"
      ]
     },
     "execution_count": 43,
     "metadata": {},
     "output_type": "execute_result"
    }
   ],
   "source": [
    "tr_pop"
   ]
  },
  {
   "cell_type": "code",
   "execution_count": 44,
   "id": "0bb9b82c",
   "metadata": {},
   "outputs": [],
   "source": [
    "tr_pop[\"Türkiye\"] = 100 # modifying the value of \"Türkiye\""
   ]
  },
  {
   "cell_type": "code",
   "execution_count": 45,
   "id": "bab535a7",
   "metadata": {},
   "outputs": [
    {
     "data": {
      "text/plain": [
       "Türkiye                                100.0\n",
       "Uzbekistan                              37.0\n",
       "Kazakhstan                              20.0\n",
       "Azerbaijan                              10.0\n",
       "Kyrgyzstan                               7.0\n",
       "Turkmenistan                             6.0\n",
       "Turkish Republic of Northern Cyprus      0.7\n",
       "Name: Turkic Countries Population in millions, dtype: float64"
      ]
     },
     "execution_count": 45,
     "metadata": {},
     "output_type": "execute_result"
    }
   ],
   "source": [
    "tr_pop"
   ]
  },
  {
   "cell_type": "code",
   "execution_count": 46,
   "id": "6d4a5849",
   "metadata": {},
   "outputs": [
    {
     "data": {
      "text/plain": [
       "Azerbaijan                             10.0\n",
       "Kyrgyzstan                              7.0\n",
       "Turkmenistan                            6.0\n",
       "Turkish Republic of Northern Cyprus     0.7\n",
       "Name: Turkic Countries Population in millions, dtype: float64"
      ]
     },
     "execution_count": 46,
     "metadata": {},
     "output_type": "execute_result"
    }
   ],
   "source": [
    "tr_pop[tr_pop < 20] # selecting values less than 20"
   ]
  },
  {
   "cell_type": "code",
   "execution_count": 47,
   "id": "684a48d4",
   "metadata": {},
   "outputs": [],
   "source": [
    "tr_pop[ tr_pop < 20] = 99 # modifying the values less than 20 to 99"
   ]
  },
  {
   "cell_type": "code",
   "execution_count": 48,
   "id": "2d323db7",
   "metadata": {},
   "outputs": [
    {
     "data": {
      "text/plain": [
       "Türkiye                                100.0\n",
       "Uzbekistan                              37.0\n",
       "Kazakhstan                              20.0\n",
       "Azerbaijan                              99.0\n",
       "Kyrgyzstan                              99.0\n",
       "Turkmenistan                            99.0\n",
       "Turkish Republic of Northern Cyprus     99.0\n",
       "Name: Turkic Countries Population in millions, dtype: float64"
      ]
     },
     "execution_count": 48,
     "metadata": {},
     "output_type": "execute_result"
    }
   ],
   "source": [
    "tr_pop"
   ]
  },
  {
   "cell_type": "code",
   "execution_count": null,
   "id": "40971516",
   "metadata": {},
   "outputs": [],
   "source": []
  }
 ],
 "metadata": {
  "kernelspec": {
   "display_name": "base",
   "language": "python",
   "name": "python3"
  },
  "language_info": {
   "codemirror_mode": {
    "name": "ipython",
    "version": 3
   },
   "file_extension": ".py",
   "mimetype": "text/x-python",
   "name": "python",
   "nbconvert_exporter": "python",
   "pygments_lexer": "ipython3",
   "version": "3.12.9"
  }
 },
 "nbformat": 4,
 "nbformat_minor": 5
}
