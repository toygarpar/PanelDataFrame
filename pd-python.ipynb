{
 "cells": [
  {
   "cell_type": "code",
   "execution_count": 83,
   "id": "8518f5e6",
   "metadata": {},
   "outputs": [],
   "source": [
    "# function to add two numbers\n",
    "def add_numbers(x, y):\n",
    "    # return the sum of x and y\n",
    "    return x + y"
   ]
  },
  {
   "cell_type": "code",
   "execution_count": 84,
   "id": "dc55cc2d",
   "metadata": {},
   "outputs": [
    {
     "data": {
      "text/plain": [
       "3"
      ]
     },
     "execution_count": 84,
     "metadata": {},
     "output_type": "execute_result"
    }
   ],
   "source": [
    "add_numbers(1, 2)"
   ]
  },
  {
   "cell_type": "code",
   "execution_count": 85,
   "id": "cf09b580",
   "metadata": {},
   "outputs": [
    {
     "name": "stdout",
     "output_type": "stream",
     "text": [
      "Language is Python\n"
     ]
    }
   ],
   "source": [
    "# if-else\n",
    "language = 'Python'\n",
    "if language == 'Python':\n",
    "    print(f'Language is {language}')\n",
    "elif language == 'Go':\n",
    "    print('Language is Go')\n",
    "else:\n",
    "    print('No match')\n",
    "\n",
    "#by the way, this a comment, it will not be executed. You can use # for single line comments and triple quotes for multi-line comments. Place it above code or below code, or next to code."
   ]
  },
  {
   "cell_type": "code",
   "execution_count": 86,
   "id": "86765ebd",
   "metadata": {},
   "outputs": [
    {
     "name": "stdout",
     "output_type": "stream",
     "text": [
      "My name is Toygar and I am 50 years old.\n"
     ]
    }
   ],
   "source": [
    "# variables\n",
    "\n",
    "name = \"Toygar\" # string variable\n",
    "age = 50 # integer variable\n",
    "print(f'My name is {name} and I am {age} years old.') # f-string for formatting strings"
   ]
  },
  {
   "cell_type": "code",
   "execution_count": 87,
   "id": "57a94b33",
   "metadata": {},
   "outputs": [
    {
     "name": "stdout",
     "output_type": "stream",
     "text": [
      "100\n",
      "23.45\n",
      "1j\n",
      "Hello\n",
      "[1, 2, 3]\n",
      "(1, 'Toygar', 3.14)\n",
      "range(0, 6)\n",
      "{'name': 'Toygar', 'age': 50}\n",
      "{1, 2, 3}\n",
      "frozenset({1, 2, 3})\n",
      "True\n",
      "b'Hello'\n",
      "b'Hello'\n",
      "bytearray(b'Hello')\n",
      "<memory at 0x79db864dcac0>\n"
     ]
    }
   ],
   "source": [
    "# data types\n",
    "integer_var = 100 # int\n",
    "float_var = 23.45 # float\n",
    "complex_var = 1j # complex number\n",
    "string_var = \"Hello\" # string\n",
    "list_var = [1, 2, 3] # list\n",
    "tuple_var = (1, 'Toygar', 3.14) # tuple\n",
    "range_var = range(6) # range\n",
    "dict_var = {\"name\": \"Toygar\", \"age\": 50} # dictionary\n",
    "set_var = {1, 2, 3} # set\n",
    "frozenset_var = frozenset({1, 2, 3}) # frozen set\n",
    "bool_var = True # boolean\n",
    "byte_var = b\"Hello\" # byte\n",
    "bytes_var = bytes(b\"Hello\") # byte array\n",
    "bytearray_var = bytearray(b\"Hello\") # mutable byte array\n",
    "memoryview_var = memoryview(bytes(b\"Hello\")) # memory view\n",
    "\n",
    "print(integer_var)\n",
    "print(float_var)\n",
    "print(complex_var)\n",
    "print(string_var)\n",
    "print(list_var)\n",
    "print(tuple_var)\n",
    "print(range_var)\n",
    "print(dict_var)\n",
    "print(set_var)\n",
    "print(frozenset_var)\n",
    "print(bool_var)\n",
    "print(byte_var)\n",
    "print(bytes_var)\n",
    "print(bytearray_var)\n",
    "print(memoryview_var)"
   ]
  },
  {
   "cell_type": "code",
   "execution_count": 88,
   "id": "9e33be6c",
   "metadata": {},
   "outputs": [
    {
     "name": "stdout",
     "output_type": "stream",
     "text": [
      "Squares: [1, 4, 9, 16, 25]\n",
      "[1, 4, 7]\n",
      "[2, 5, 8]\n",
      "[3, 6, 9]\n"
     ]
    }
   ],
   "source": [
    "# data structures and operations\n",
    "numbers = [1, 2, 3, 4, 5]\n",
    "squares = [x**2 for x in numbers] # list comprehension\n",
    "print(\"Squares:\", squares)\n",
    "matrix = [[1, 2, 3], [4, 5, 6], [7, 8, 9]]\n",
    "transposed = zip(*matrix) # zip function to transpose matrix\n",
    "for row in transposed:\n",
    "    print(list(row))\n",
    "    "
   ]
  },
  {
   "cell_type": "code",
   "execution_count": 89,
   "id": "723e512e",
   "metadata": {},
   "outputs": [
    {
     "name": "stdout",
     "output_type": "stream",
     "text": [
      "Fiyat: 123.456\n",
      "Fiyat (rounded): 123.46\n"
     ]
    }
   ],
   "source": [
    "# floating point precision\n",
    "\n",
    "fiyat = 123.456\n",
    "print(\"Fiyat:\", fiyat)\n",
    "print(\"Fiyat (rounded):\", round(fiyat, 2)) # rounding to two decimal places"
   ]
  },
  {
   "cell_type": "code",
   "execution_count": 90,
   "id": "70c37715",
   "metadata": {},
   "outputs": [
    {
     "name": "stdout",
     "output_type": "stream",
     "text": [
      "Fiyat: 123.456\n",
      "Fiyat (rounded): 123.46\n"
     ]
    }
   ],
   "source": [
    "# for fixed point arithmetic use Decimal from decimal module\n",
    "from decimal import Decimal\n",
    "fiyat = Decimal('123.456')\n",
    "print(\"Fiyat:\", fiyat)\n",
    "print(\"Fiyat (rounded):\", fiyat.quantize(Decimal('0.00'))) # rounding to two decimal places"
   ]
  },
  {
   "cell_type": "code",
   "execution_count": 91,
   "id": "8b117b4d",
   "metadata": {},
   "outputs": [
    {
     "name": "stdout",
     "output_type": "stream",
     "text": [
      "Original String: Hello, World!\n"
     ]
    }
   ],
   "source": [
    "# strings\n",
    "greeting = \"Hello, World!\"\n",
    "print(\"Original String:\", greeting)"
   ]
  },
  {
   "cell_type": "code",
   "execution_count": 92,
   "id": "5d70c9bb",
   "metadata": {},
   "outputs": [
    {
     "data": {
      "text/plain": [
       "str"
      ]
     },
     "execution_count": 92,
     "metadata": {},
     "output_type": "execute_result"
    }
   ],
   "source": [
    "type(greeting) # str type"
   ]
  },
  {
   "cell_type": "code",
   "execution_count": 93,
   "id": "a07741f7",
   "metadata": {},
   "outputs": [
    {
     "data": {
      "text/plain": [
       "13"
      ]
     },
     "execution_count": 93,
     "metadata": {},
     "output_type": "execute_result"
    }
   ],
   "source": [
    "len(greeting) # length of the string"
   ]
  },
  {
   "cell_type": "code",
   "execution_count": 94,
   "id": "e48d5948",
   "metadata": {},
   "outputs": [
    {
     "name": "stdout",
     "output_type": "stream",
     "text": [
      "Multi-Line String:\n",
      " This is a \n",
      "multi-line string.\n"
     ]
    }
   ],
   "source": [
    "# triple quoted strings for multi-line text\n",
    "multi_line = \"\"\"This is a \n",
    "multi-line string.\"\"\"\n",
    "print(\"Multi-Line String:\\n\", multi_line)"
   ]
  },
  {
   "cell_type": "code",
   "execution_count": 95,
   "id": "dd489a73",
   "metadata": {},
   "outputs": [
    {
     "name": "stdout",
     "output_type": "stream",
     "text": [
      "Boolean True: True\n",
      "Boolean False: False\n"
     ]
    }
   ],
   "source": [
    "# boolean values\n",
    "is_true = True\n",
    "is_false = False\n",
    "print(\"Boolean True:\", is_true)\n",
    "print(\"Boolean False:\", is_false)"
   ]
  },
  {
   "cell_type": "code",
   "execution_count": 96,
   "id": "70974d8c",
   "metadata": {},
   "outputs": [
    {
     "name": "stdout",
     "output_type": "stream",
     "text": [
      "None Type: None\n"
     ]
    }
   ],
   "source": [
    "# none type\n",
    "nothing = None\n",
    "print(\"None Type:\", nothing)"
   ]
  },
  {
   "cell_type": "code",
   "execution_count": 97,
   "id": "b4966cf2",
   "metadata": {},
   "outputs": [
    {
     "data": {
      "text/plain": [
       "NoneType"
      ]
     },
     "execution_count": 97,
     "metadata": {},
     "output_type": "execute_result"
    }
   ],
   "source": [
    "type(nothing) # <class 'NoneType'>"
   ]
  },
  {
   "cell_type": "code",
   "execution_count": 98,
   "id": "7353b105",
   "metadata": {},
   "outputs": [
    {
     "name": "stdout",
     "output_type": "stream",
     "text": [
      "Age as Integer: 50\n"
     ]
    }
   ],
   "source": [
    "age = \"50\"\n",
    "age = int(age) # convert string to integer\n",
    "print(\"Age as Integer:\", age)"
   ]
  },
  {
   "cell_type": "code",
   "execution_count": null,
   "id": "bcca31b4",
   "metadata": {},
   "outputs": [
    {
     "name": "stdout",
     "output_type": "stream",
     "text": [
      "Hello, Toygar!\n"
     ]
    }
   ],
   "source": [
    "#FUNCTIONS\n",
    "def greet(name):\n",
    "    return f\"Hello, {name}!\"\n",
    "print(greet(\"Toygar\"))"
   ]
  },
  {
   "cell_type": "code",
   "execution_count": 100,
   "id": "4248bb17",
   "metadata": {},
   "outputs": [
    {
     "name": "stdout",
     "output_type": "stream",
     "text": [
      "Sum: 8\n"
     ]
    }
   ],
   "source": [
    "#receive parameters and use them in the function\n",
    "def add_numbers(a, b):\n",
    "    return a + b\n",
    "result = add_numbers(3, 5)\n",
    "print(\"Sum:\", result)"
   ]
  },
  {
   "cell_type": "code",
   "execution_count": 101,
   "id": "4b67afbe",
   "metadata": {},
   "outputs": [
    {
     "name": "stdout",
     "output_type": "stream",
     "text": [
      "Sum of Multiple Numbers: 15\n"
     ]
    }
   ],
   "source": [
    "#accept variable number of arguments\n",
    "def add(*args): # *args for multiple arguments\n",
    "    total = sum(args)\n",
    "    return total\n",
    "print(\"Sum of Multiple Numbers:\", add(1, 2, 3, 4, 5)) # used as a tuple unpacking\n"
   ]
  },
  {
   "cell_type": "code",
   "execution_count": 102,
   "id": "cf748a0e",
   "metadata": {},
   "outputs": [
    {
     "name": "stdout",
     "output_type": "stream",
     "text": [
      "Addition: 13\n",
      "Subtraction: 7\n",
      "Multiplication: 30\n",
      "Division (float): 3.3333333333333335\n",
      "Division (integer): 3\n",
      "Modulus: 1\n",
      "Exponentiation: 1000\n"
     ]
    }
   ],
   "source": [
    "#arithmetic operators\n",
    "x = 10\n",
    "y = 3\n",
    "print(\"Addition:\", x + y)\n",
    "print(\"Subtraction:\", x - y)\n",
    "print(\"Multiplication:\", x * y)\n",
    "print(\"Division (float):\", x / y) # float division\n",
    "print(\"Division (integer):\", x // y) # integer floor division\n",
    "print(\"Modulus:\", x % y)\n",
    "print(\"Exponentiation:\", x ** y)\n"
   ]
  },
  {
   "cell_type": "code",
   "execution_count": 103,
   "id": "947c76a0",
   "metadata": {},
   "outputs": [
    {
     "data": {
      "text/plain": [
       "True"
      ]
     },
     "execution_count": 103,
     "metadata": {},
     "output_type": "execute_result"
    }
   ],
   "source": [
    "# boolean \n",
    "True and True"
   ]
  },
  {
   "cell_type": "code",
   "execution_count": 104,
   "id": "ce3549e9",
   "metadata": {},
   "outputs": [
    {
     "data": {
      "text/plain": [
       "True"
      ]
     },
     "execution_count": 104,
     "metadata": {},
     "output_type": "execute_result"
    }
   ],
   "source": [
    "not False"
   ]
  },
  {
   "cell_type": "code",
   "execution_count": 105,
   "id": "641a9eae",
   "metadata": {},
   "outputs": [
    {
     "data": {
      "text/plain": [
       "True"
      ]
     },
     "execution_count": 105,
     "metadata": {},
     "output_type": "execute_result"
    }
   ],
   "source": [
    "False or True"
   ]
  },
  {
   "cell_type": "code",
   "execution_count": 106,
   "id": "a60ae567",
   "metadata": {},
   "outputs": [
    {
     "data": {
      "text/plain": [
       "False"
      ]
     },
     "execution_count": 106,
     "metadata": {},
     "output_type": "execute_result"
    }
   ],
   "source": [
    "False"
   ]
  },
  {
   "cell_type": "code",
   "execution_count": 107,
   "id": "076920cf",
   "metadata": {},
   "outputs": [
    {
     "data": {
      "text/plain": [
       "1"
      ]
     },
     "execution_count": 107,
     "metadata": {},
     "output_type": "execute_result"
    }
   ],
   "source": [
    "int(True) # 1"
   ]
  },
  {
   "cell_type": "code",
   "execution_count": 108,
   "id": "436cc4e7",
   "metadata": {},
   "outputs": [
    {
     "data": {
      "text/plain": [
       "0"
      ]
     },
     "execution_count": 108,
     "metadata": {},
     "output_type": "execute_result"
    }
   ],
   "source": [
    "int(False) # 0"
   ]
  },
  {
   "cell_type": "code",
   "execution_count": 109,
   "id": "15d33f67",
   "metadata": {},
   "outputs": [
    {
     "name": "stdout",
     "output_type": "stream",
     "text": [
      "Greater than 5\n"
     ]
    }
   ],
   "source": [
    "# control flow\n",
    "i= 7\n",
    "if i > 5:\n",
    "    print(\"Greater than 5\")\n",
    "elif i == 5:\n",
    "    print(\"Equal to 5\")\n",
    "else:\n",
    "    print(\"Less than 5\")"
   ]
  },
  {
   "cell_type": "code",
   "execution_count": 110,
   "id": "a5d43599",
   "metadata": {},
   "outputs": [
    {
     "name": "stdout",
     "output_type": "stream",
     "text": [
      "Lebron James\n",
      "Kevin Durant\n",
      "Stephen Curry\n"
     ]
    }
   ],
   "source": [
    "# for loops\n",
    "nba_players = [ \"Lebron James\", \"Kevin Durant\", \"Stephen Curry\"]\n",
    "for player in nba_players:\n",
    "    print(player)"
   ]
  },
  {
   "cell_type": "code",
   "execution_count": 111,
   "id": "b21e9299",
   "metadata": {},
   "outputs": [
    {
     "name": "stdout",
     "output_type": "stream",
     "text": [
      "14\n"
     ]
    }
   ],
   "source": [
    "seq = [1, 2, None, 4, None, 7]\n",
    "total = 0\n",
    "for val in seq:\n",
    "    if val is None:\n",
    "        continue #  skip to the next iteration\n",
    "\n",
    "    total +=val\n",
    "\n",
    "print(total)\n"
   ]
  },
  {
   "cell_type": "code",
   "execution_count": 112,
   "id": "f9e62e72",
   "metadata": {},
   "outputs": [
    {
     "name": "stdout",
     "output_type": "stream",
     "text": [
      "13\n"
     ]
    }
   ],
   "source": [
    "sequence = [1, 2, 0, 4, 6, 5, 2, 1]\n",
    "total_until_5 = 0\n",
    "for value in sequence:\n",
    "    if value == 5:\n",
    "        break  #    stop the loop\n",
    "    total_until_5 += value\n",
    "\n",
    "print(total_until_5)"
   ]
  },
  {
   "cell_type": "code",
   "execution_count": 113,
   "id": "a0390ae7",
   "metadata": {},
   "outputs": [
    {
     "name": "stdout",
     "output_type": "stream",
     "text": [
      "(0, 0)\n",
      "(1, 0)\n",
      "(1, 1)\n",
      "(2, 0)\n",
      "(2, 1)\n",
      "(2, 2)\n",
      "(3, 0)\n",
      "(3, 1)\n",
      "(3, 2)\n",
      "(3, 3)\n"
     ]
    }
   ],
   "source": [
    "for i in range(4):\n",
    "    for j in range(4):\n",
    "        if j > i:\n",
    "            break  # inner loop only breaks when j>i\n",
    "        print((i,j))"
   ]
  },
  {
   "cell_type": "code",
   "execution_count": 114,
   "id": "4aaf372d",
   "metadata": {},
   "outputs": [
    {
     "name": "stdout",
     "output_type": "stream",
     "text": [
      "0\n",
      "1\n",
      "2\n",
      "3\n",
      "4\n"
     ]
    }
   ],
   "source": [
    "#while loops\n",
    "count = 0\n",
    "while count < 5:\n",
    "    print(count)\n",
    "    count += 1"
   ]
  },
  {
   "cell_type": "code",
   "execution_count": 115,
   "id": "c7c50e44",
   "metadata": {},
   "outputs": [
    {
     "name": "stdout",
     "output_type": "stream",
     "text": [
      "256\n",
      "128\n",
      "64\n",
      "32\n",
      "16\n",
      "8\n",
      "4\n",
      "504\n",
      "[256, 128, 64, 32, 16, 8, 4]\n"
     ]
    }
   ],
   "source": [
    "x = 256\n",
    "total = 0\n",
    "ylist = [x]\n",
    "while x > 0:\n",
    "    print(x)\n",
    "    if total > 500:\n",
    "        break\n",
    "    total += x\n",
    "    x = x // 2\n",
    "    ylist.append(x)\n",
    "    \n",
    "\n",
    "print(total)\n",
    "print(ylist)"
   ]
  },
  {
   "cell_type": "markdown",
   "id": "18b7e86a",
   "metadata": {},
   "source": [
    "## Data Structures and Sequences"
   ]
  },
  {
   "cell_type": "markdown",
   "id": "29de05a0",
   "metadata": {},
   "source": [
    "# LISTS"
   ]
  },
  {
   "cell_type": "code",
   "execution_count": 116,
   "id": "6d7d95c0",
   "metadata": {},
   "outputs": [
    {
     "name": "stdout",
     "output_type": "stream",
     "text": [
      "List: [1, 2, 3, 4, 5]\n"
     ]
    }
   ],
   "source": [
    "#collections, Sequences\n",
    "#lists\n",
    "# lists are variable length and their contents can be modified in place. Lists are mutable. You can define them using square brackets [] or using the list() type function.\n",
    "my_list = [1,2,3,4,5]\n",
    "print(\"List:\", my_list)"
   ]
  },
  {
   "cell_type": "code",
   "execution_count": 117,
   "id": "a42d308b",
   "metadata": {},
   "outputs": [
    {
     "name": "stdout",
     "output_type": "stream",
     "text": [
      "5\n",
      "1\n"
     ]
    }
   ],
   "source": [
    "print(len(my_list))\n",
    "print(my_list[0]) #accessing elements by index\n"
   ]
  },
  {
   "cell_type": "code",
   "execution_count": 118,
   "id": "4e623191",
   "metadata": {},
   "outputs": [
    {
     "name": "stdout",
     "output_type": "stream",
     "text": [
      "['Zehra', 'Marina', 'Cansu']\n"
     ]
    }
   ],
   "source": [
    "tup5 = (\"Zehra\", \"Marina\", \"Cansu\")\n",
    "list_from_tuple = list(tup5) #converting tuples to lists\n",
    "print(list_from_tuple)"
   ]
  },
  {
   "cell_type": "code",
   "execution_count": 119,
   "id": "abb985dd",
   "metadata": {},
   "outputs": [
    {
     "name": "stdout",
     "output_type": "stream",
     "text": [
      "[2, 3, 5, 7, 99]\n"
     ]
    }
   ],
   "source": [
    "liste = [ 2,3,5,7,None]\n",
    "liste[4] = 99 #modifying an element in the list\n",
    "print(liste)"
   ]
  },
  {
   "cell_type": "code",
   "execution_count": 120,
   "id": "f37e4a0f",
   "metadata": {},
   "outputs": [
    {
     "name": "stdout",
     "output_type": "stream",
     "text": [
      "range(0, 7)\n"
     ]
    },
    {
     "data": {
      "text/plain": [
       "[0, 1, 2, 3, 4, 5, 6]"
      ]
     },
     "execution_count": 120,
     "metadata": {},
     "output_type": "execute_result"
    }
   ],
   "source": [
    "liste2 = range(7) #range is an iterable object that generates integers in sequence. It can be converted to a list.\n",
    "print(liste2) #range object\n",
    "list(liste2) #converting range object to list"
   ]
  },
  {
   "cell_type": "code",
   "execution_count": 121,
   "id": "932d80c6",
   "metadata": {},
   "outputs": [
    {
     "name": "stdout",
     "output_type": "stream",
     "text": [
      "['Zehra', 'Van Ryk', 'Cansu', 'Boskovic']\n"
     ]
    }
   ],
   "source": [
    "#adding or removing elements from a list\n",
    "liste3 =  list((\"Zehra\", \"Marina\", \"Cansu\"))\n",
    "liste3.append(\"Boskovic\") #adding an element at the end of the list\n",
    "liste3.insert(1, \"Van Ryk\") #inserting an element at a specific position, first argument is the position, second argument is the value to be inserted\n",
    "liste3.remove(\"Marina\") #removing an element from the list\n",
    "print(liste3)"
   ]
  },
  {
   "cell_type": "code",
   "execution_count": 122,
   "id": "71504968",
   "metadata": {},
   "outputs": [
    {
     "name": "stdout",
     "output_type": "stream",
     "text": [
      "['Zehra', 'Van Ryk', 'Boskovic']\n",
      "['Zehra', 'Boskovic']\n"
     ]
    }
   ],
   "source": [
    "liste3.pop(2) #removing an element at a specific position, if no argument is given it removes the last element in the list\n",
    "print(liste3)\n",
    "del liste3[1] #deleting an element at a specific position\n",
    "print(liste3)"
   ]
  },
  {
   "cell_type": "code",
   "execution_count": 123,
   "id": "6fd5d2a5",
   "metadata": {},
   "outputs": [
    {
     "data": {
      "text/plain": [
       "True"
      ]
     },
     "execution_count": 123,
     "metadata": {},
     "output_type": "execute_result"
    }
   ],
   "source": [
    "\"Zehra\" in liste3 #checking if an element is in the list, returns True or False"
   ]
  },
  {
   "cell_type": "code",
   "execution_count": 124,
   "id": "45ee84e8",
   "metadata": {},
   "outputs": [
    {
     "data": {
      "text/plain": [
       "True"
      ]
     },
     "execution_count": 124,
     "metadata": {},
     "output_type": "execute_result"
    }
   ],
   "source": [
    "\"Marina\" not in liste3 #checking if an element is not in the list, returns True or False by negating the result of in operator"
   ]
  },
  {
   "cell_type": "code",
   "execution_count": 125,
   "id": "f88f0913",
   "metadata": {},
   "outputs": [
    {
     "name": "stdout",
     "output_type": "stream",
     "text": [
      "['Zehra', 'Boskovic', 'Marina', 'Van Ryk']\n"
     ]
    }
   ],
   "source": [
    "#concatenation of lists\n",
    "liste4 = liste3 + [\"Marina\", \"Van Ryk\"]\n",
    "print(liste4)"
   ]
  },
  {
   "cell_type": "code",
   "execution_count": 126,
   "id": "3f54486b",
   "metadata": {},
   "outputs": [
    {
     "name": "stdout",
     "output_type": "stream",
     "text": [
      "['Zehra', 'Boskovic', 'Marina', 'Van Ryk', 'Bosetti', 'Derya']\n"
     ]
    }
   ],
   "source": [
    "liste4.extend([\"Bosetti\", \"Derya\"]) #adding multiple elements to the end of the list, extending the list with another list\n",
    "print(liste4)"
   ]
  },
  {
   "cell_type": "code",
   "execution_count": 127,
   "id": "8da79e39",
   "metadata": {},
   "outputs": [
    {
     "name": "stdout",
     "output_type": "stream",
     "text": [
      "['Zehra', 'Derya', 'Marina', 'Van Ryk', 'Bosetti', 'Boskovic']\n"
     ]
    }
   ],
   "source": [
    "# sorting the list by length of the strings in ascending order\n",
    "liste4.sort(key=len) \n",
    "print(liste4)"
   ]
  },
  {
   "cell_type": "code",
   "execution_count": 128,
   "id": "13c58219",
   "metadata": {},
   "outputs": [
    {
     "name": "stdout",
     "output_type": "stream",
     "text": [
      "['Zehra', 'Derya', 'Marina']\n",
      "['Derya', 'Marina']\n"
     ]
    }
   ],
   "source": [
    "# slicing the list, getting sublists\n",
    "liste4_sliced = liste4[:3] #first three elements\n",
    "print(liste4_sliced)\n",
    "liste4_sliced2 = liste4[1:3] #elements at position 1 and 2 (not including the element at position 3)\n",
    "print(liste4_sliced2)"
   ]
  },
  {
   "cell_type": "code",
   "execution_count": 129,
   "id": "f08346dc",
   "metadata": {},
   "outputs": [
    {
     "name": "stdout",
     "output_type": "stream",
     "text": [
      "[3, 3, 4, 5, 5, 6, 7, 9, 9]\n",
      "[9, 9, 7, 6, 5, 5, 4, 3, 3]\n"
     ]
    }
   ],
   "source": [
    "dizi = [ 9, 6, 3, 5, 9, 7, 4, 5, 3]\n",
    "dizi.sort() #sorts the list in ascending order\n",
    "print(dizi)\n",
    "dizi.reverse() #reverses the list\n",
    "print(dizi)"
   ]
  },
  {
   "cell_type": "code",
   "execution_count": 130,
   "id": "8b363038",
   "metadata": {},
   "outputs": [
    {
     "name": "stdout",
     "output_type": "stream",
     "text": [
      "[9, 9, 7, 6, 5]\n",
      "[6, 5, 5, 4, 3, 3]\n",
      "[9, 7, 6, 5]\n",
      "[9, 9, 7, 6, 5, 5, 4, 3]\n",
      "[4, 3, 3]\n",
      "[9, 7, 5, 4, 3]\n",
      "[3, 3, 4, 5, 5, 6, 7, 9, 9]\n",
      "[6, 5, 5, 4]\n"
     ]
    }
   ],
   "source": [
    "#slicing\n",
    "print(dizi[:5]) #first five elements\n",
    "print(dizi[3:]) # elements starting at position 3 (including the element at position 3)\n",
    "print(dizi[1:5]) # elements at positions 1,2,3 and 4 (not including the element at position 5)\n",
    "print(dizi[:-1]) # all elements except the last one\n",
    "print(dizi[-3:]) # last three elements\n",
    "print(dizi[::2]) # every second element\n",
    "print(dizi[::-1]) # reverses the list\n",
    "print(dizi[-6:-2]) # elements at positions 4,5,6 and 7 (not including the element at position 8)"
   ]
  },
  {
   "cell_type": "code",
   "execution_count": null,
   "id": "b35a31d4",
   "metadata": {},
   "outputs": [],
   "source": []
  },
  {
   "cell_type": "code",
   "execution_count": null,
   "id": "6256c6a5",
   "metadata": {},
   "outputs": [],
   "source": []
  },
  {
   "cell_type": "markdown",
   "id": "03269a76",
   "metadata": {},
   "source": [
    "# TUPLES"
   ]
  },
  {
   "cell_type": "code",
   "execution_count": 131,
   "id": "1a98ac12",
   "metadata": {},
   "outputs": [
    {
     "name": "stdout",
     "output_type": "stream",
     "text": [
      "Tuple: (1, 2, 3, 4, 5)\n"
     ]
    }
   ],
   "source": [
    "#tuples\n",
    "my_tuple = (1,2,3,4,5)\n",
    "print(\"Tuple:\", my_tuple)"
   ]
  },
  {
   "cell_type": "code",
   "execution_count": 132,
   "id": "efb061ae",
   "metadata": {},
   "outputs": [
    {
     "name": "stdout",
     "output_type": "stream",
     "text": [
      "5\n",
      "1\n"
     ]
    }
   ],
   "source": [
    "print(len(my_tuple))\n",
    "print(my_tuple[0]) #accessing elements by index"
   ]
  },
  {
   "cell_type": "code",
   "execution_count": 133,
   "id": "72bad4ff",
   "metadata": {},
   "outputs": [
    {
     "name": "stdout",
     "output_type": "stream",
     "text": [
      "Tuple from string: ('T', 'o', 'y', 'g', 'a', 'r')\n"
     ]
    }
   ],
   "source": [
    "# convert any sequence or iterator to a tuple by invoking tuple:\n",
    "\n",
    "tup = tuple(\"Toygar\") #creating a tuple from a string\n",
    "print(\"Tuple from string:\", tup)"
   ]
  },
  {
   "cell_type": "code",
   "execution_count": 134,
   "id": "1f4e5c8b",
   "metadata": {},
   "outputs": [
    {
     "data": {
      "text/plain": [
       "'T'"
      ]
     },
     "execution_count": 134,
     "metadata": {},
     "output_type": "execute_result"
    }
   ],
   "source": [
    "tup[0] #accessing elements by index"
   ]
  },
  {
   "cell_type": "code",
   "execution_count": 135,
   "id": "5ed4e8ee",
   "metadata": {},
   "outputs": [
    {
     "name": "stdout",
     "output_type": "stream",
     "text": [
      "Nested tuple: (1, 2, (3, 4), 5)\n"
     ]
    }
   ],
   "source": [
    "nested_tup = (1,2,(3,4),5) #nested tuples\n",
    "print(\"Nested tuple:\", nested_tup)"
   ]
  },
  {
   "cell_type": "code",
   "execution_count": 136,
   "id": "e36da05a",
   "metadata": {},
   "outputs": [
    {
     "data": {
      "text/plain": [
       "4"
      ]
     },
     "execution_count": 136,
     "metadata": {},
     "output_type": "execute_result"
    }
   ],
   "source": [
    "nested_tup[2][1] #accessing elements by index"
   ]
  },
  {
   "cell_type": "code",
   "execution_count": 137,
   "id": "28a3ebaa",
   "metadata": {},
   "outputs": [
    {
     "name": "stdout",
     "output_type": "stream",
     "text": [
      "(1, ['Toygar', 3], 4)\n"
     ]
    }
   ],
   "source": [
    "#if an object inside a tuple is mutable, you can change it in place:\n",
    "tup2 = (1, [2,3], 4)\n",
    "tup2[1][0] = 'Toygar' #changing the value of a mutable object inside a tuple\n",
    "print(tup2)"
   ]
  },
  {
   "cell_type": "code",
   "execution_count": 138,
   "id": "5fe27511",
   "metadata": {},
   "outputs": [
    {
     "name": "stdout",
     "output_type": "stream",
     "text": [
      "Unpacked tuple: 1 2 3\n"
     ]
    }
   ],
   "source": [
    "# UNPACKING TUPLES\n",
    "tup3 = (1,2,3)\n",
    "a, b, c = tup3 #unpacking the tuple into variables\n",
    "print(\"Unpacked tuple:\", a, b, c)"
   ]
  },
  {
   "cell_type": "code",
   "execution_count": 139,
   "id": "cdfce2e2",
   "metadata": {},
   "outputs": [
    {
     "name": "stdout",
     "output_type": "stream",
     "text": [
      "Unpacked tuple: 8 9 10\n"
     ]
    }
   ],
   "source": [
    "tup4 = 6,7,(8,9),10 #packing and unpacking in a single statement\n",
    "a, b, (c, d), e = tup4 #unpacking the tuple into variables\n",
    "print(\"Unpacked tuple:\",c, d, e)"
   ]
  },
  {
   "cell_type": "code",
   "execution_count": 140,
   "id": "910d179f",
   "metadata": {},
   "outputs": [
    {
     "name": "stdout",
     "output_type": "stream",
     "text": [
      "Swapped variables: 20 10\n"
     ]
    }
   ],
   "source": [
    "#easily swap variable names\n",
    "x, y = 10, 20\n",
    "x, y = y, x #swapping values of x and y\n",
    "print(\"Swapped variables:\", x, y)"
   ]
  },
  {
   "cell_type": "code",
   "execution_count": 141,
   "id": "55e470a4",
   "metadata": {},
   "outputs": [
    {
     "name": "stdout",
     "output_type": "stream",
     "text": [
      "Swapped back variables: 10 20\n"
     ]
    }
   ],
   "source": [
    "#swap back\n",
    "y, x = x, y\n",
    "print(\"Swapped back variables:\", x, y)"
   ]
  },
  {
   "cell_type": "code",
   "execution_count": 142,
   "id": "3a90fbda",
   "metadata": {},
   "outputs": [
    {
     "name": "stdout",
     "output_type": "stream",
     "text": [
      "1 2 3\n",
      "4 5 6\n",
      "7 8 9\n"
     ]
    }
   ],
   "source": [
    "seq = [(1,2,3), (4,5,6), (7,8,9)]\n",
    "for a, b, c in seq: #iterating over the sequence and unpacking each tuple\n",
    "    print(a, b, c)"
   ]
  },
  {
   "cell_type": "code",
   "execution_count": 143,
   "id": "e80f93bf",
   "metadata": {},
   "outputs": [
    {
     "name": "stdout",
     "output_type": "stream",
     "text": [
      "Ignoring some values using _ : 1 2\n"
     ]
    }
   ],
   "source": [
    "pluck = 1, 2, 3, 4, 5\n",
    "a, b, *_ = pluck #  ignoring some values using _ underscore\n",
    "print(\"Ignoring some values using _ :\", a, b)"
   ]
  },
  {
   "cell_type": "code",
   "execution_count": 144,
   "id": "c3109b03",
   "metadata": {},
   "outputs": [
    {
     "name": "stdout",
     "output_type": "stream",
     "text": [
      "[(1, 2, 3), (4, 5, 6), (7, 8, 9)]\n"
     ]
    },
    {
     "data": {
      "text/plain": [
       "1"
      ]
     },
     "execution_count": 144,
     "metadata": {},
     "output_type": "execute_result"
    }
   ],
   "source": [
    "#Tuple Methods\n",
    "\n",
    "print(seq)\n",
    "seq.count((1,2,3)) #counting occurrences of a tuple in the sequence\n"
   ]
  },
  {
   "cell_type": "code",
   "execution_count": null,
   "id": "61655a46",
   "metadata": {},
   "outputs": [],
   "source": []
  },
  {
   "cell_type": "code",
   "execution_count": null,
   "id": "e1a9e00d",
   "metadata": {},
   "outputs": [],
   "source": []
  },
  {
   "cell_type": "code",
   "execution_count": null,
   "id": "0fce2623",
   "metadata": {},
   "outputs": [],
   "source": []
  },
  {
   "cell_type": "markdown",
   "id": "50d72d8e",
   "metadata": {},
   "source": [
    "# DICTIONARY\n",
    "\n",
    " A dictionary stores a collection of key-value pairs, where key and\n",
    "value are Python objects. Each key is associated with a value so that a value can\n",
    "be conveniently retrieved, inserted, modified, or deleted given a particular key."
   ]
  },
  {
   "cell_type": "code",
   "execution_count": 145,
   "id": "8b4fa9e4",
   "metadata": {},
   "outputs": [
    {
     "name": "stdout",
     "output_type": "stream",
     "text": [
      "Dictionary: {'name': 'Toygar', 'age': 50}\n"
     ]
    }
   ],
   "source": [
    "# dictionaries\n",
    "my_dict = {\"name\": \"Toygar\", \"age\": 50}\n",
    "print(\"Dictionary:\", my_dict)\n"
   ]
  },
  {
   "cell_type": "code",
   "execution_count": 146,
   "id": "bcd08488",
   "metadata": {},
   "outputs": [
    {
     "data": {
      "text/plain": [
       "{'a': 'Toygar', 'b': [1, 2, 3, 4, 5]}"
      ]
     },
     "execution_count": 146,
     "metadata": {},
     "output_type": "execute_result"
    }
   ],
   "source": [
    "soz = {\"a\": \"Toygar\", \"b\": [1,2,3,4,5]} # dictionary with string and list as values\n",
    "soz[\"b\"] # accessing the value associated with key \"b\"\n",
    "\n",
    "soz"
   ]
  },
  {
   "cell_type": "code",
   "execution_count": 147,
   "id": "0b26d60f",
   "metadata": {},
   "outputs": [
    {
     "data": {
      "text/plain": [
       "{'a': 'Toygar', 'b': [1, 2, 3, 4, 5], 'last_name': 'Par'}"
      ]
     },
     "execution_count": 147,
     "metadata": {},
     "output_type": "execute_result"
    }
   ],
   "source": [
    "soz[\"last_name\"] = \"Par\" # adding a new key-value pair to the dictionary\n",
    "soz"
   ]
  },
  {
   "cell_type": "code",
   "execution_count": 148,
   "id": "7b1d77d8",
   "metadata": {},
   "outputs": [
    {
     "data": {
      "text/plain": [
       "True"
      ]
     },
     "execution_count": 148,
     "metadata": {},
     "output_type": "execute_result"
    }
   ],
   "source": [
    "\"b\" in soz # checking if \"b\" is a key\n"
   ]
  },
  {
   "cell_type": "code",
   "execution_count": 149,
   "id": "8bcd4e76",
   "metadata": {},
   "outputs": [
    {
     "data": {
      "text/plain": [
       "{'a': 'Toygar', 'b': [1, 2, 3, 4, 5], 'last_name': 'Par', 7: 'İzmir'}"
      ]
     },
     "execution_count": 149,
     "metadata": {},
     "output_type": "execute_result"
    }
   ],
   "source": [
    "soz[7] = \"İzmir\" # adding a new key-value pair to the dictionary\n",
    "soz"
   ]
  },
  {
   "cell_type": "code",
   "execution_count": 150,
   "id": "26bc2837",
   "metadata": {},
   "outputs": [
    {
     "data": {
      "text/plain": [
       "{'a': 'Toygar',\n",
       " 'b': [1, 2, 3, 4, 5],\n",
       " 'last_name': 'Par',\n",
       " 7: 'İzmir',\n",
       " 'District': 'Seferihisar'}"
      ]
     },
     "execution_count": 150,
     "metadata": {},
     "output_type": "execute_result"
    }
   ],
   "source": [
    "soz[\"District\"] = \"Seferihisar\" # adding a new key-value pair to the dictionary\n",
    "soz"
   ]
  },
  {
   "cell_type": "code",
   "execution_count": 151,
   "id": "f24101d1",
   "metadata": {},
   "outputs": [
    {
     "name": "stdout",
     "output_type": "stream",
     "text": [
      "Keys: dict_keys(['a', 'b', 'last_name', 'District'])\n",
      "Values: dict_values(['Toygar', [1, 2, 3, 4, 5], 'Par', 'Seferihisar'])\n"
     ]
    }
   ],
   "source": [
    "del soz[7] # deleting a key-value pair from the dictionary\n",
    "soz\n",
    "# Accessing all keys and values of a dictionary\n",
    "print(\"Keys:\", soz.keys())\n",
    "print(\"Values:\", soz.values())"
   ]
  },
  {
   "cell_type": "code",
   "execution_count": 152,
   "id": "96088e77",
   "metadata": {},
   "outputs": [
    {
     "name": "stdout",
     "output_type": "stream",
     "text": [
      "Popped value: Seferihisar\n"
     ]
    },
    {
     "data": {
      "text/plain": [
       "{'a': 'Toygar', 'b': [1, 2, 3, 4, 5], 'last_name': 'Par'}"
      ]
     },
     "execution_count": 152,
     "metadata": {},
     "output_type": "execute_result"
    }
   ],
   "source": [
    "pop_it = soz.pop(\"District\") # removing a key-value pair from the dictionary by specifying the key\n",
    "print(\"Popped value:\", pop_it)\n",
    "soz"
   ]
  },
  {
   "cell_type": "code",
   "execution_count": 153,
   "id": "798d2d85",
   "metadata": {},
   "outputs": [
    {
     "name": "stdout",
     "output_type": "stream",
     "text": [
      "['a', 'b', 'last_name']\n",
      "['Toygar', [1, 2, 3, 4, 5], 'Par']\n"
     ]
    }
   ],
   "source": [
    "print(list(soz.keys())) # converting keys to a list\n",
    "print(list(soz.values())) # converting values to a list"
   ]
  },
  {
   "cell_type": "code",
   "execution_count": 154,
   "id": "cca94bb9",
   "metadata": {},
   "outputs": [],
   "source": [
    "# merge one dictionary into another\n",
    "soz2 = {\"City\": \"Izmir\", \"Population\": 4000000}\n",
    "soz.update(soz2) # updating the first dictionary with values from the second dictionary\n"
   ]
  },
  {
   "cell_type": "code",
   "execution_count": 155,
   "id": "45f48c54",
   "metadata": {},
   "outputs": [
    {
     "data": {
      "text/plain": [
       "{'a': 'Toygar',\n",
       " 'b': [1, 2, 3, 4, 5],\n",
       " 'last_name': 'Par',\n",
       " 'City': 'Izmir',\n",
       " 'Population': 4000000}"
      ]
     },
     "execution_count": 155,
     "metadata": {},
     "output_type": "execute_result"
    }
   ],
   "source": [
    "soz"
   ]
  },
  {
   "cell_type": "code",
   "execution_count": 156,
   "id": "9bd93dcc",
   "metadata": {},
   "outputs": [
    {
     "data": {
      "text/plain": [
       "{'Batı Karadeniz': 'Zonguldak',\n",
       " 'Doğu Karadeniz': 'Giresun',\n",
       " 'İç Anadolu': 'Ankara',\n",
       " 'Ege': 'Aydın'}"
      ]
     },
     "execution_count": 156,
     "metadata": {},
     "output_type": "execute_result"
    }
   ],
   "source": [
    "#  two sequences that you want to pair up and combine into a dictionary, you can use the zip function to create pairs and then convert them into a dictionary.\n",
    "keys = [\"Batı Karadeniz\", \"Doğu Karadeniz\", \"İç Anadolu\", \"Ege\"]\n",
    "values = [\"Zonguldak\", \"Giresun\", \"Ankara\", \"Aydın\"]\n",
    "soz3 = dict(zip(keys, values)) # creating a dictionary from two sequences by zipping them together\n",
    "soz3\n"
   ]
  },
  {
   "cell_type": "code",
   "execution_count": 157,
   "id": "cfea40d8",
   "metadata": {},
   "outputs": [
    {
     "data": {
      "text/plain": [
       "[('Batı Karadeniz', 'Zonguldak'),\n",
       " ('Doğu Karadeniz', 'Giresun'),\n",
       " ('İç Anadolu', 'Ankara'),\n",
       " ('Ege', 'Aydın')]"
      ]
     },
     "execution_count": 157,
     "metadata": {},
     "output_type": "execute_result"
    }
   ],
   "source": [
    "list(zip(keys, values)) # actually creates a list of tuples, where each tuple is a pair of elements from the input sequences which we can pass to the dict constructor to create a dictionary."
   ]
  },
  {
   "cell_type": "code",
   "execution_count": 158,
   "id": "66e9082f",
   "metadata": {},
   "outputs": [
    {
     "data": {
      "text/plain": [
       "{0: 2, 1: 1, 2: 0}"
      ]
     },
     "execution_count": 158,
     "metadata": {},
     "output_type": "execute_result"
    }
   ],
   "source": [
    "demet = zip(range(3), reversed(range(3))) # zip function is used to combine two iterables into a single iterable of tuples.\n",
    "mapped = dict(demet) # creating a dictionary from the zipped iterable.\n",
    "mapped # showing the zipped object"
   ]
  },
  {
   "cell_type": "code",
   "execution_count": 159,
   "id": "e2540bdc",
   "metadata": {},
   "outputs": [
    {
     "name": "stdout",
     "output_type": "stream",
     "text": [
      "default\n"
     ]
    }
   ],
   "source": [
    "# value = some_dict.get(key, default_value) - this method is used to retrieve a value from a dictionary using a key. If the key does not exist, it returns a default_value instead of raising a KeyError.\n",
    "# default_value is optional and can be any value you want to return if the key does not exist. If it's omitted, None will be returned if the key doesn't exist.\n",
    "value = mapped.get('a', 'default') # getting value for key 'a' with default value 'default'\n",
    "print(value)"
   ]
  },
  {
   "cell_type": "code",
   "execution_count": 160,
   "id": "de3ea37e",
   "metadata": {},
   "outputs": [
    {
     "ename": "SyntaxError",
     "evalue": "'(' was never closed (1033711677.py, line 1)",
     "output_type": "error",
     "traceback": [
      "\u001b[0;36m  Cell \u001b[0;32mIn[160], line 1\u001b[0;36m\u001b[0m\n\u001b[0;31m    print(mapped\u001b[0m\n\u001b[0m         ^\u001b[0m\n\u001b[0;31mSyntaxError\u001b[0m\u001b[0;31m:\u001b[0m '(' was never closed\n"
     ]
    }
   ],
   "source": [
    "print(mapped\n",
    "value = mapped.get(2, 'default') # getting value for key 1 with default value 'default'\n",
    "print(value)"
   ]
  },
  {
   "cell_type": "code",
   "execution_count": null,
   "id": "5c312ac8",
   "metadata": {},
   "outputs": [
    {
     "data": {
      "text/plain": [
       "3863476196239021936"
      ]
     },
     "execution_count": 40,
     "metadata": {},
     "output_type": "execute_result"
    }
   ],
   "source": [
    "# the keys generally have to be immutable objects like scalar types (int, float, string) or tuples \n",
    "hash(\"Toygar\")"
   ]
  },
  {
   "cell_type": "code",
   "execution_count": null,
   "id": "f519923a",
   "metadata": {},
   "outputs": [
    {
     "data": {
      "text/plain": [
       "3794340727080330424"
      ]
     },
     "execution_count": 41,
     "metadata": {},
     "output_type": "execute_result"
    }
   ],
   "source": [
    "hash((1,2,(3,4)))"
   ]
  },
  {
   "cell_type": "code",
   "execution_count": null,
   "id": "12ca2b0c",
   "metadata": {},
   "outputs": [
    {
     "data": {
      "text/plain": [
       "{(1, 2, 3): 99}"
      ]
     },
     "execution_count": 42,
     "metadata": {},
     "output_type": "execute_result"
    }
   ],
   "source": [
    "soz4 = {}\n",
    "soz4[tuple([1,2,3])] = 99 # \n",
    "soz4"
   ]
  },
  {
   "cell_type": "markdown",
   "id": "256a9d59",
   "metadata": {},
   "source": [
    "# SETS"
   ]
  },
  {
   "cell_type": "code",
   "execution_count": null,
   "id": "6973b1a1",
   "metadata": {},
   "outputs": [
    {
     "name": "stdout",
     "output_type": "stream",
     "text": [
      "Set: {1, 2, 3, 4, 5}\n"
     ]
    }
   ],
   "source": [
    "# sets\n",
    "\n",
    "s = {1,2,3,4,5}\n",
    "print(\"Set:\", s)"
   ]
  },
  {
   "cell_type": "code",
   "execution_count": null,
   "id": "2d4ac7f8",
   "metadata": {},
   "outputs": [
    {
     "name": "stdout",
     "output_type": "stream",
     "text": [
      "After adding 6: {1, 2, 3, 4, 5, 6}\n"
     ]
    }
   ],
   "source": [
    "s.add(6) #adding an element to the set\n",
    "print(\"After adding 6:\", s)"
   ]
  },
  {
   "cell_type": "code",
   "execution_count": null,
   "id": "8c749ae6",
   "metadata": {},
   "outputs": [
    {
     "name": "stdout",
     "output_type": "stream",
     "text": [
      "After removing one element: {2, 3, 4, 5, 6}\n"
     ]
    }
   ],
   "source": [
    "s.pop() #removing a random element from the set\n",
    "print(\"After removing one element:\", s)"
   ]
  },
  {
   "cell_type": "code",
   "execution_count": null,
   "id": "4dbbb8e3",
   "metadata": {},
   "outputs": [],
   "source": [
    "a = {1,2,3,4,5,6} #  a set with 6 elements\n",
    "\n",
    "b = {4, 5, 6, 7, 8, 9} #    b set with 6 elements"
   ]
  },
  {
   "cell_type": "code",
   "execution_count": null,
   "id": "c1b0325e",
   "metadata": {},
   "outputs": [
    {
     "name": "stdout",
     "output_type": "stream",
     "text": [
      "Union of sets a and b: {1, 2, 3, 4, 5, 6, 7, 8, 9}\n"
     ]
    }
   ],
   "source": [
    "# union of these two sets\n",
    "a.union(b) # or we can use a | b \n",
    "print(\"Union of sets a and b:\", a.union(b))"
   ]
  },
  {
   "cell_type": "code",
   "execution_count": null,
   "id": "bf32388f",
   "metadata": {},
   "outputs": [
    {
     "data": {
      "text/plain": [
       "{4, 5, 6}"
      ]
     },
     "execution_count": 3,
     "metadata": {},
     "output_type": "execute_result"
    }
   ],
   "source": [
    "#intersection\n",
    "a.intersection(b) # or we can use a & b "
   ]
  },
  {
   "cell_type": "code",
   "execution_count": null,
   "id": "78163fd1",
   "metadata": {},
   "outputs": [
    {
     "data": {
      "text/plain": [
       "{4, 5, 6}"
      ]
     },
     "execution_count": 5,
     "metadata": {},
     "output_type": "execute_result"
    }
   ],
   "source": [
    "#intersection_update\n",
    "a.intersection_update(b) # or we can use a &= b \n",
    "a"
   ]
  },
  {
   "cell_type": "code",
   "execution_count": null,
   "id": "abf7be78",
   "metadata": {},
   "outputs": [
    {
     "name": "stdout",
     "output_type": "stream",
     "text": [
      "{3, 4}\n"
     ]
    }
   ],
   "source": [
    "a = {1, 2, 3, 4}\n",
    "b = {3, 4, 5, 6}\n",
    "\n",
    "a.intersection_update(b)  # or a &= b, The operation is in-place, meaning the original set a is modified.The argument b can be any iterable, but duplicates are ignored since the operation treats b as a set. If a and b have no common elements, a becomes an empty set.\n",
    "print(a)  # Output: {3, 4}"
   ]
  },
  {
   "cell_type": "code",
   "execution_count": null,
   "id": "01bb8533",
   "metadata": {},
   "outputs": [],
   "source": [
    "a = {1,2,3,4,5,6} #  a set with 6 elements\n",
    "\n",
    "b = {4, 5, 6, 7, 8, 9} #    b set with 6 elements"
   ]
  },
  {
   "cell_type": "code",
   "execution_count": null,
   "id": "5275f4d8",
   "metadata": {},
   "outputs": [
    {
     "data": {
      "text/plain": [
       "{1, 2, 3, 7, 8, 9}"
      ]
     },
     "execution_count": 9,
     "metadata": {},
     "output_type": "execute_result"
    }
   ],
   "source": [
    "a.symmetric_difference(b) # Returns a new set with elements that are in either a or b, but not both. This is equivalent to (a | b) - (a & b). The original sets a and b remain unchanged."
   ]
  },
  {
   "cell_type": "code",
   "execution_count": null,
   "id": "63a52582",
   "metadata": {},
   "outputs": [
    {
     "name": "stdout",
     "output_type": "stream",
     "text": [
      "{1, 2, 3, 7, 8, 9}\n",
      "{4, 5, 6, 7, 8, 9}\n",
      "{1, 2, 3, 6, 5, 4}\n"
     ]
    }
   ],
   "source": [
    "a.symmetric_difference_update(b) # Updates the set a with elements that are in either a or b, but not both. The original set b remains unchanged.\n",
    "\n",
    "# Example usage:\n",
    "result_set = a.symmetric_difference(b) # result_set will be {1, 2, 3, 7, 8, 9}\n",
    "print(result_set)\n",
    "print(b)\n",
    "print(a)"
   ]
  },
  {
   "cell_type": "code",
   "execution_count": null,
   "id": "2324dfe1",
   "metadata": {},
   "outputs": [
    {
     "name": "stdout",
     "output_type": "stream",
     "text": [
      "False\n"
     ]
    }
   ],
   "source": [
    "a.issubset(b) # Returns True if every element in the set a is also in the set b, otherwise False.\n",
    "# Example usage:\n",
    "result_bool = a.issubset(b) # result_bool will be False because 1 is not in set b\n",
    "print(result_bool)"
   ]
  },
  {
   "cell_type": "code",
   "execution_count": null,
   "id": "6f5e2e23",
   "metadata": {},
   "outputs": [
    {
     "name": "stdout",
     "output_type": "stream",
     "text": [
      "False\n"
     ]
    }
   ],
   "source": [
    "a.issuperset(b) # Returns True if every element in the set b is also in the set a, otherwise False.\n",
    "# Example usage:\n",
    "result_bool = a.issuperset(b) # result_bool will be False because 1 is not in set b\n",
    "print(result_bool)"
   ]
  },
  {
   "cell_type": "code",
   "execution_count": null,
   "id": "1ed5dad6",
   "metadata": {},
   "outputs": [
    {
     "data": {
      "text/plain": [
       "False"
      ]
     },
     "execution_count": 19,
     "metadata": {},
     "output_type": "execute_result"
    }
   ],
   "source": [
    "a.isdisjoint(b) #   Returns True if the set a and b have no elements in common, otherwise False."
   ]
  },
  {
   "cell_type": "code",
   "execution_count": null,
   "id": "e90c2d1f",
   "metadata": {},
   "outputs": [
    {
     "data": {
      "text/plain": [
       "{1, 2, 3, 4, 5, 6}"
      ]
     },
     "execution_count": 20,
     "metadata": {},
     "output_type": "execute_result"
    }
   ],
   "source": [
    "c = a.copy() # Returns a shallow copy of the set a. Also means c |= a\n",
    "c\n"
   ]
  },
  {
   "cell_type": "code",
   "execution_count": null,
   "id": "2476987a",
   "metadata": {},
   "outputs": [
    {
     "data": {
      "text/plain": [
       "{4, 5, 6}"
      ]
     },
     "execution_count": 24,
     "metadata": {},
     "output_type": "execute_result"
    }
   ],
   "source": [
    "d = a.copy() # Returns a shallow copy of the set b. Also means d |= b\n",
    "d &= b # Updates the set d with elements in both a and b, keeping only those that are in both sets.\n",
    "d"
   ]
  },
  {
   "cell_type": "code",
   "execution_count": null,
   "id": "3f3665a6",
   "metadata": {},
   "outputs": [
    {
     "data": {
      "text/plain": [
       "{(1, 2, 3, 4, 5)}"
      ]
     },
     "execution_count": 25,
     "metadata": {},
     "output_type": "execute_result"
    }
   ],
   "source": [
    "# to store list-like elements in sets, convert them to tuples:\n",
    "liste5 = [1,2,3,4,5]\n",
    "setim = {tuple(liste5)}\n",
    "\n",
    "setim"
   ]
  },
  {
   "cell_type": "code",
   "execution_count": null,
   "id": "2d87ecf4",
   "metadata": {},
   "outputs": [],
   "source": []
  },
  {
   "cell_type": "code",
   "execution_count": null,
   "id": "e01582d6",
   "metadata": {},
   "outputs": [
    {
     "name": "stdout",
     "output_type": "stream",
     "text": [
      "List with range: [0, 1, 2, 3, 4, 5, 6, 7, 8, 9]\n"
     ]
    }
   ],
   "source": [
    "liste = list(range(10))\n",
    "print(\"List with range:\", liste)"
   ]
  },
  {
   "cell_type": "code",
   "execution_count": null,
   "id": "3ec4eeaf",
   "metadata": {},
   "outputs": [
    {
     "name": "stdout",
     "output_type": "stream",
     "text": [
      "Found 5 in the list\n",
      "Less than pivot: [0, 1, 2, 3, 4]\n",
      "Greater than pivot: [6, 7, 8, 9]\n",
      "Equal to pivot: [5]\n"
     ]
    }
   ],
   "source": [
    "pivot = 5\n",
    "less = list()\n",
    "greater = list()\n",
    "equal = list()\n",
    " \n",
    "for x in liste:\n",
    "    if x == pivot:\n",
    "        print(f\"Found {pivot} in the list\")\n",
    "        equal.append(x)\n",
    "        continue\n",
    "    elif x < pivot:\n",
    "        less.append(x)\n",
    "    else:\n",
    "        greater.append(x)\n",
    "\n",
    "print(\"Less than pivot:\", less)\n",
    "print(\"Greater than pivot:\", greater)\n",
    "print(\"Equal to pivot:\", equal)\n"
   ]
  },
  {
   "cell_type": "code",
   "execution_count": null,
   "id": "94459054",
   "metadata": {},
   "outputs": [
    {
     "data": {
      "text/plain": [
       "<function str.split(sep=None, maxsplit=-1)>"
      ]
     },
     "execution_count": 2,
     "metadata": {},
     "output_type": "execute_result"
    }
   ],
   "source": [
    "a = \"taco\"\n",
    "getattr(a, \"split\") #returns the function object of split method in string class"
   ]
  },
  {
   "cell_type": "code",
   "execution_count": null,
   "id": "9d33dd97",
   "metadata": {},
   "outputs": [
    {
     "name": "stdout",
     "output_type": "stream",
     "text": [
      "Is 'hello' iterable? True\n"
     ]
    }
   ],
   "source": [
    "# duck typing example\n",
    "def isiterable(obj): #checks if an object is iterable\n",
    "    try:\n",
    "        iter(obj) # iter() function will raise a TypeError if the object is not iterable\n",
    "        return True\n",
    "    except TypeError:\n",
    "        return False\n",
    "print(\"Is 'hello' iterable?\", isiterable('hello'))"
   ]
  },
  {
   "cell_type": "code",
   "execution_count": null,
   "id": "11b454a3",
   "metadata": {},
   "outputs": [
    {
     "name": "stdout",
     "output_type": "stream",
     "text": [
      "True\n",
      "True\n"
     ]
    }
   ],
   "source": [
    "print(isiterable([1, 2, 3]))\n",
    "\n",
    "print(isiterable({'a': 1, 'b': 2}))\n",
    "\n",
    "# print(isiterable(5)) # This will raise a TypeError and the function will return False"
   ]
  },
  {
   "cell_type": "code",
   "execution_count": null,
   "id": "dcb28266",
   "metadata": {},
   "outputs": [
    {
     "name": "stdout",
     "output_type": "stream",
     "text": [
      "100.00 kuruş eşittir 1 lira\n"
     ]
    }
   ],
   "source": [
    "#string formatting example\n",
    "template = \"{0:.2f} {1:s} eşittir {2:d} {3:s}\"\n",
    "print(template.format(100.00 , \"kuruş\", 1, \"lira\")) #output:  100.00 kuruş eşittir 1 lira"
   ]
  },
  {
   "cell_type": "code",
   "execution_count": null,
   "id": "c9bcb3e9",
   "metadata": {},
   "outputs": [
    {
     "name": "stdout",
     "output_type": "stream",
     "text": [
      "200 TL is worth only $5.0. Which is very SAD!\n"
     ]
    }
   ],
   "source": [
    "amount = 200\n",
    "\n",
    "rate = 40\n",
    "\n",
    "currency = 'TL'\n",
    "\n",
    "result = f\"{amount} {currency} is worth only ${amount / rate}. Which is very SAD!\"\n",
    "\n",
    "print(result)"
   ]
  },
  {
   "cell_type": "code",
   "execution_count": null,
   "id": "964438a1",
   "metadata": {},
   "outputs": [
    {
     "name": "stdout",
     "output_type": "stream",
     "text": [
      "8.5\n"
     ]
    }
   ],
   "source": [
    "#type casting example\n",
    "x = int(\"1\") + float(\"2.5\") * 3 \n",
    "print(x) #output: 8.0"
   ]
  },
  {
   "cell_type": "code",
   "execution_count": null,
   "id": "249a5565",
   "metadata": {},
   "outputs": [
    {
     "name": "stdout",
     "output_type": "stream",
     "text": [
      "3\n",
      "3.14159\n",
      "<class 'int'>\n",
      "<class 'float'>\n",
      "3.14159\n",
      "True\n",
      "(3.14159+0j)\n"
     ]
    }
   ],
   "source": [
    "pi = 3.14159\n",
    "print(int(pi)) #output: 3\n",
    "print(float(pi)) #output: 3.14159\n",
    "print(type(int(pi))) #output: <class 'int'>\n",
    "print(type(float(pi))) #output: <class 'float'>\n",
    "print(str(pi)) #output: 3.14159\n",
    "print(bool(pi)) #output: True\n",
    "print(complex(pi)) #output: (3.14159+0j)"
   ]
  },
  {
   "cell_type": "code",
   "execution_count": null,
   "id": "c90a9549",
   "metadata": {},
   "outputs": [],
   "source": [
    "# dates and times example\n",
    "\n",
    "from datetime import datetime, date, time\n",
    "\n",
    "dt = datetime(1923, 10, 29, 9, 5, 30)"
   ]
  },
  {
   "cell_type": "code",
   "execution_count": null,
   "id": "3ce2f905",
   "metadata": {},
   "outputs": [
    {
     "name": "stdout",
     "output_type": "stream",
     "text": [
      "29\n",
      "10\n",
      "1923\n",
      "9\n",
      "5\n",
      "30\n",
      "0\n"
     ]
    }
   ],
   "source": [
    "print(dt.day)\n",
    "print(dt.month)\n",
    "print(dt.year)\n",
    "print(dt.hour)\n",
    "print(dt.minute)\n",
    "print(dt.second)\n",
    "print(dt.weekday()) # Monday is 0 and Sunday is 6"
   ]
  },
  {
   "cell_type": "code",
   "execution_count": null,
   "id": "a589f2f7",
   "metadata": {},
   "outputs": [
    {
     "data": {
      "text/plain": [
       "datetime.date(1923, 10, 29)"
      ]
     },
     "execution_count": 28,
     "metadata": {},
     "output_type": "execute_result"
    }
   ],
   "source": [
    "dt.date() # returns the date part of dt, which is a datetime object representing the same date as dt"
   ]
  },
  {
   "cell_type": "code",
   "execution_count": null,
   "id": "3c549840",
   "metadata": {},
   "outputs": [
    {
     "data": {
      "text/plain": [
       "datetime.time(9, 5, 30)"
      ]
     },
     "execution_count": 29,
     "metadata": {},
     "output_type": "execute_result"
    }
   ],
   "source": [
    "dt.time() # returns the time part of dt, which is a datetime object representing the same time as dt"
   ]
  },
  {
   "cell_type": "code",
   "execution_count": null,
   "id": "9e6c5fb3",
   "metadata": {},
   "outputs": [
    {
     "data": {
      "text/plain": [
       "'29-10-1923 09:05'"
      ]
     },
     "execution_count": 31,
     "metadata": {},
     "output_type": "execute_result"
    }
   ],
   "source": [
    "dt.strftime(\"%d-%m-%Y %H:%M\") # output: \"29-10-1923 09:05\", strftime formats dates and times into strings using C standard library's strftime() function, which supports a variety of format codes."
   ]
  },
  {
   "cell_type": "code",
   "execution_count": null,
   "id": "173fa0fb",
   "metadata": {},
   "outputs": [
    {
     "data": {
      "text/plain": [
       "datetime.datetime(1923, 10, 29, 9, 5)"
      ]
     },
     "execution_count": 32,
     "metadata": {},
     "output_type": "execute_result"
    }
   ],
   "source": [
    "# strings can be converted or parsed back to datetime objects with the strptime() method, which is similar to strftime but parses strings instead of formatting them:\n",
    "datetime.strptime(\"29-10-1923 09:05\", \"%d-%m-%Y %H:%M\") # output: dt is a datetime object representing the date and time \"29-10-1923 09:05\"\n"
   ]
  },
  {
   "cell_type": "code",
   "execution_count": null,
   "id": "5204fbf0",
   "metadata": {},
   "outputs": [
    {
     "name": "stdout",
     "output_type": "stream",
     "text": [
      "1923-10-29 09:00:00\n"
     ]
    }
   ],
   "source": [
    "dt_hour = dt.replace(minute=0, second=0) # creates a new datetime object with the same year, month, day, and hour as dt, but with minute and second set to 0\n",
    "print(dt_hour) # output: \"2019-10-29 09:00:00\""
   ]
  },
  {
   "cell_type": "code",
   "execution_count": null,
   "id": "2ddd39af",
   "metadata": {},
   "outputs": [
    {
     "name": "stdout",
     "output_type": "stream",
     "text": [
      "2025-05-10 23:57:05.316909\n"
     ]
    }
   ],
   "source": [
    "dt3 = datetime.now() # creates a new datetime object representing the current date and time\n",
    "print(dt3)"
   ]
  },
  {
   "cell_type": "code",
   "execution_count": null,
   "id": "2a449dfd",
   "metadata": {},
   "outputs": [
    {
     "name": "stdout",
     "output_type": "stream",
     "text": [
      "37084 days, 14:51:35.316909\n"
     ]
    }
   ],
   "source": [
    "delta = dt3 - dt # calculates the difference between two datetime objects, which is an timedelta object\n",
    "print(delta) # output: \"1 day, 2 hours\""
   ]
  },
  {
   "cell_type": "code",
   "execution_count": null,
   "id": "0574d5de",
   "metadata": {},
   "outputs": [
    {
     "data": {
      "text/plain": [
       "datetime.datetime(2025, 5, 10, 23, 57, 5, 316909)"
      ]
     },
     "execution_count": 38,
     "metadata": {},
     "output_type": "execute_result"
    }
   ],
   "source": [
    "dt + delta"
   ]
  },
  {
   "cell_type": "code",
   "execution_count": null,
   "id": "4a1a14b6",
   "metadata": {},
   "outputs": [
    {
     "data": {
      "text/plain": [
       "range(0, 7)"
      ]
     },
     "execution_count": 53,
     "metadata": {},
     "output_type": "execute_result"
    }
   ],
   "source": [
    "# range() function in Python can be used to generate a sequence of numbers. It takes three arguments: start, stop, and step. The start argument specifies the first value of the sequence, the stop argument specifies the end of the sequence (not included), and the step argument specifies the increment between each number in the sequence.\n",
    "\n",
    "range(7)"
   ]
  },
  {
   "cell_type": "code",
   "execution_count": null,
   "id": "e9b8a486",
   "metadata": {},
   "outputs": [
    {
     "data": {
      "text/plain": [
       "[0, 1, 2, 3, 4, 5, 6]"
      ]
     },
     "execution_count": 55,
     "metadata": {},
     "output_type": "execute_result"
    }
   ],
   "source": [
    "list(range(7)) # converts a range object to a list"
   ]
  },
  {
   "cell_type": "code",
   "execution_count": null,
   "id": "aba0f7cc",
   "metadata": {},
   "outputs": [
    {
     "data": {
      "text/plain": [
       "[0, 2, 4, 6]"
      ]
     },
     "execution_count": 57,
     "metadata": {},
     "output_type": "execute_result"
    }
   ],
   "source": [
    "list(range(0,7,2)) # generates numbers from 0 to 6 with a step of 2"
   ]
  },
  {
   "cell_type": "code",
   "execution_count": null,
   "id": "c99b94e1",
   "metadata": {},
   "outputs": [
    {
     "data": {
      "text/plain": [
       "[7, 6, 5, 4, 3, 2, 1]"
      ]
     },
     "execution_count": 59,
     "metadata": {},
     "output_type": "execute_result"
    }
   ],
   "source": [
    "list(range(7,0,-1)) # generates numbers from 7 to 1 in descending order"
   ]
  },
  {
   "cell_type": "code",
   "execution_count": null,
   "id": "a3466d40",
   "metadata": {},
   "outputs": [
    {
     "name": "stdout",
     "output_type": "stream",
     "text": [
      "element 0 is: 1\n",
      "element 1 is: 2\n",
      "element 2 is: 3\n",
      "element 3 is: 4\n",
      "element 4 is: 5\n",
      "element 5 is: 6\n",
      "element 6 is: 7\n"
     ]
    }
   ],
   "source": [
    "seq = [1,2,3,4,5,6,7]\n",
    "for i in range(len(seq)):\n",
    "    print(f\"element {i} is: {seq[i]}\")"
   ]
  },
  {
   "cell_type": "code",
   "execution_count": null,
   "id": "6828e3a0",
   "metadata": {},
   "outputs": [
    {
     "name": "stdout",
     "output_type": "stream",
     "text": [
      "233168\n"
     ]
    }
   ],
   "source": [
    "total = 0\n",
    "for val in range(1000):\n",
    "    if val % 3 == 0 or val % 5 == 0:\n",
    "        total += val\n",
    "print(total)"
   ]
  },
  {
   "cell_type": "code",
   "execution_count": null,
   "id": "e14dbf21",
   "metadata": {},
   "outputs": [
    {
     "name": "stdout",
     "output_type": "stream",
     "text": [
      "a ['apple', 'apple', 'apple']\n",
      "b ['banana', 'banana']\n",
      "c ['cherry']\n",
      "{'a': ['apple', 'apple', 'apple'], 'b': ['banana', 'banana'], 'c': ['cherry']}\n"
     ]
    }
   ],
   "source": [
    "from itertools import groupby\n",
    "from typing import Any, Iterator\n",
    "\n",
    "words = [   \"apple\", \"banana\", \"apple\", \"cherry\", \"banana\", \"apple\" ] # A list of words is defined.\n",
    "by_letter = {}\n",
    "for letter, group in groupby(sorted(words), key=lambda x: x[0]): # The sorted function sorts the words alphabetically. The lambda function extracts the first letter of each word for grouping.\n",
    "    print(letter, list(group))\n",
    "\n",
    "for word in words: # iterates over each word in words\n",
    "    letter = word[0]  #     extracts the first letter of each word\n",
    "    if letter not in by_letter: # if the letter is not already a key in the dictionary\n",
    "        by_letter[letter] = [word]  # create a new entry with the letter as key and a list containing the word as value\n",
    "    else:\n",
    "        by_letter[letter].append(word)  # if the letter is already a key in the dictionary, append the word to the list associated with that letter\n",
    "print(by_letter)"
   ]
  },
  {
   "cell_type": "code",
   "execution_count": null,
   "id": "c1f8b17d",
   "metadata": {},
   "outputs": [
    {
     "name": "stdout",
     "output_type": "stream",
     "text": [
      "a ['apple', 'apple', 'apple']\n",
      "b ['banana', 'banana']\n",
      "c ['cherry']\n",
      "{'a': ['apple', 'apple', 'apple'], 'b': ['banana', 'banana'], 'c': ['cherry']}\n"
     ]
    }
   ],
   "source": [
    "from itertools import groupby\n",
    "from typing import Any, Iterator\n",
    "\n",
    "words = [   \"apple\", \"banana\", \"apple\", \"cherry\", \"banana\", \"apple\" ] # A list of words is defined.\n",
    "by_letter = {}\n",
    "for letter, group in groupby(sorted(words), key=lambda x: x[0]): # sorted(words) sorts the list alphabetically: ['apple', 'apple', 'apple', 'banana', 'banana', 'cherry'], groupby groups consecutive items by their first letter (key function lambda x: x[0])\n",
    "    print(letter, list(group))\n",
    "    for word in words: # iterate over the list of words\n",
    "        if word.startswith(letter):  # check if the word starts with the current letter\n",
    "            # setdefault returns the value of the key (letter), if the key exists; otherwise, it adds the key with the default value provided (an empty list [])\n",
    "            by_letter.setdefault(letter, []).append(word) # if the letter is not in the dictionary, add it and initialize an empty list for its words; then append the word to this list\n",
    "print(by_letter)"
   ]
  },
  {
   "cell_type": "code",
   "execution_count": null,
   "id": "c087a1bd",
   "metadata": {},
   "outputs": [
    {
     "name": "stdout",
     "output_type": "stream",
     "text": [
      "defaultdict(<class 'list'>, {'a': ['apple', 'apple', 'apple'], 'b': ['banana', 'banana'], 'c': ['cherry']})\n"
     ]
    }
   ],
   "source": [
    "from collections import defaultdict\n",
    "words = [\"apple\", \"banana\", \"apple\", \"cherry\", \"banana\", \"apple\"]\n",
    "by_letter = defaultdict(list) # creates a dictionary with lists as values by default\n",
    "for word in words:\n",
    "    \n",
    "    by_letter[word[0]].append(word) # append the word to the list corresponding to its first letter\n",
    "print(by_letter)"
   ]
  },
  {
   "cell_type": "code",
   "execution_count": null,
   "id": "42fa412a",
   "metadata": {},
   "outputs": [
    {
     "name": "stdout",
     "output_type": "stream",
     "text": [
      "{'M': ['Mercury', 'Mars'], 'V': 'Venus', 'E': 'Earth', 'J': 'Jupiter', 'S': 'Saturn', 'U': 'Uranus', 'N': 'Neptune'}\n"
     ]
    }
   ],
   "source": [
    "planets = ['Mercury', 'Venus', 'Earth', 'Mars', 'Jupiter', 'Saturn', 'Uranus', 'Neptune']\n",
    "ini_to_planet = {}\n",
    "for planet in planets:\n",
    "\tif planet[0] not in ini_to_planet:\n",
    "\t\tini_to_planet[planet[0]] = planet\n",
    "\telse:\n",
    "\t\tif isinstance(ini_to_planet[planet[0]], list):\n",
    "\t\t\tini_to_planet[planet[0]].append(planet)\n",
    "\t\telse:\n",
    "\t\t\tini_to_planet[planet[0]] = [ini_to_planet[planet[0]], planet]\n",
    "print(ini_to_planet)"
   ]
  },
  {
   "cell_type": "markdown",
   "id": "f517a7e1",
   "metadata": {},
   "source": [
    "under the hood:\n",
    "\n",
    "```\n",
    "initial = planet[0]                # e.g., 'M'\n",
    "existing = ini_to_planet[initial] # existing = 'Mercury'\n",
    "ini_to_planet[initial] = [existing, planet]  # ['Mercury', 'Mars']\n",
    "```\n",
    "1. Extracts the first character of the planet name (`planet[0]`), which represents its initial.\n",
    "2. Checks if this initial has already been encountered in the dictionary `ini_to_planet`.\n",
    "3. If not, it creates a new entry with this initial as the key and the planet as the value (in a list).\n",
    "4. If the initial is already a key in the dictionary, it checks whether the current value associated with that key is a single planet or a list of planets.\n",
    "5. If it's a single planet, it converts it into a list containing both the existing and the new planet.\n",
    "6. Finally, it updates the dictionary with this new information."
   ]
  },
  {
   "cell_type": "code",
   "execution_count": null,
   "id": "00a30a97",
   "metadata": {},
   "outputs": [
    {
     "name": "stdout",
     "output_type": "stream",
     "text": [
      "{'M': ['Mercury', 'Mars'], 'V': ['Venus'], 'E': ['Earth'], 'J': ['Jupiter'], 'S': ['Saturn'], 'U': ['Uranus'], 'N': ['Neptune']}\n"
     ]
    }
   ],
   "source": [
    "ini_to_planet = {}\n",
    "for planet in planets:\n",
    "    initial = planet[0]\n",
    "    if initial not in ini_to_planet:\n",
    "        ini_to_planet[initial] = [planet]  # Always start with a list\n",
    "    else:\n",
    "        ini_to_planet[initial].append(planet)  # Append to existing list\n",
    "print(ini_to_planet)"
   ]
  },
  {
   "cell_type": "code",
   "execution_count": null,
   "id": "673970ab",
   "metadata": {},
   "outputs": [
    {
     "name": "stdout",
     "output_type": "stream",
     "text": [
      "Help on method_descriptor:\n",
      "\n",
      "isdigit(self, /) unbound builtins.str method\n",
      "    Return True if the string is a digit string, False otherwise.\n",
      "\n",
      "    A string is a digit string if all characters in the string are digits and there\n",
      "    is at least one character in the string.\n",
      "\n"
     ]
    }
   ],
   "source": [
    "help(str.isdigit)"
   ]
  },
  {
   "cell_type": "code",
   "execution_count": null,
   "id": "1f746d1d",
   "metadata": {},
   "outputs": [],
   "source": [
    "def word_search(doc_list, keyword):\n",
    "    \"\"\"\n",
    "    Takes a list of documents (each document is a string) and a keyword. \n",
    "    Returns list of the index values into the original list for all documents \n",
    "    containing the keyword.\n",
    "\n",
    "    Example:\n",
    "    doc_list = [\"The Learn Python Challenge Casino.\", \"They bought a car\", \"Casinoville\"]\n",
    "    >>> word_search(doc_list, 'casino')\n",
    "    >>> [0]\n",
    "    \"\"\"\n",
    "    keywords = []\n",
    "    for i, doc in enumerate(doc_list):\n",
    "        tokens = doc.split()\n",
    "\n",
    "        normalized = []\n",
    "        for token in tokens:\n",
    "            # Remove any trailing '.' or ',' from the word\n",
    "            cleaned_token = token.rstrip('.,')\n",
    "            # Convert to lowercase\n",
    "            lower_token = cleaned_token.lower()\n",
    "            # Add to the normalized list\n",
    "            normalized.append(lower_token)\n",
    "            \n",
    "            \n",
    "        if keyword.lower() in normalized:\n",
    "                keywords.append(i)\n",
    "\n",
    "    return keywords"
   ]
  },
  {
   "cell_type": "code",
   "execution_count": null,
   "id": "f3094ade",
   "metadata": {},
   "outputs": [],
   "source": [
    "def multi_word_search(doc_list, keywords):\n",
    "    \"\"\"\n",
    "    Takes list of documents (each document is a string) and a list of keywords.  \n",
    "    Returns a dictionary where each key is a keyword, and the value is a list of indices\n",
    "    (from doc_list) of the documents containing that keyword\n",
    "\n",
    "    >>> doc_list = [\"The Learn Python Challenge Casino.\", \"They bought a car and a casino\", \"Casinoville\"]\n",
    "    >>> keywords = ['casino', 'they']\n",
    "    >>> multi_word_search(doc_list, keywords)\n",
    "    {'casino': [0, 1], 'they': [1]}\n",
    "    \"\"\"\n",
    "    \n",
    "    keyword_to_indices = {}\n",
    "    \n",
    "    for keyword in keywords:\n",
    "        # Find documents containing this keyword\n",
    "        indices = word_search(doc_list, keyword)\n",
    "        # Add to dictionary\n",
    "        keyword_to_indices[keyword] = indices\n",
    "    \n",
    "    return keyword_to_indices"
   ]
  },
  {
   "cell_type": "code",
   "execution_count": null,
   "id": "084fc3ec",
   "metadata": {},
   "outputs": [
    {
     "name": "stdout",
     "output_type": "stream",
     "text": [
      "{'casino': [0, 1], 'they': [1]}\n"
     ]
    }
   ],
   "source": [
    "doc_list = [\"The Learn Python Challenge Casino.\", \"They bought a car and a casino\", \"Casinoville\"]\n",
    "keywords = ['casino', 'they']\n",
    "print(multi_word_search(doc_list, keywords))\n"
   ]
  },
  {
   "cell_type": "code",
   "execution_count": null,
   "id": "6fbb8f84",
   "metadata": {},
   "outputs": [
    {
     "name": "stdout",
     "output_type": "stream",
     "text": [
      "0 a\n",
      "1 b\n",
      "2 c\n",
      "3 d\n"
     ]
    }
   ],
   "source": [
    "# BUILT-IN SEQUENCE\n",
    "\n",
    "#enumerate() function adds a counter to an iterable and returns it (the enumerate object).\n",
    "\n",
    "letters = ['a', 'b', 'c', 'd']\n",
    "for i in range(len(letters)):\n",
    "    print(i, letters[i])"
   ]
  },
  {
   "cell_type": "code",
   "execution_count": null,
   "id": "9fdf1aac",
   "metadata": {},
   "outputs": [
    {
     "name": "stdout",
     "output_type": "stream",
     "text": [
      "0 a\n",
      "1 b\n",
      "2 c\n",
      "3 d\n"
     ]
    }
   ],
   "source": [
    "for index, val in enumerate(letters):  # enumerate() returns a tuple (index, value)\n",
    "    print(index, val)"
   ]
  },
  {
   "cell_type": "code",
   "execution_count": null,
   "id": "a5a612a0",
   "metadata": {},
   "outputs": [
    {
     "data": {
      "text/plain": [
       "[1, 2, 3, 4]"
      ]
     },
     "execution_count": 29,
     "metadata": {},
     "output_type": "execute_result"
    }
   ],
   "source": [
    "# sorted  returns a new sorted list from the elements of any sequence:\n",
    "\n",
    "sorted([4, 2, 3, 1])\n"
   ]
  },
  {
   "cell_type": "code",
   "execution_count": null,
   "id": "b373bdc8",
   "metadata": {},
   "outputs": [
    {
     "data": {
      "text/plain": [
       "['o', 'l', 'l', 'e', 'h']"
      ]
     },
     "execution_count": 30,
     "metadata": {},
     "output_type": "execute_result"
    }
   ],
   "source": [
    "#reversed returns an iterator that accesses the given sequence in the reverse order.\n",
    "\n",
    "list(reversed('hello'))"
   ]
  },
  {
   "cell_type": "code",
   "execution_count": null,
   "id": "85c0b755",
   "metadata": {},
   "outputs": [
    {
     "data": {
      "text/plain": [
       "[(1, 'a', True), (2, 'b', False), (3, 'c', True)]"
      ]
     },
     "execution_count": 32,
     "metadata": {},
     "output_type": "execute_result"
    }
   ],
   "source": [
    "# zip combines multiple lists into a single iterable of tuples (element-wise):\n",
    "\n",
    "list(zip([1,2,3], ['a', 'b', 'c'], [True, False, True]))"
   ]
  },
  {
   "cell_type": "code",
   "execution_count": null,
   "id": "4efec0f8",
   "metadata": {},
   "outputs": [
    {
     "name": "stdout",
     "output_type": "stream",
     "text": [
      "0 a 1\n",
      "1 b 2\n",
      "2 c 3\n"
     ]
    }
   ],
   "source": [
    "for ind, (a,b) in enumerate(zip(['a','b','c'],[1,2,3])):  # enumerate gives index and element, zip combines them into pairs\n",
    "    print(ind, a, b)"
   ]
  },
  {
   "cell_type": "code",
   "execution_count": null,
   "id": "62f55340",
   "metadata": {},
   "outputs": [
    {
     "name": "stdout",
     "output_type": "stream",
     "text": [
      "[0, 1, 4, 9, 16, 25, 36, 49, 64, 81]\n"
     ]
    }
   ],
   "source": [
    "# Comprehensions\n",
    "\n",
    "# List comprehensions - [expr for value in collection if condition]\n",
    "squares = [x**2 for x in range(10)]\n",
    "print(squares)"
   ]
  },
  {
   "cell_type": "code",
   "execution_count": null,
   "id": "b4e10b8e",
   "metadata": {},
   "outputs": [
    {
     "name": "stdout",
     "output_type": "stream",
     "text": [
      "['HELLO', 'WORLD']\n"
     ]
    }
   ],
   "source": [
    "strings = [\"hello\", \"world\"]\n",
    "capitalized_strings = [s.upper() for s in strings] # List of uppercase strings\n",
    "print(capitalized_strings)"
   ]
  },
  {
   "cell_type": "code",
   "execution_count": null,
   "id": "b3c6f033",
   "metadata": {},
   "outputs": [
    {
     "name": "stdout",
     "output_type": "stream",
     "text": [
      "['foo', 'bar']\n"
     ]
    }
   ],
   "source": [
    "strings2 = [\"hello\", \"world\", \"foo\", \"bar\"]\n",
    "short_strings = [s for s in strings2 if len(s) <= 3] # List of short strings with the condition if length is less than or equal to 3\n",
    "print(short_strings)"
   ]
  },
  {
   "cell_type": "code",
   "execution_count": null,
   "id": "1b62ecf6",
   "metadata": {},
   "outputs": [
    {
     "name": "stdout",
     "output_type": "stream",
     "text": [
      "[1, 2, 3, 4, 5, 6, 7, 8, 9]\n"
     ]
    }
   ],
   "source": [
    "#nestled list comprehension\n",
    "matrix = [[1, 2, 3], [4, 5, 6], [7, 8, 9]]\n",
    "flattened = [num for row in matrix for num in row] # List comprehension to flatten a nested list\n",
    "print(flattened)"
   ]
  },
  {
   "cell_type": "code",
   "execution_count": null,
   "id": "f7f71f83",
   "metadata": {},
   "outputs": [
    {
     "name": "stdout",
     "output_type": "stream",
     "text": [
      "{1: 1, 2: 4, 3: 9, 4: 16, 5: 25}\n"
     ]
    }
   ],
   "source": [
    "# dict comprehension\n",
    "\n",
    "# dict_comp = {key-expr: value-expr for value in collection if condition}\n",
    "\n",
    "# Example: Create a dictionary where keys are numbers and values are their squares.\n",
    "squares = {x: x**2 for x in range(1, 6)} # Dictionary comprehension to create a dictionary of numbers and their squares from 1 to 5\n",
    "print(squares)"
   ]
  },
  {
   "cell_type": "code",
   "execution_count": null,
   "id": "016d0f27",
   "metadata": {},
   "outputs": [
    {
     "name": "stdout",
     "output_type": "stream",
     "text": [
      "{3, 5}\n"
     ]
    }
   ],
   "source": [
    "# set comprehension\n",
    "\n",
    "# set_comp = {expr for value in collection if condition}\n",
    "\n",
    "uni_len = {len(x) for x in strings2} # Set comprehension to find the unique lengths of strings in the list 'strings2'\n",
    "print(uni_len)"
   ]
  },
  {
   "cell_type": "code",
   "execution_count": null,
   "id": "486e9936",
   "metadata": {},
   "outputs": [
    {
     "data": {
      "text/plain": [
       "{3, 5}"
      ]
     },
     "execution_count": 45,
     "metadata": {},
     "output_type": "execute_result"
    }
   ],
   "source": [
    "set(map(len, strings2)) # Using map and set functions to achieve the same result as above"
   ]
  },
  {
   "cell_type": "code",
   "execution_count": null,
   "id": "1cb7734a",
   "metadata": {},
   "outputs": [],
   "source": [
    "name_data = [[\"John\", \"Emily\", \"Michael\", \"Mary\", \"Steven\"],\n",
    " [\"Helen\", \"Bill\", \"Rick\", \"Betty\", \"Tom\"],\n",
    " [\"Maria\", \"Juan\", \"Javier\", \"Natalia\", \"Pilar\"]]"
   ]
  },
  {
   "cell_type": "code",
   "execution_count": null,
   "id": "3b07acf5",
   "metadata": {},
   "outputs": [
    {
     "data": {
      "text/plain": [
       "[['John', 'Emily', 'Michael', 'Mary', 'Steven'],\n",
       " ['Helen', 'Bill', 'Rick', 'Betty', 'Tom'],\n",
       " ['Maria', 'Juan', 'Javier', 'Natalia', 'Pilar']]"
      ]
     },
     "execution_count": 3,
     "metadata": {},
     "output_type": "execute_result"
    }
   ],
   "source": [
    "[names for names in name_data if len(names) > 4]"
   ]
  },
  {
   "cell_type": "code",
   "execution_count": null,
   "id": "cf92497b",
   "metadata": {},
   "outputs": [
    {
     "data": {
      "text/plain": [
       "['Emily',\n",
       " 'Michael',\n",
       " 'Steven',\n",
       " 'Helen',\n",
       " 'Betty',\n",
       " 'Maria',\n",
       " 'Javier',\n",
       " 'Natalia',\n",
       " 'Pilar']"
      ]
     },
     "execution_count": 4,
     "metadata": {},
     "output_type": "execute_result"
    }
   ],
   "source": [
    "[name for names in name_data for name in names if len(name) > 4 ] #   nested list comprehension\n"
   ]
  },
  {
   "cell_type": "code",
   "execution_count": 162,
   "id": "e7ccb1ec",
   "metadata": {},
   "outputs": [
    {
     "name": "stdout",
     "output_type": "stream",
     "text": [
      "[11, 12, 13, 14, 15, 16, 17]\n"
     ]
    }
   ],
   "source": [
    "liste6 = [1,2,3,4,5,6,7]\n",
    "\n",
    "for i in range(len(liste6)):\n",
    "    liste6[i] += 10\n",
    "\n",
    "print(liste6)"
   ]
  },
  {
   "cell_type": "code",
   "execution_count": 164,
   "id": "363cfef6",
   "metadata": {},
   "outputs": [
    {
     "data": {
      "text/plain": [
       "[21, 22, 23, 24, 25, 26, 27]"
      ]
     },
     "execution_count": 164,
     "metadata": {},
     "output_type": "execute_result"
    }
   ],
   "source": [
    "#let's replace the loop with a single expression:\n",
    "\n",
    "[x + 10 for x in liste6] # not exactly same as it makes a new list object"
   ]
  },
  {
   "cell_type": "code",
   "execution_count": null,
   "id": "7aa6a870",
   "metadata": {},
   "outputs": [
    {
     "data": {
      "text/plain": [
       "[1, 4, 7]"
      ]
     },
     "execution_count": 171,
     "metadata": {},
     "output_type": "execute_result"
    }
   ],
   "source": [
    "liste7 =  [\n",
    "    [1, 2, 3],\n",
    "    [4, 5, 6],\n",
    "    [7, 8, 9]\n",
    "    ]\n",
    "\n",
    "[col[0] for col in liste7] #  \"for each column in liste7, take the first element\""
   ]
  },
  {
   "cell_type": "code",
   "execution_count": 173,
   "id": "a290e05b",
   "metadata": {},
   "outputs": [
    {
     "data": {
      "text/plain": [
       "[3, 6, 9]"
      ]
     },
     "execution_count": 173,
     "metadata": {},
     "output_type": "execute_result"
    }
   ],
   "source": [
    "[col[2] for col in liste7] # \"for each column in liste7, take the third element\""
   ]
  },
  {
   "cell_type": "code",
   "execution_count": 177,
   "id": "b0e21513",
   "metadata": {},
   "outputs": [
    {
     "name": "stdout",
     "output_type": "stream",
     "text": [
      "[1, 3]\n"
     ]
    }
   ],
   "source": [
    "# a way to build a new list by running an expression on each item in a sequence, one at a time, from left to right\n",
    "# [expression for item in iterable]\n",
    "\n",
    "# composed of an expression and a looping construct that share a variable name \n",
    "\n",
    "liste8 = [[1, 2], [3, 4]]\n",
    "new_liste = [col[0] for col in liste8]\n",
    "print(new_liste)"
   ]
  },
  {
   "cell_type": "code",
   "execution_count": 178,
   "id": "8cac28e9",
   "metadata": {},
   "outputs": [
    {
     "data": {
      "text/plain": [
       "[12, 14]"
      ]
     },
     "execution_count": 178,
     "metadata": {},
     "output_type": "execute_result"
    }
   ],
   "source": [
    "[x[1] + 10 for x in liste8]"
   ]
  },
  {
   "cell_type": "code",
   "execution_count": 182,
   "id": "ce161d89",
   "metadata": {},
   "outputs": [
    {
     "data": {
      "text/plain": [
       "[12, 14]"
      ]
     },
     "execution_count": 182,
     "metadata": {},
     "output_type": "execute_result"
    }
   ],
   "source": [
    "#filter out odd numbers\n",
    "[x + 10 for y in liste8 for x in y if x % 2 == 0]"
   ]
  },
  {
   "cell_type": "code",
   "execution_count": 184,
   "id": "492ac912",
   "metadata": {},
   "outputs": [
    {
     "data": {
      "text/plain": [
       "[11, 12, 13, 14]"
      ]
     },
     "execution_count": 184,
     "metadata": {},
     "output_type": "execute_result"
    }
   ],
   "source": [
    "[x + 10 for y in liste8 for x in y] # without the filter condition"
   ]
  },
  {
   "cell_type": "code",
   "execution_count": 185,
   "id": "a096eb47",
   "metadata": {},
   "outputs": [
    {
     "data": {
      "text/plain": [
       "['TT', 'oo', 'yy', 'gg', 'aa', 'rr']"
      ]
     },
     "execution_count": 185,
     "metadata": {},
     "output_type": "execute_result"
    }
   ],
   "source": [
    "# double the chracters in a string\n",
    "[char * 2 for char in \"Toygar\"]"
   ]
  },
  {
   "cell_type": "code",
   "execution_count": null,
   "id": "3ec9ce8a",
   "metadata": {},
   "outputs": [
    {
     "name": "stdout",
     "output_type": "stream",
     "text": [
      "[11, 12, 13, 14, 15, 16, 17]\n"
     ]
    },
    {
     "data": {
      "text/plain": [
       "[22, 24, 26, 28, 30, 32, 34]"
      ]
     },
     "execution_count": 190,
     "metadata": {},
     "output_type": "execute_result"
    }
   ],
   "source": [
    "print(liste6)\n",
    "list(map(lambda x: x*2, liste6)) # map function with a lambda function[ lambda x: x * 2 for x in liste6]"
   ]
  },
  {
   "cell_type": "code",
   "execution_count": 195,
   "id": "882e0e29",
   "metadata": {},
   "outputs": [
    {
     "data": {
      "text/plain": [
       "[[0, 0, 0],\n",
       " [1, 1, 1],\n",
       " [4, 8, 16],\n",
       " [9, 27, 81],\n",
       " [16, 64, 256],\n",
       " [25, 125, 625],\n",
       " [36, 216, 1296],\n",
       " [49, 343, 2401],\n",
       " [64, 512, 4096],\n",
       " [81, 729, 6561]]"
      ]
     },
     "execution_count": 195,
     "metadata": {},
     "output_type": "execute_result"
    }
   ],
   "source": [
    "[[x ** 2, x ** 3, x ** 4] for x in range(10)] # list comprehension, creates a list of lists with powers of x from 2 to 4, i.e., [x^2, x^3, x^4] for each x in range(10)"
   ]
  },
  {
   "cell_type": "code",
   "execution_count": 198,
   "id": "a4070f27",
   "metadata": {},
   "outputs": [
    {
     "data": {
      "text/plain": [
       "[[1, 0.5, 1],\n",
       " [2, 1.0, 4],\n",
       " [3, 1.5, 9],\n",
       " [4, 2.0, 16],\n",
       " [5, 2.5, 25],\n",
       " [6, 3.0, 36],\n",
       " [7, 3.5, 49],\n",
       " [8, 4.0, 64],\n",
       " [9, 4.5, 81]]"
      ]
     },
     "execution_count": 198,
     "metadata": {},
     "output_type": "execute_result"
    }
   ],
   "source": [
    "#expressions can be used to collect multiple values \n",
    "[[x, x/2, x**2] for x in range(-5,10) if x > 0] # list comprehension, conditionals, nested lists, giving us a list of lists of numbers which are greater than 0"
   ]
  },
  {
   "cell_type": "code",
   "execution_count": 199,
   "id": "1a8c12d4",
   "metadata": {},
   "outputs": [
    {
     "data": {
      "text/plain": [
       "[[1, 2, 3], [4, 5, 6], [7, 8, 9]]"
      ]
     },
     "execution_count": 199,
     "metadata": {},
     "output_type": "execute_result"
    }
   ],
   "source": [
    "liste7"
   ]
  },
  {
   "cell_type": "code",
   "execution_count": 211,
   "id": "f7d00229",
   "metadata": {},
   "outputs": [
    {
     "data": {
      "text/plain": [
       "[6, 15, 24]"
      ]
     },
     "execution_count": 211,
     "metadata": {},
     "output_type": "execute_result"
    }
   ],
   "source": [
    "[sum(x) for x in liste7] # sum all elements of each sublists and create a new list with these sums"
   ]
  },
  {
   "cell_type": "code",
   "execution_count": 217,
   "id": "b6cf9cfa",
   "metadata": {},
   "outputs": [
    {
     "data": {
      "text/plain": [
       "['1a', '1b', '1c', '2a', '2b', '2c', '3a', '3b', '3c']"
      ]
     },
     "execution_count": 217,
     "metadata": {},
     "output_type": "execute_result"
    }
   ],
   "source": [
    "\n",
    "[str(x) + y for x in [1,2,3] for y in \"abc\"] # list comprehension with nested loops, creates all combinations of elements from both lists"
   ]
  },
  {
   "cell_type": "code",
   "execution_count": 6,
   "id": "8940c12f",
   "metadata": {},
   "outputs": [
    {
     "data": {
      "text/plain": [
       "[1, -2, -4, 5, 7, -8, -10, 11, 13, -14, -16, 17, 19]"
      ]
     },
     "execution_count": 6,
     "metadata": {},
     "output_type": "execute_result"
    }
   ],
   "source": [
    "[val if val % 2 else -val for val in range(20) if val % 3] # conditional on the value and conditional on the iterator, evaluating whether a value is truthy or falsy\n",
    "\n",
    "# excludes 0 and other numbers divisible by 3 because they evaluate to Falsy in Python, and assign even numbers as negative values of numbers divisible by 2."
   ]
  },
  {
   "cell_type": "code",
   "execution_count": 5,
   "id": "e3819d60",
   "metadata": {},
   "outputs": [
    {
     "data": {
      "text/plain": [
       "[0, -3, 6, -9, 12, -15, 18]"
      ]
     },
     "execution_count": 5,
     "metadata": {},
     "output_type": "execute_result"
    }
   ],
   "source": [
    "[val if val % 2 == 0 else -val for val in range(20) if val % 3 == 0]\n",
    "\n",
    "# includes numbers that are divisible by 3, and assign negative sign to those that are divisible by 2."
   ]
  },
  {
   "cell_type": "markdown",
   "id": "1ad95d4c",
   "metadata": {},
   "source": [
    "Filtering: When placed at the end of the list comprehension, like if val % 3, it acts as a filter and excludes values where the condition is false.\n",
    "\n",
    "Conditional Expression: When used within the list comprehension before the for loop (like val if val % 2 else -val), it determines what to include based on a condition, but doesn't exclude anything."
   ]
  },
  {
   "cell_type": "code",
   "execution_count": null,
   "id": "f4203e74",
   "metadata": {},
   "outputs": [
    {
     "data": {
      "text/plain": [
       "[1, 2, 4, 5, 7, 8, 10, 11, 13, 14, 16, 17, 19]"
      ]
     },
     "execution_count": 8,
     "metadata": {},
     "output_type": "execute_result"
    }
   ],
   "source": [
    "dizi1 = range(20)\n",
    "[i for i in dizi1 if i % 3] # 3'e bölünemeyenler, iterator üzerine koşullu ifade"
   ]
  },
  {
   "cell_type": "code",
   "execution_count": 14,
   "id": "80c9d9bc",
   "metadata": {},
   "outputs": [
    {
     "data": {
      "text/plain": [
       "[None,\n",
       " 1,\n",
       " None,\n",
       " 3,\n",
       " None,\n",
       " 5,\n",
       " None,\n",
       " 7,\n",
       " None,\n",
       " 9,\n",
       " None,\n",
       " 11,\n",
       " None,\n",
       " 13,\n",
       " None,\n",
       " 15,\n",
       " None,\n",
       " 17,\n",
       " None,\n",
       " 19]"
      ]
     },
     "execution_count": 14,
     "metadata": {},
     "output_type": "execute_result"
    }
   ],
   "source": [
    "[x if x % 2 else None for x in dizi1] # Listede values üzerinde bir koşul kontrolü yaparak elemanlarla ne yapacağımız belirliyoruz"
   ]
  },
  {
   "cell_type": "code",
   "execution_count": 15,
   "id": "3a8c0126",
   "metadata": {},
   "outputs": [
    {
     "data": {
      "text/plain": [
       "[0, 1, -2, 3, -4, 5, -6, 7, -8, 9, -10, 11, -12, 13, -14, 15, -16, 17, -18, 19]"
      ]
     },
     "execution_count": 15,
     "metadata": {},
     "output_type": "execute_result"
    }
   ],
   "source": [
    "[x if x % 2 else -x for x in dizi1] # decides how to include values, what to do with each value, change how the values are included"
   ]
  },
  {
   "cell_type": "markdown",
   "id": "ae1aaf30",
   "metadata": {},
   "source": [
    "# Functions\n",
    "\n",
    "In simple terms, a function is a device that groups a set of statements so they can be run more than once in a program—a packaged procedure invoked by name. \n",
    "\n",
    "def name(arg1, arg2,... argN):\n",
    "\n",
    "statements\n",
    "\n",
    "def name(arg1, arg2,... argN):\n",
    "\n",
    "    \"\"\"docstring (optional)\"\"\"\n",
    "...\n",
    "\n",
    "return value"
   ]
  },
  {
   "cell_type": "code",
   "execution_count": null,
   "id": "000c7ddd",
   "metadata": {},
   "outputs": [],
   "source": [
    "# declare it by def word:\n",
    "def word():\n",
    "    return \"Hello World\" #  A function contains a block of code with an optional use of the return keyword"
   ]
  },
  {
   "cell_type": "code",
   "execution_count": 2,
   "id": "d59361f3",
   "metadata": {},
   "outputs": [
    {
     "data": {
      "text/plain": [
       "'Hello World'"
      ]
     },
     "execution_count": 2,
     "metadata": {},
     "output_type": "execute_result"
    }
   ],
   "source": [
    "word()"
   ]
  },
  {
   "cell_type": "code",
   "execution_count": 7,
   "id": "cf50bab8",
   "metadata": {},
   "outputs": [
    {
     "data": {
      "text/plain": [
       "3"
      ]
     },
     "execution_count": 7,
     "metadata": {},
     "output_type": "execute_result"
    }
   ],
   "source": [
    "def my_func(x , y):  # defining the function\n",
    "    \n",
    "    return x+y\n",
    "\n",
    "my_func(1,2)"
   ]
  },
  {
   "cell_type": "code",
   "execution_count": 8,
   "id": "fe8f1448",
   "metadata": {},
   "outputs": [
    {
     "name": "stdout",
     "output_type": "stream",
     "text": [
      "sum = 3\n"
     ]
    }
   ],
   "source": [
    "# function without a return\n",
    "def my_func(a, b):\n",
    "    \n",
    "    print('sum =', a + b)\n",
    "\n",
    "my_func(1, 2)"
   ]
  },
  {
   "cell_type": "code",
   "execution_count": 10,
   "id": "904e501e",
   "metadata": {},
   "outputs": [
    {
     "name": "stdout",
     "output_type": "stream",
     "text": [
      "sum = 7\n"
     ]
    }
   ],
   "source": [
    "a = my_func(3, 4) # save the result in a variable\n",
    "\n",
    "a"
   ]
  },
  {
   "cell_type": "code",
   "execution_count": null,
   "id": "3ff3c319",
   "metadata": {},
   "outputs": [
    {
     "name": "stdout",
     "output_type": "stream",
     "text": [
      "[1, 2, 3]\n",
      "['a', 'b', 'c']\n"
     ]
    }
   ],
   "source": [
    "seq1 = [1,2,3]\n",
    "seq2 = ['a','b','c']\n",
    "seq3 = seq1 + seq2\n",
    "seq4 = []\n",
    "seq5 = []\n",
    "for i in seq3:\n",
    "    if isinstance(i, int):\n",
    "        seq4.append(int(i))\n",
    "    else: \n",
    "        if isinstance(i, str):\n",
    "            seq5.append(i)\n",
    "\n",
    "\n",
    "print(seq4)\n",
    "print(seq5)"
   ]
  },
  {
   "cell_type": "code",
   "execution_count": 1,
   "id": "0e935dc6",
   "metadata": {},
   "outputs": [
    {
     "name": "stdout",
     "output_type": "stream",
     "text": [
      "1 2 3\n"
     ]
    }
   ],
   "source": [
    "# return multiples values\n",
    "\n",
    "def func():\n",
    "    a = 1\n",
    "    b = 2\n",
    "    c = 3\n",
    "    return a,b,c\n",
    "\n",
    "\n",
    "x,y,z = func()\n",
    "\n",
    "print(x,y,z)"
   ]
  },
  {
   "cell_type": "code",
   "execution_count": null,
   "id": "6079f4a2",
   "metadata": {},
   "outputs": [],
   "source": []
  }
 ],
 "metadata": {
  "kernelspec": {
   "display_name": "base",
   "language": "python",
   "name": "python3"
  },
  "language_info": {
   "codemirror_mode": {
    "name": "ipython",
    "version": 3
   },
   "file_extension": ".py",
   "mimetype": "text/x-python",
   "name": "python",
   "nbconvert_exporter": "python",
   "pygments_lexer": "ipython3",
   "version": "3.12.9"
  }
 },
 "nbformat": 4,
 "nbformat_minor": 5
}
